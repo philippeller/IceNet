{
 "cells": [
  {
   "cell_type": "code",
   "execution_count": 1,
   "metadata": {},
   "outputs": [],
   "source": [
    "import os\n",
    "#os.environ[\"CUDA_VISIBLE_DEVICES\"]=\"1\"\n",
    "os.environ[\"HDF5_USE_FILE_LOCKING\"] = \"FALSE\""
   ]
  },
  {
   "cell_type": "code",
   "execution_count": 97,
   "metadata": {},
   "outputs": [
    {
     "name": "stdout",
     "output_type": "stream",
     "text": [
      "The autoreload extension is already loaded. To reload it, use:\n",
      "  %reload_ext autoreload\n"
     ]
    }
   ],
   "source": [
    "from __future__ import division, print_function\n",
    "import numpy as np\n",
    "import matplotlib.pyplot as plt\n",
    "import tensorflow as tf\n",
    "\n",
    "%load_ext autoreload\n",
    "%autoreload 2\n",
    "\n",
    "from dataloader import get_single_hits\n",
    "from sklearn.model_selection import train_test_split\n",
    "\n",
    "from scipy import constants\n",
    "\n",
    "import gc\n",
    "\n",
    "\n",
    "#import eli5\n",
    "#from eli5.sklearn import PermutationImportance"
   ]
  },
  {
   "cell_type": "code",
   "execution_count": 4,
   "metadata": {},
   "outputs": [
    {
     "data": {
      "text/plain": [
       "True"
      ]
     },
     "execution_count": 4,
     "metadata": {},
     "output_type": "execute_result"
    }
   ],
   "source": [
    "tf.test.is_gpu_available()"
   ]
  },
  {
   "cell_type": "code",
   "execution_count": 47,
   "metadata": {},
   "outputs": [],
   "source": [
    "labels = ['x', 'y', 'z', 'time', 'azimuth','zenith', 'energy']"
   ]
  },
  {
   "cell_type": "code",
   "execution_count": 82,
   "metadata": {},
   "outputs": [
    {
     "name": "stderr",
     "output_type": "stream",
     "text": [
      " 79%|███████▊  | 78624/100000 [00:03<00:01, 20027.23it/s]\n"
     ]
    }
   ],
   "source": [
    "hits, charges, params = get_single_hits('../test_data/oscNext_genie_level3_v01.03_pass2.120000.000000.hdf5', labels=labels)"
   ]
  },
  {
   "cell_type": "code",
   "execution_count": null,
   "metadata": {},
   "outputs": [
    {
     "name": "stderr",
     "output_type": "stream",
     "text": [
      "  0%|          | 0/406784 [00:00<?, ?it/s]"
     ]
    },
    {
     "name": "stdout",
     "output_type": "stream",
     "text": [
      "Skipping file ../test_data/oscNext_genie_level3_v01.03_pass2.140000.000000.hdf5\n"
     ]
    },
    {
     "name": "stderr",
     "output_type": "stream",
     "text": [
      " 41%|████      | 167377/406784 [00:18<00:10, 22028.33it/s]"
     ]
    }
   ],
   "source": [
    "hits_list = []\n",
    "charges_list = []\n",
    "params_list = []\n",
    "\n",
    "for i in range(10):\n",
    "    #fname = '../test_data/oscNext_genie_level3_v01.03_pass2.120000.000%s0.hdf5'%('%s'%i).zfill(2)\n",
    "    fname = '../test_data/oscNext_genie_level3_v01.03_pass2.140000.000%s00.hdf5'%i\n",
    "    try:\n",
    "        hits, charges, params = get_single_hits(\n",
    "            fname,\n",
    "            labels = labels,\n",
    "            )\n",
    "        hits_list.append(hits)\n",
    "        charges_list.append(charges)\n",
    "        params_list.append(params)\n",
    "    except OSError:\n",
    "        print('Skipping file %s'%fname)\n",
    "        #raise Exception\n",
    "\n",
    "hits = np.concatenate(hits_list)\n",
    "charges = np.concatenate(charges_list)\n",
    "params = np.concatenate(params_list)\n",
    "\n"
   ]
  },
  {
   "cell_type": "code",
   "execution_count": 168,
   "metadata": {},
   "outputs": [],
   "source": [
    "hits_train, hits_test, charges_train, charges_test, params_train, params_test = train_test_split(hits, charges, params, test_size=0.1, random_state=42)"
   ]
  },
  {
   "cell_type": "code",
   "execution_count": 169,
   "metadata": {},
   "outputs": [],
   "source": [
    "azimuth_idx = labels.index('azimuth')\n",
    "zenith_idx = labels.index('zenith')\n",
    "time_idx = labels.index('time')\n",
    "x_idx = labels.index('x')\n",
    "y_idx = labels.index('y')\n",
    "z_idx = labels.index('z')\n",
    "energy_idx = labels.index('energy')\n",
    "\n",
    "c = constants.c * 1e-9 # c in m / ns\n",
    "\n",
    "class trafo(tf.keras.layers.Layer):\n",
    "\n",
    "    def call(self, hit, params):\n",
    "        \n",
    "        dir_x = tf.math.sin(params[:, zenith_idx]) * tf.math.cos(params[:, azimuth_idx])\n",
    "        dir_y = tf.math.sin(params[:, zenith_idx]) * tf.math.sin(params[:, azimuth_idx])\n",
    "        dir_z = tf.math.cos(params[:, zenith_idx])\n",
    "        \n",
    "        d_time = hit[:,3] - params[:, time_idx]\n",
    "        d_x = hit[:,0] - params[:, x_idx]\n",
    "        d_y = hit[:,1] - params[:, y_idx]\n",
    "        d_z = hit[:,2] - params[:, z_idx]\n",
    "        \n",
    "        dist = tf.math.sqrt(tf.math.square(d_x) + tf.math.square(d_y) + tf.math.square(d_z))\n",
    "        \n",
    "        # difference c*t - r\n",
    "        delta = d_time * c - dist\n",
    "\n",
    "        energy = params[:, energy_idx]\n",
    "        \n",
    "        out = tf.concat([hit[:, 0:3], delta[:, tf.newaxis], dist[:, tf.newaxis], dir_x[:, tf.newaxis], dir_y[:, tf.newaxis], dir_z[:, tf.newaxis], energy[:, tf.newaxis]], axis=1)\n",
    "                \n",
    "        return out"
   ]
  },
  {
   "cell_type": "code",
   "execution_count": 170,
   "metadata": {},
   "outputs": [],
   "source": [
    "class LossHistory(tf.keras.callbacks.Callback):\n",
    "    def __init__(self):\n",
    "        self.train_losses = []\n",
    "        self.test_losses = []\n",
    "\n",
    "    def on_train_batch_end(self, batch, logs={}):\n",
    "        self.train_losses.append(logs.get('loss'))\n",
    "        \n",
    "    def on_test_batch_end(self, batch, logs={}):\n",
    "        self.test_losses.append(logs.get('loss'))\n",
    "   "
   ]
  },
  {
   "cell_type": "code",
   "execution_count": 184,
   "metadata": {},
   "outputs": [
    {
     "name": "stdout",
     "output_type": "stream",
     "text": [
      "Model: \"model_7\"\n",
      "__________________________________________________________________________________________________\n",
      "Layer (type)                    Output Shape         Param #     Connected to                     \n",
      "==================================================================================================\n",
      "input_19 (InputLayer)           [(None, 4)]          0                                            \n",
      "__________________________________________________________________________________________________\n",
      "input_20 (InputLayer)           [(None, 7)]          0                                            \n",
      "__________________________________________________________________________________________________\n",
      "trafo_10 (trafo)                (None, 9)            0           input_19[0][0]                   \n",
      "__________________________________________________________________________________________________\n",
      "dense_36 (Dense)                (None, 32)           320         trafo_10[0][0]                   \n",
      "__________________________________________________________________________________________________\n",
      "dense_37 (Dense)                (None, 64)           2112        dense_36[0][0]                   \n",
      "__________________________________________________________________________________________________\n",
      "dense_38 (Dense)                (None, 128)          8320        dense_37[0][0]                   \n",
      "__________________________________________________________________________________________________\n",
      "dense_39 (Dense)                (None, 64)           8256        dense_38[0][0]                   \n",
      "__________________________________________________________________________________________________\n",
      "dense_40 (Dense)                (None, 32)           2080        dense_39[0][0]                   \n",
      "__________________________________________________________________________________________________\n",
      "dense_41 (Dense)                (None, 1)            33          dense_40[0][0]                   \n",
      "==================================================================================================\n",
      "Total params: 21,121\n",
      "Trainable params: 21,121\n",
      "Non-trainable params: 0\n",
      "__________________________________________________________________________________________________\n"
     ]
    }
   ],
   "source": [
    "activation='relu'\n",
    "\n",
    "\n",
    "hits_input = tf.keras.Input(shape=(4,))\n",
    "params_input = tf.keras.Input(shape=(len(labels),))\n",
    "t = trafo()\n",
    "\n",
    "h = t(hits_input, params_input)\n",
    "h = tf.keras.layers.Dense(32, activation=\"relu\")(h)\n",
    "h = tf.keras.layers.Dense(64, activation=\"relu\")(h)\n",
    "h = tf.keras.layers.Dense(128, activation=\"relu\")(h)\n",
    "h = tf.keras.layers.Dense(64, activation=\"relu\")(h)\n",
    "h = tf.keras.layers.Dense(32, activation=\"relu\")(h)\n",
    "outputs = tf.keras.layers.Dense(1, activation='sigmoid')(h)\n",
    "\n",
    "\n",
    "model = tf.keras.Model(inputs=[hits_input, params_input], outputs=outputs)\n",
    "\n",
    "\n",
    "model.summary()\n",
    "\n",
    "my_history = LossHistory()\n",
    "\n",
    "\n",
    "loss_history = []\n",
    "val_loss_history = []"
   ]
  },
  {
   "cell_type": "code",
   "execution_count": 186,
   "metadata": {},
   "outputs": [],
   "source": [
    "optimizer = tf.keras.optimizers.Adam(0.0005)\n",
    "\n",
    "model.compile(loss='binary_crossentropy', optimizer=optimizer)"
   ]
  },
  {
   "cell_type": "code",
   "execution_count": 187,
   "metadata": {},
   "outputs": [],
   "source": [
    "def shuffle(hits, params):\n",
    "    shuffled_hits = np.vstack([hits, hits])\n",
    "    shuffled_params = np.vstack([params, np.random.permutation(params)])\n",
    "    target = np.concatenate([np.ones(hits.shape[0]), np.zeros(hits.shape[0])])\n",
    "    return shuffled_hits, shuffled_params, target"
   ]
  },
  {
   "cell_type": "code",
   "execution_count": 219,
   "metadata": {},
   "outputs": [
    {
     "name": "stdout",
     "output_type": "stream",
     "text": [
      "Epoch 21\n",
      "Train on 1507012 samples, validate on 167446 samples\n",
      "1507012/1507012 [==============================] - 2s 2us/sample - loss: 0.3677 - val_loss: 0.3666\n",
      "Epoch 22\n",
      "Train on 1507012 samples, validate on 167446 samples\n",
      "1507012/1507012 [==============================] - 3s 2us/sample - loss: 0.3673 - val_loss: 0.3674\n",
      "Epoch 23\n",
      "Train on 1507012 samples, validate on 167446 samples\n",
      "1507012/1507012 [==============================] - 3s 2us/sample - loss: 0.3670 - val_loss: 0.3656\n",
      "Epoch 24\n",
      "Train on 1507012 samples, validate on 167446 samples\n",
      "1507012/1507012 [==============================] - 3s 2us/sample - loss: 0.3664 - val_loss: 0.3664\n",
      "Epoch 25\n",
      "Train on 1507012 samples, validate on 167446 samples\n",
      "1507012/1507012 [==============================] - 3s 2us/sample - loss: 0.3655 - val_loss: 0.3658\n",
      "Epoch 26\n",
      "Train on 1507012 samples, validate on 167446 samples\n",
      "1507012/1507012 [==============================] - 3s 2us/sample - loss: 0.3641 - val_loss: 0.3629\n",
      "Epoch 27\n",
      "Train on 1507012 samples, validate on 167446 samples\n",
      "1507012/1507012 [==============================] - 2s 2us/sample - loss: 0.3638 - val_loss: 0.3642\n",
      "Epoch 28\n",
      "Train on 1507012 samples, validate on 167446 samples\n",
      "1507012/1507012 [==============================] - 2s 2us/sample - loss: 0.3630 - val_loss: 0.3664\n",
      "Epoch 29\n",
      "Train on 1507012 samples, validate on 167446 samples\n",
      "1507012/1507012 [==============================] - 3s 2us/sample - loss: 0.3624 - val_loss: 0.3629\n",
      "Epoch 30\n",
      "Train on 1507012 samples, validate on 167446 samples\n",
      "1507012/1507012 [==============================] - 3s 2us/sample - loss: 0.3618 - val_loss: 0.3611\n"
     ]
    },
    {
     "data": {
      "text/plain": [
       "<matplotlib.legend.Legend at 0x7fcfbc7f4210>"
      ]
     },
     "execution_count": 219,
     "metadata": {},
     "output_type": "execute_result"
    },
    {
     "data": {
      "image/png": "[encoded data removed]",
      "text/plain": [
       "<Figure size 864x576 with 1 Axes>"
      ]
     },
     "metadata": {
      "needs_background": "light"
     },
     "output_type": "display_data"
    }
   ],
   "source": [
    "for i in range(10):\n",
    "    \n",
    "    shuffled_hits_train, shuffled_params_train, outputs_train = shuffle(hits_train, params_train)\n",
    "    shuffled_hits_test, shuffled_params_test, outputs_test = shuffle(hits_test, params_test)\n",
    "    \n",
    "    gc.collect()\n",
    "\n",
    "    print('Epoch %i'%(len(loss_history)+1))\n",
    "    \n",
    "    model.fit([shuffled_hits_train, shuffled_params_train], outputs_train, batch_size=2048, epochs=1, validation_data=([shuffled_hits_test, shuffled_params_test], outputs_test), callbacks=[my_history,])\n",
    "\n",
    "    loss_history.append(model.history.history['loss'])\n",
    "    val_loss_history.append(model.history.history['val_loss'])\n",
    "    \n",
    "\n",
    "fig, ax = plt.subplots(1, 1, figsize=(12,8))\n",
    "x = np.arange(1, len(loss_history)+1)\n",
    "ax.plot(x, np.concatenate(loss_history), label='train')\n",
    "ax.plot(x, np.concatenate(val_loss_history), label='test')\n",
    "ax.set_yscale('log')\n",
    "ax.set_xlabel('Epoch')\n",
    "ax.set_ylabel('Loss')\n",
    "ax.legend()\n"
   ]
  },
  {
   "cell_type": "code",
   "execution_count": 233,
   "metadata": {},
   "outputs": [],
   "source": [
    "hit_idx = 55 #332 #5697\n",
    "\n",
    "true_params = params_test[hit_idx]\n",
    "true_hit = hits_test[hit_idx]"
   ]
  },
  {
   "cell_type": "code",
   "execution_count": 237,
   "metadata": {},
   "outputs": [
    {
     "data": {
      "text/plain": [
       "<matplotlib.lines.Line2D at 0x7fcfa4799910>"
      ]
     },
     "execution_count": 237,
     "metadata": {},
     "output_type": "execute_result"
    },
    {
     "data": {
      "image/png": "[encoded data removed]",
      "text/plain": [
       "<Figure size 432x288 with 1 Axes>"
      ]
     },
     "metadata": {
      "needs_background": "light"
     },
     "output_type": "display_data"
    }
   ],
   "source": [
    "plot_dim = 'y'\n",
    "plot_idx = labels.index(plot_dim)\n",
    "\n",
    "true_p = true_params[plot_idx]\n",
    "\n",
    "#xs = np.linspace(0, np.pi, 100)\n",
    "xs = np.linspace(true_p-100, true_p+100, 100)\n",
    "\n",
    "params = np.repeat(true_params, xs.shape[0]).reshape(-1, xs.shape[0]).T\n",
    "hits = np.repeat(true_hit, xs.shape[0]).reshape(-1, xs.shape[0]).T\n",
    "\n",
    "params[:, plot_idx] = xs\n",
    "\n",
    "likelihood = model.predict([hits, params], batch_size=512)\n",
    "\n",
    "likelihood /= 1 - likelihood\n",
    "\n",
    "plt.plot(xs, likelihood)\n",
    "plt.axvline(true_p, c='r')\n"
   ]
  },
  {
   "cell_type": "code",
   "execution_count": 235,
   "metadata": {},
   "outputs": [
    {
     "data": {
      "text/plain": [
       "array([ 113.19,  -60.47, -336.31, 9899.  ], dtype=float32)"
      ]
     },
     "execution_count": 235,
     "metadata": {},
     "output_type": "execute_result"
    }
   ],
   "source": [
    "true_hit"
   ]
  },
  {
   "cell_type": "code",
   "execution_count": null,
   "metadata": {},
   "outputs": [],
   "source": []
  }
 ],
 "metadata": {
  "kernelspec": {
   "display_name": "Python 3",
   "language": "python",
   "name": "python3"
  },
  "language_info": {
   "codemirror_mode": {
    "name": "ipython",
    "version": 3
   },
   "file_extension": ".py",
   "mimetype": "text/x-python",
   "name": "python",
   "nbconvert_exporter": "python",
   "pygments_lexer": "ipython3",
   "version": "3.7.4"
  }
 },
 "nbformat": 4,
 "nbformat_minor": 4
}

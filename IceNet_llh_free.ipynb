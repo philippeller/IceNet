{
 "cells": [
  {
   "cell_type": "code",
   "execution_count": 1,
   "metadata": {},
   "outputs": [],
   "source": [
    "import os\n",
    "os.environ[\"CUDA_VISIBLE_DEVICES\"]=\"2\"\n",
    "os.environ[\"HDF5_USE_FILE_LOCKING\"] = \"FALSE\""
   ]
  },
  {
   "cell_type": "code",
   "execution_count": 2,
   "metadata": {},
   "outputs": [],
   "source": [
    "from __future__ import division, print_function\n",
    "import numpy as np\n",
    "import matplotlib.pyplot as plt\n",
    "import tensorflow as tf\n",
    "\n",
    "import gc\n",
    "\n",
    "%load_ext autoreload\n",
    "%autoreload 2\n",
    "\n",
    "from dataloader import get_data, get_data_3d\n",
    "from sklearn.model_selection import train_test_split\n"
   ]
  },
  {
   "cell_type": "code",
   "execution_count": 176,
   "metadata": {},
   "outputs": [
    {
     "name": "stdout",
     "output_type": "stream",
     "text": [
      "Skipping file ../test_data/oscNext_genie_level3_v01.03_pass2.140000.000000.hdf5\n"
     ]
    },
    {
     "name": "stderr",
     "output_type": "stream",
     "text": [
      "100%|██████████| 9167/9167 [00:24<00:00, 376.27it/s]\n",
      "100%|██████████| 9200/9200 [00:25<00:00, 362.93it/s]\n",
      "100%|██████████| 9221/9221 [00:25<00:00, 368.57it/s]\n",
      "100%|██████████| 9213/9213 [00:25<00:00, 366.13it/s]\n",
      "100%|██████████| 9079/9079 [00:25<00:00, 360.06it/s]\n",
      "100%|██████████| 9136/9136 [00:24<00:00, 372.30it/s]\n",
      "100%|██████████| 9198/9198 [00:24<00:00, 372.68it/s]\n",
      "100%|██████████| 9219/9219 [00:24<00:00, 374.06it/s]\n",
      "100%|██████████| 9082/9082 [00:24<00:00, 369.26it/s]\n"
     ]
    }
   ],
   "source": [
    "#labels = ['x', 'y', 'z', 'time', , 'dir_x', 'dir_y', 'dir_z', 'energy']\n",
    "labels = ['azimuth','zenith']\n",
    "reco_labels = labels #[:-1]\n",
    "\n",
    "Xs = []\n",
    "ys = []\n",
    "rs = []\n",
    "\n",
    "\n",
    "for i in range(10):\n",
    "    #fname = '../test_data/oscNext_genie_level3_v01.03_pass2.120000.000%s0.hdf5'%('%s'%i).zfill(2)\n",
    "    fname = '../test_data/oscNext_genie_level3_v01.03_pass2.140000.000%s00.hdf5'%i\n",
    "    try:\n",
    "        X, y, r = get_data_3d(\n",
    "            fname,\n",
    "            labels = labels,\n",
    "            reco_labels = reco_labels,\n",
    "            N_events=None,\n",
    "            min_pulses=10,\n",
    "            )\n",
    "        Xs.append(X)\n",
    "        ys.append(y)\n",
    "        rs.append(r)\n",
    "    except OSError:\n",
    "        print('Skipping file %s'%fname)\n",
    "        #raise Exception\n",
    "\n",
    "X_data = np.concatenate(Xs)\n",
    "X_params = np.concatenate(ys)\n",
    "r = np.concatenate(rs)\n",
    "    \n",
    "r = np.nan_to_num(r)\n",
    "    \n",
    "N_events, N_channels, N_features = X_data.shape\n",
    "_, N_labels = X_params.shape\n",
    "\n"
   ]
  },
  {
   "cell_type": "code",
   "execution_count": 177,
   "metadata": {},
   "outputs": [],
   "source": [
    "X_data_train, X_data_test, X_params_train, X_params_test, r_train, r_test = train_test_split(X_data, X_params, r, test_size=0.1, random_state=42)"
   ]
  },
  {
   "cell_type": "code",
   "execution_count": 178,
   "metadata": {},
   "outputs": [],
   "source": [
    "class trafo(tf.keras.layers.Layer):\n",
    "    def __init__(self, num_outputs):\n",
    "        super(trafo, self).__init__()\n",
    "        self.num_outputs = num_outputs\n",
    "\n",
    "    def call(self, input):\n",
    "        \n",
    "        dir_x = tf.math.sin(input[:, 1]) * tf.math.cos(input[:, 0])\n",
    "        dir_y = tf.math.sin(input[:, 1]) * tf.math.sin(input[:, 0])\n",
    "        dir_z = tf.math.cos(input[:, 1])\n",
    "\n",
    "        out =  tf.concat([dir_x[:, tf.newaxis], dir_y[:, tf.newaxis], dir_z[:, tf.newaxis]], axis=1)\n",
    "        \n",
    "        return out"
   ]
  },
  {
   "cell_type": "code",
   "execution_count": 185,
   "metadata": {},
   "outputs": [
    {
     "name": "stdout",
     "output_type": "stream",
     "text": [
      "Model: \"model_14\"\n",
      "__________________________________________________________________________________________________\n",
      "Layer (type)                    Output Shape         Param #     Connected to                     \n",
      "==================================================================================================\n",
      "input_9 (InputLayer)            [(None, 5160, 7)]    0                                            \n",
      "__________________________________________________________________________________________________\n",
      "reshape_4 (Reshape)             (None, 86, 420)      0           input_9[0][0]                    \n",
      "__________________________________________________________________________________________________\n",
      "dropout_16 (Dropout)            (None, 86, 420)      0           reshape_4[0][0]                  \n",
      "__________________________________________________________________________________________________\n",
      "lambda_8 (Lambda)               (None, 78, 420)      0           dropout_16[0][0]                 \n",
      "__________________________________________________________________________________________________\n",
      "lambda_9 (Lambda)               (None, 8, 420)       0           dropout_16[0][0]                 \n",
      "__________________________________________________________________________________________________\n",
      "time_distributed_16 (TimeDistri (None, 78, 64)       26944       lambda_8[0][0]                   \n",
      "__________________________________________________________________________________________________\n",
      "time_distributed_17 (TimeDistri (None, 8, 64)        26944       lambda_9[0][0]                   \n",
      "__________________________________________________________________________________________________\n",
      "time_distributed_18 (TimeDistri (None, 78, 16)       1040        time_distributed_16[0][0]        \n",
      "__________________________________________________________________________________________________\n",
      "time_distributed_19 (TimeDistri (None, 8, 16)        1040        time_distributed_17[0][0]        \n",
      "__________________________________________________________________________________________________\n",
      "concatenate_8 (Concatenate)     (None, 86, 16)       0           time_distributed_18[0][0]        \n",
      "                                                                 time_distributed_19[0][0]        \n",
      "__________________________________________________________________________________________________\n",
      "input_10 (InputLayer)           [(None, 2)]          0                                            \n",
      "__________________________________________________________________________________________________\n",
      "flatten_4 (Flatten)             (None, 1376)         0           concatenate_8[0][0]              \n",
      "__________________________________________________________________________________________________\n",
      "trafo_4 (trafo)                 (None, 3)            0           input_10[0][0]                   \n",
      "__________________________________________________________________________________________________\n",
      "dropout_17 (Dropout)            (None, 1376)         0           flatten_4[0][0]                  \n",
      "__________________________________________________________________________________________________\n",
      "dense_71 (Dense)                (None, 32)           128         trafo_4[0][0]                    \n",
      "__________________________________________________________________________________________________\n",
      "dense_68 (Dense)                (None, 32)           44064       dropout_17[0][0]                 \n",
      "__________________________________________________________________________________________________\n",
      "dense_72 (Dense)                (None, 64)           2112        dense_71[0][0]                   \n",
      "__________________________________________________________________________________________________\n",
      "dropout_18 (Dropout)            (None, 32)           0           dense_68[0][0]                   \n",
      "__________________________________________________________________________________________________\n",
      "dense_73 (Dense)                (None, 128)          8320        dense_72[0][0]                   \n",
      "__________________________________________________________________________________________________\n",
      "dense_69 (Dense)                (None, 32)           1056        dropout_18[0][0]                 \n",
      "__________________________________________________________________________________________________\n",
      "dense_74 (Dense)                (None, 64)           8256        dense_73[0][0]                   \n",
      "__________________________________________________________________________________________________\n",
      "dense_70 (Dense)                (None, 32)           1056        dense_69[0][0]                   \n",
      "__________________________________________________________________________________________________\n",
      "dense_75 (Dense)                (None, 32)           2080        dense_74[0][0]                   \n",
      "__________________________________________________________________________________________________\n",
      "concatenate_9 (Concatenate)     (None, 64)           0           dense_70[0][0]                   \n",
      "                                                                 dense_75[0][0]                   \n",
      "__________________________________________________________________________________________________\n",
      "dense_76 (Dense)                (None, 128)          8320        concatenate_9[0][0]              \n",
      "__________________________________________________________________________________________________\n",
      "dropout_19 (Dropout)            (None, 128)          0           dense_76[0][0]                   \n",
      "__________________________________________________________________________________________________\n",
      "dense_77 (Dense)                (None, 64)           8256        dropout_19[0][0]                 \n",
      "__________________________________________________________________________________________________\n",
      "dense_78 (Dense)                (None, 32)           2080        dense_77[0][0]                   \n",
      "__________________________________________________________________________________________________\n",
      "dense_79 (Dense)                (None, 1)            33          dense_78[0][0]                   \n",
      "==================================================================================================\n",
      "Total params: 141,729\n",
      "Trainable params: 141,729\n",
      "Non-trainable params: 0\n",
      "__________________________________________________________________________________________________\n"
     ]
    }
   ],
   "source": [
    "\n",
    "activation='relu'\n",
    "\n",
    "\n",
    "# Data network\n",
    "\n",
    "inputs_data = tf.keras.Input(shape=(N_channels, N_features), )\n",
    "\n",
    "h = tf.keras.layers.Reshape((86, 60 * N_features))(inputs_data)\n",
    "h = tf.keras.layers.Dropout(0.01)(h)\n",
    "ic = tf.keras.layers.Lambda(lambda x: x[:, :78])(h)\n",
    "dc = tf.keras.layers.Lambda(lambda x: x[:, 78:])(h)\n",
    "\n",
    "n1 = 64\n",
    "h_ic = tf.keras.layers.TimeDistributed(tf.keras.layers.Dense(n1, activation=activation, input_shape=(60 * N_features,)), input_shape=(78, 60 * N_features))(ic)\n",
    "h_dc = tf.keras.layers.TimeDistributed(tf.keras.layers.Dense(n1, activation=activation, input_shape=(60 * N_features,)), input_shape=(8, 60 * N_features))(dc)\n",
    "\n",
    "h_ic = tf.keras.layers.TimeDistributed(tf.keras.layers.Dense(16, activation=activation, input_shape=(n1,)), input_shape=(78,n1))(h_ic)\n",
    "h_dc = tf.keras.layers.TimeDistributed(tf.keras.layers.Dense(16, activation=activation, input_shape=(n1,)), input_shape=(8,n1))(h_dc)\n",
    "\n",
    "h = tf.keras.layers.Concatenate(axis=1)([h_ic, h_dc])\n",
    "\n",
    "h = tf.keras.layers.Flatten(input_shape=(86, 16))(h)\n",
    "\n",
    "h = tf.keras.layers.Dropout(0.01)(h)\n",
    "\n",
    "h = tf.keras.layers.Dense(32, activation=activation)(h)\n",
    "h = tf.keras.layers.Dropout(0.01)(h)\n",
    "h = tf.keras.layers.Dense(32, activation=activation)(h)\n",
    "outputs_data = tf.keras.layers.Dense(32, activation=activation)(h)\n",
    "\n",
    "model_data = tf.keras.Model(inputs=inputs_data, outputs=outputs_data)\n",
    "\n",
    "\n",
    "\n",
    "\n",
    "# # Data network CNN\n",
    "\n",
    "\n",
    "# inputs_data = tf.keras.Input(shape=(N_channels, N_features), )\n",
    "\n",
    "# h = tf.keras.layers.Reshape((86, 60, N_features, 1))(inputs_data)\n",
    "\n",
    "# h = tf.keras.layers.Dropout(0.01)(h)\n",
    "# ic = tf.keras.layers.Lambda(lambda x: x[:, :78])(h)\n",
    "# dc = tf.keras.layers.Lambda(lambda x: x[:, 78:])(h)\n",
    "\n",
    "# h_ic = tf.keras.layers.TimeDistributed(tf.keras.layers.Conv2D(64, (5, N_features), activation=activation, input_shape=(60, N_features,)), input_shape=(78, 60, N_features))(ic)\n",
    "# h_dc = tf.keras.layers.TimeDistributed(tf.keras.layers.Conv2D(64, (5, N_features), activation=activation, input_shape=(60, N_features,)), input_shape=(8, 60, N_features))(dc)\n",
    "\n",
    "# h_ic = tf.keras.layers.Reshape((78, 56, 64))(h_ic)\n",
    "# h_dc = tf.keras.layers.Reshape((8, 56, 64))(h_dc)\n",
    "\n",
    "# h_ic = tf.keras.layers.TimeDistributed(tf.keras.layers.AveragePooling1D((2,), input_shape=(56,)), input_shape=(78, 56))(h_ic)\n",
    "# h_dc = tf.keras.layers.TimeDistributed(tf.keras.layers.AveragePooling1D((2,), input_shape=(56,)), input_shape=(8, 56))(h_dc)\n",
    "\n",
    "\n",
    "# h_ic = tf.keras.layers.TimeDistributed(tf.keras.layers.Conv1D(32, (2, ), activation=activation, input_shape=(28,)), input_shape=(78, 28))(h_ic)\n",
    "# h_dc = tf.keras.layers.TimeDistributed(tf.keras.layers.Conv1D(32, (2, ), activation=activation, input_shape=(28,)), input_shape=(8, 28))(h_dc)\n",
    "\n",
    "\n",
    "# #h_ic = tf.keras.layers.TimeDistributed(tf.keras.layers.Conv2D(32, (5,3), activation=activation, input_shape=(28, 5,)), input_shape=(78, 28, 5))(h_ic)\n",
    "# #h_dc = tf.keras.layers.TimeDistributed(tf.keras.layers.Conv2D(32, (5,3), activation=activation, input_shape=(28, 5,)), input_shape=(8, 28, 5))(h_dc)\n",
    "\n",
    "\n",
    "# h_ic = tf.keras.layers.TimeDistributed(tf.keras.layers.Flatten(input_shape=(28,)), input_shape=(78, 28))(h_ic)\n",
    "# h_dc = tf.keras.layers.TimeDistributed(tf.keras.layers.Flatten(input_shape=(28,)), input_shape=(8, 28))(h_dc)\n",
    "\n",
    "# h_ic = tf.keras.layers.TimeDistributed(tf.keras.layers.Dense(16, activation=activation, input_shape=(896,)), input_shape=(78,896))(h_ic)\n",
    "# h_dc = tf.keras.layers.TimeDistributed(tf.keras.layers.Dense(16, activation=activation, input_shape=(896,)), input_shape=(8,896))(h_dc)\n",
    "\n",
    "\n",
    "# h = tf.keras.layers.Concatenate(axis=1)([h_ic, h_dc])\n",
    "\n",
    "# h = tf.keras.layers.Flatten(input_shape=(86, 16))(h)\n",
    "\n",
    "# #h = tf.keras.layers.AveragePooling2D((1,2))(h)\n",
    "\n",
    "# #h = tf.keras.layers.Conv2D(32, (1, 5), activation=activation)(h)\n",
    "\n",
    "# #h = tf.keras.layers.AveragePooling2D((1,2))(h)\n",
    "\n",
    "# #h = tf.keras.layers.Conv2D(32, (1, 5), activation=activation)(h)\n",
    "\n",
    "# #h = tf.keras.layers.AveragePooling2D((1,2))(h)\n",
    "\n",
    "# #h = tf.keras.layers.Flatten()(h)\n",
    "\n",
    "# h = tf.keras.layers.Dense(32, activation=activation)(h)\n",
    "# h = tf.keras.layers.Dropout(0.01)(h)\n",
    "# h = tf.keras.layers.Dense(32, activation=activation)(h)\n",
    "# outputs_data = tf.keras.layers.Dense(32, activation=activation)(h)\n",
    "\n",
    "# model_data = tf.keras.Model(inputs=inputs_data, outputs=outputs_data)\n",
    "\n",
    "\n",
    "\n",
    "\n",
    "\n",
    "\n",
    "\n",
    "# Parameters network\n",
    "\n",
    "p_activation = 'relu'\n",
    "\n",
    "inputs_params = tf.keras.Input(shape=(N_labels,))\n",
    "\n",
    "y = trafo(3)(inputs_params)\n",
    "\n",
    "y = tf.keras.layers.Dense(32, activation=p_activation)(y)\n",
    "#y = tf.keras.layers.Dense(128, activation=p_activation)(y)\n",
    "#y = tf.keras.layers.Dense(128, activation=p_activation)(y)\n",
    "#y = tf.keras.layers.Dense(32, activation=p_activation)(y)\n",
    "#y = tf.keras.layers.Dropout(0.01)(y)\n",
    "y = tf.keras.layers.Dense(64, activation=p_activation)(y)\n",
    "y = tf.keras.layers.Dense(128, activation=p_activation)(y)\n",
    "y = tf.keras.layers.Dense(64, activation=p_activation)(y)\n",
    "outputs_params = tf.keras.layers.Dense(32, activation=p_activation)(y)\n",
    "\n",
    "model_params = tf.keras.Model(inputs=inputs_params, outputs=outputs_params)\n",
    "\n",
    "\n",
    "combined = tf.keras.layers.Concatenate()([model_data.output, model_params.output])\n",
    "\n",
    "\n",
    "z = tf.keras.layers.Dense(128, activation=\"relu\")(combined)\n",
    "#z = tf.keras.layers.Dense(32, activation=\"relu\")(z)\n",
    "z = tf.keras.layers.Dropout(0.01)(z)\n",
    "z = tf.keras.layers.Dense(64, activation=\"relu\")(z)\n",
    "z = tf.keras.layers.Dense(32, activation=\"relu\")(z)\n",
    "outputs = tf.keras.layers.Dense(1, activation='sigmoid')(z)\n",
    "\n",
    "\n",
    "# our model will accept the inputs of the two branches and\n",
    "# then output a single value\n",
    "model = tf.keras.Model(inputs=[model_data.input, model_params.input], outputs=outputs)\n",
    "\n",
    "model.summary()\n",
    "\n",
    "loss_history = []\n",
    "val_loss_history = []"
   ]
  },
  {
   "cell_type": "code",
   "execution_count": 186,
   "metadata": {},
   "outputs": [],
   "source": [
    "#optimizer = tf.keras.optimizers.SGD(0.01)\n",
    "#optimizer = tf.keras.optimizers.RMSprop(0.001, )\n",
    "#optimizer = tf.keras.optimizers.Nadam(0.001)\n",
    "optimizer = tf.keras.optimizers.Adam(0.0001)\n",
    "\n",
    "model.compile(loss='binary_crossentropy', optimizer=optimizer)"
   ]
  },
  {
   "cell_type": "code",
   "execution_count": 181,
   "metadata": {},
   "outputs": [
    {
     "data": {
      "text/plain": [
       "2624"
      ]
     },
     "execution_count": 181,
     "metadata": {},
     "output_type": "execute_result"
    }
   ],
   "source": [
    "del inputs_train\n",
    "del outputs_train\n",
    "del inputs_test\n",
    "del outputs_test\n",
    "gc.collect()"
   ]
  },
  {
   "cell_type": "code",
   "execution_count": 182,
   "metadata": {},
   "outputs": [],
   "source": [
    "inputs_train = [np.vstack([X_data_train, X_data_train]),  np.vstack([X_params_train, np.random.permutation(X_params_train)])]\n",
    "outputs_train = np.concatenate([np.ones(X_data_train.shape[0]), np.zeros(X_data_train.shape[0])])\n",
    "                \n",
    "inputs_test = [np.vstack([X_data_test, X_data_test]),  np.vstack([X_params_test, np.random.permutation(X_params_test)])]\n",
    "outputs_test = np.concatenate([np.ones(X_data_test.shape[0]), np.zeros(X_data_test.shape[0])])"
   ]
  },
  {
   "cell_type": "code",
   "execution_count": 221,
   "metadata": {},
   "outputs": [
    {
     "name": "stdout",
     "output_type": "stream",
     "text": [
      "Epoch 7\n",
      "Train on 148526 samples, validate on 16504 samples\n",
      "148526/148526 [==============================] - 8s 56us/sample - loss: 0.6484 - val_loss: 0.6460\n",
      "Epoch 8\n",
      "Train on 148526 samples, validate on 16504 samples\n",
      "148526/148526 [==============================] - 9s 61us/sample - loss: 0.6404 - val_loss: 0.6406\n",
      "Epoch 9\n",
      "Train on 148526 samples, validate on 16504 samples\n",
      "148526/148526 [==============================] - 8s 55us/sample - loss: 0.6363 - val_loss: 0.6371\n"
     ]
    }
   ],
   "source": [
    "for i in range(3):\n",
    "    # re-shuffle\n",
    "    inputs_train[1] = np.vstack([X_params_train, np.random.permutation(X_params_train)])\n",
    "    inputs_test[1] = np.vstack([X_params_test, np.random.permutation(X_params_test)])\n",
    "    \n",
    "    # sample from flat\n",
    "#     rand_train_params = np.random.uniform(size=X_params_train.size).reshape(X_params_train.shape)\n",
    "#     rand_test_params = np.random.uniform(size=X_params_test.size).reshape(X_params_test.shape)\n",
    "    \n",
    "#     # zen / az\n",
    "#     #rand_train_params[:,0] = np.arccos((rand_train_params[:,0] * 2) - 1)\n",
    "#     #rand_train_params[:,1] *= 2 * np.pi\n",
    "#     #rand_test_params[:,0] = np.arccos((rand_test_params[:,0]) * 2 - 1)\n",
    "#     #rand_test_params[:,1] *= 2 * np.pi\n",
    "    \n",
    "#     # scale\n",
    "#     bounds = np.quantile(X_params, [0., 1.], axis=0)\n",
    "#     delta = np.diff(bounds, axis=0)\n",
    "#     rand_train_params *= delta\n",
    "#     rand_test_params *= delta\n",
    "#     rand_train_params += bounds[0]\n",
    "#     rand_test_params += bounds[0]\n",
    "\n",
    "#     inputs_train[1] = np.vstack([X_params_train, rand_train_params])\n",
    "#     inputs_test[1] = np.vstack([X_params_test, rand_test_params])\n",
    "    \n",
    "    gc.collect()\n",
    "\n",
    "    print('Epoch %i'%(len(loss_history)+1))\n",
    "    \n",
    "    model.fit(inputs_train, outputs_train, batch_size=512, epochs=1, validation_data=(inputs_test, outputs_test))\n",
    "\n",
    "    loss_history.append(model.history.history['loss'])\n",
    "    val_loss_history.append(model.history.history['val_loss'])\n",
    "    "
   ]
  },
  {
   "cell_type": "code",
   "execution_count": 222,
   "metadata": {},
   "outputs": [
    {
     "data": {
      "text/plain": [
       "<matplotlib.legend.Legend at 0x7f5c5713a550>"
      ]
     },
     "execution_count": 222,
     "metadata": {},
     "output_type": "execute_result"
    },
    {
     "data": {
      "image/png": "[encoded data removed]",
      "text/plain": [
       "<Figure size 864x576 with 1 Axes>"
      ]
     },
     "metadata": {
      "needs_background": "light"
     },
     "output_type": "display_data"
    }
   ],
   "source": [
    "fig, ax = plt.subplots(1, 1, figsize=(12,8))\n",
    "x = np.arange(1, len(loss_history)+1)\n",
    "ax.plot(x, np.concatenate(loss_history), label='train')\n",
    "ax.plot(x, np.concatenate(val_loss_history), label='test')\n",
    "#ax.set_yscale('log')\n",
    "ax.set_xlabel('Epoch')\n",
    "ax.set_ylabel('Loss')\n",
    "ax.legend()"
   ]
  },
  {
   "cell_type": "code",
   "execution_count": 216,
   "metadata": {},
   "outputs": [],
   "source": [
    "event_idx = 3311\n",
    "\n",
    "true_x = X_params_test[event_idx, 0]\n",
    "true_y = X_params_test[event_idx, 1]"
   ]
  },
  {
   "cell_type": "code",
   "execution_count": 217,
   "metadata": {},
   "outputs": [],
   "source": [
    "xs = np.linspace(0, 2*np.pi, 100)\n",
    "#xs = np.linspace(true_x-100, true_x+100, 100)\n",
    "ys = np.repeat(true_y, xs.shape[0])\n",
    "\n",
    "params = np.stack([xs, ys]).T\n",
    "data = np.rollaxis(np.repeat(X_data_test[event_idx], params.shape[0]).reshape((X_data_test[event_idx].shape[0], X_data_test[event_idx].shape[1], params.shape[0])),2)\n",
    "\n",
    "likelihood = model.predict([data, params], batch_size=512)\n"
   ]
  },
  {
   "cell_type": "code",
   "execution_count": 218,
   "metadata": {},
   "outputs": [
    {
     "data": {
      "text/plain": [
       "<matplotlib.lines.Line2D at 0x7f5c5757ae90>"
      ]
     },
     "execution_count": 218,
     "metadata": {},
     "output_type": "execute_result"
    },
    {
     "data": {
      "image/png": "[encoded data removed]",
      "text/plain": [
       "<Figure size 432x288 with 1 Axes>"
      ]
     },
     "metadata": {
      "needs_background": "light"
     },
     "output_type": "display_data"
    }
   ],
   "source": [
    "plt.plot(xs, likelihood)\n",
    "plt.axvline(true_x, c='r')"
   ]
  },
  {
   "cell_type": "code",
   "execution_count": 219,
   "metadata": {},
   "outputs": [
    {
     "name": "stdout",
     "output_type": "stream",
     "text": [
      "CPU times: user 6.83 s, sys: 19.9 s, total: 26.7 s\n",
      "Wall time: 3.95 s\n"
     ]
    }
   ],
   "source": [
    "%%time\n",
    "N = 101\n",
    "d = 100\n",
    "#xs = np.linspace(true_x-d, true_x+d, N)\n",
    "#ys = np.linspace(true_y-d, true_y+d, N)\n",
    "\n",
    "xs = np.linspace(0, 2*np.pi, N)\n",
    "ys = np.linspace(0, np.pi, N)\n",
    "\n",
    "\n",
    "xx, yy = np.meshgrid(xs,ys)\n",
    "\n",
    "xx = xx.flatten()\n",
    "yy = yy.flatten()\n",
    "\n",
    "params = np.stack([xx, yy]).T\n",
    "data = np.rollaxis(np.repeat(X_data_test[event_idx], params.shape[0]).reshape((X_data_test[event_idx].shape[0], X_data_test[event_idx].shape[1], params.shape[0])),2)\n",
    "\n",
    "likelihood = model.predict([data, params], batch_size=512)\n",
    "\n",
    "z = likelihood.reshape((xs.shape[0], ys.shape[0]))"
   ]
  },
  {
   "cell_type": "code",
   "execution_count": 220,
   "metadata": {},
   "outputs": [
    {
     "data": {
      "text/plain": [
       "<matplotlib.legend.Legend at 0x7f5c573eb710>"
      ]
     },
     "execution_count": 220,
     "metadata": {},
     "output_type": "execute_result"
    },
    {
     "data": {
      "image/png": "[encoded data removed]",
      "text/plain": [
       "<Figure size 720x576 with 2 Axes>"
      ]
     },
     "metadata": {
      "needs_background": "light"
     },
     "output_type": "display_data"
    }
   ],
   "source": [
    "fig, ax = plt.subplots(1, 1, figsize=(10,8))\n",
    "\n",
    "im = ax.imshow(np.log(z), extent=(xs[0], xs[-1], ys[0], ys[-1]), origin='lower', cmap='Spectral_r', aspect='auto')\n",
    "ax.axvline(true_x, c='r')\n",
    "ax.axhline(true_y, c='r', label='truth')\n",
    "\n",
    "plt.colorbar(im, ax=ax, label='learned log-likelihood', )\n",
    "\n",
    "plt.contour(xs, ys, np.log(z), [-9.21/2, -5.99/2, -4.51/2, -2.3/2], colors='w')\n",
    "\n",
    "plt.plot(xx[np.argmax(z)],  yy[np.argmax(z)], marker='*', color='w', lw=0, ms=20, label='MLE')\n",
    "\n",
    "plt.plot(r_test[event_idx][0],  r_test[event_idx][1], marker='o', color='k', lw=0, ms=10, label='SPEFit2')\n",
    "\n",
    "\n",
    "#ax.set_xlabel('x position (m)')\n",
    "#ax.set_ylabel('y position (m)')\n",
    "\n",
    "#ax.set_xlabel('x position (m)')\n",
    "#ax.set_ylabel('z position (m)')\n",
    "\n",
    "ax.set_xlabel('azimuth (rad)')\n",
    "ax.set_ylabel('zenith (rad)')\n",
    "\n",
    "plt.legend()\n",
    "\n",
    "#plt.savefig('x-y_vertex_evnt%i.png'%event_idx, dpi=150)"
   ]
  },
  {
   "cell_type": "code",
   "execution_count": null,
   "metadata": {},
   "outputs": [],
   "source": []
  },
  {
   "cell_type": "code",
   "execution_count": null,
   "metadata": {},
   "outputs": [],
   "source": []
  }
 ],
 "metadata": {
  "kernelspec": {
   "display_name": "Python 3",
   "language": "python",
   "name": "python3"
  },
  "language_info": {
   "codemirror_mode": {
    "name": "ipython",
    "version": 3
   },
   "file_extension": ".py",
   "mimetype": "text/x-python",
   "name": "python",
   "nbconvert_exporter": "python",
   "pygments_lexer": "ipython3",
   "version": "3.7.4"
  }
 },
 "nbformat": 4,
 "nbformat_minor": 4
}

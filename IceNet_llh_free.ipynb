{
 "cells": [
  {
   "cell_type": "code",
   "execution_count": 2,
   "metadata": {},
   "outputs": [],
   "source": [
    "import os\n",
    "os.environ[\"CUDA_VISIBLE_DEVICES\"]=\"2\"\n",
    "os.environ[\"HDF5_USE_FILE_LOCKING\"] = \"FALSE\""
   ]
  },
  {
   "cell_type": "code",
   "execution_count": 3,
   "metadata": {},
   "outputs": [],
   "source": [
    "from __future__ import division, print_function\n",
    "import numpy as np\n",
    "import matplotlib.pyplot as plt\n",
    "import tensorflow as tf\n",
    "\n",
    "import gc\n",
    "\n",
    "%load_ext autoreload\n",
    "%autoreload 2\n",
    "\n",
    "from dataloader import get_data, get_data_3d\n",
    "from sklearn.model_selection import train_test_split\n"
   ]
  },
  {
   "cell_type": "code",
   "execution_count": 4,
   "metadata": {},
   "outputs": [
    {
     "name": "stderr",
     "output_type": "stream",
     "text": [
      "100%|██████████| 3031/3031 [00:04<00:00, 720.74it/s]\n"
     ]
    },
    {
     "name": "stdout",
     "output_type": "stream",
     "text": [
      "Skipping file ../test_data/oscNext_genie_level3_v01.03_pass2.120000.000010.hdf5\n"
     ]
    },
    {
     "name": "stderr",
     "output_type": "stream",
     "text": [
      "100%|██████████| 9282/9282 [00:24<00:00, 377.95it/s]\n",
      "100%|██████████| 9404/9404 [00:24<00:00, 386.20it/s]\n",
      "100%|██████████| 9258/9258 [00:24<00:00, 371.63it/s]\n",
      "100%|██████████| 9326/9326 [00:24<00:00, 382.13it/s]\n",
      "100%|██████████| 9326/9326 [00:24<00:00, 379.27it/s]\n",
      "100%|██████████| 9344/9344 [00:24<00:00, 376.90it/s]\n",
      "100%|██████████| 9172/9172 [00:23<00:00, 386.77it/s]\n",
      "100%|██████████| 9368/9368 [00:28<00:00, 330.25it/s]\n"
     ]
    },
    {
     "name": "stdout",
     "output_type": "stream",
     "text": [
      "Skipping file ../test_data/oscNext_genie_level3_v01.03_pass2.120000.000100.hdf5\n"
     ]
    },
    {
     "name": "stderr",
     "output_type": "stream",
     "text": [
      "100%|██████████| 9273/9273 [00:27<00:00, 341.08it/s]\n",
      "100%|██████████| 9331/9331 [00:27<00:00, 338.00it/s]\n",
      "100%|██████████| 9211/9211 [00:26<00:00, 351.42it/s]\n",
      "100%|██████████| 9351/9351 [00:24<00:00, 381.28it/s]\n",
      "100%|██████████| 9451/9451 [00:24<00:00, 388.55it/s]\n",
      "100%|██████████| 9289/9289 [00:24<00:00, 383.33it/s]\n",
      "100%|██████████| 9233/9233 [00:24<00:00, 377.59it/s]\n"
     ]
    },
    {
     "name": "stdout",
     "output_type": "stream",
     "text": [
      "Skipping file ../test_data/oscNext_genie_level3_v01.03_pass2.120000.000180.hdf5\n"
     ]
    },
    {
     "name": "stderr",
     "output_type": "stream",
     "text": [
      "100%|██████████| 9413/9413 [00:24<00:00, 385.51it/s]\n"
     ]
    }
   ],
   "source": [
    "labels = ['x', 'y'] #, 'z'] #, 'time', 'zenith', 'azimuth', 'dir_x', 'dir_y', 'dir_z', 'energy']\n",
    "reco_labels = labels #[:-1]\n",
    "\n",
    "Xs = []\n",
    "ys = []\n",
    "rs = []\n",
    "\n",
    "\n",
    "for i in range(20):\n",
    "    fname = '../test_data/oscNext_genie_level3_v01.03_pass2.120000.000%s0.hdf5'%('%s'%i).zfill(2)\n",
    "    #fname = '../test_data/oscNext_genie_level3_v01.03_pass2.140000.000%s00.hdf5'%i\n",
    "    try:\n",
    "        X, y, r = get_data_3d(\n",
    "            fname,\n",
    "            labels = labels,\n",
    "            reco_labels = reco_labels,\n",
    "            N_events=None,\n",
    "            min_pulses=10,\n",
    "            )\n",
    "        Xs.append(X)\n",
    "        ys.append(y)\n",
    "        rs.append(r)\n",
    "    except OSError:\n",
    "        print('Skipping file %s'%fname)\n",
    "        #raise Exception\n",
    "\n",
    "X_data = np.concatenate(Xs)\n",
    "X_params = np.concatenate(ys)\n",
    "r = np.concatenate(rs)\n",
    "    \n",
    "r = np.nan_to_num(r)\n",
    "    \n",
    "N_events, N_channels, N_features = X_data.shape\n",
    "_, N_labels = X_params.shape\n",
    "\n"
   ]
  },
  {
   "cell_type": "code",
   "execution_count": 8,
   "metadata": {},
   "outputs": [],
   "source": [
    "X_data_train, X_data_test, X_params_train, X_params_test = train_test_split(X_data, X_params, test_size=0.1, random_state=42)"
   ]
  },
  {
   "cell_type": "code",
   "execution_count": 205,
   "metadata": {},
   "outputs": [
    {
     "name": "stdout",
     "output_type": "stream",
     "text": [
      "Model: \"model_11\"\n",
      "__________________________________________________________________________________________________\n",
      "Layer (type)                    Output Shape         Param #     Connected to                     \n",
      "==================================================================================================\n",
      "input_7 (InputLayer)            [(None, 5160, 7)]    0                                            \n",
      "__________________________________________________________________________________________________\n",
      "reshape_3 (Reshape)             (None, 86, 420)      0           input_7[0][0]                    \n",
      "__________________________________________________________________________________________________\n",
      "dropout_15 (Dropout)            (None, 86, 420)      0           reshape_3[0][0]                  \n",
      "__________________________________________________________________________________________________\n",
      "lambda_6 (Lambda)               (None, 78, 420)      0           dropout_15[0][0]                 \n",
      "__________________________________________________________________________________________________\n",
      "lambda_7 (Lambda)               (None, 8, 420)       0           dropout_15[0][0]                 \n",
      "__________________________________________________________________________________________________\n",
      "time_distributed_12 (TimeDistri (None, 78, 64)       26944       lambda_6[0][0]                   \n",
      "__________________________________________________________________________________________________\n",
      "time_distributed_13 (TimeDistri (None, 8, 64)        26944       lambda_7[0][0]                   \n",
      "__________________________________________________________________________________________________\n",
      "time_distributed_14 (TimeDistri (None, 78, 16)       1040        time_distributed_12[0][0]        \n",
      "__________________________________________________________________________________________________\n",
      "time_distributed_15 (TimeDistri (None, 8, 16)        1040        time_distributed_13[0][0]        \n",
      "__________________________________________________________________________________________________\n",
      "concatenate_6 (Concatenate)     (None, 86, 16)       0           time_distributed_14[0][0]        \n",
      "                                                                 time_distributed_15[0][0]        \n",
      "__________________________________________________________________________________________________\n",
      "input_8 (InputLayer)            [(None, 2)]          0                                            \n",
      "__________________________________________________________________________________________________\n",
      "flatten_3 (Flatten)             (None, 1376)         0           concatenate_6[0][0]              \n",
      "__________________________________________________________________________________________________\n",
      "dense_42 (Dense)                (None, 32)           96          input_8[0][0]                    \n",
      "__________________________________________________________________________________________________\n",
      "dropout_16 (Dropout)            (None, 1376)         0           flatten_3[0][0]                  \n",
      "__________________________________________________________________________________________________\n",
      "dropout_18 (Dropout)            (None, 32)           0           dense_42[0][0]                   \n",
      "__________________________________________________________________________________________________\n",
      "dense_40 (Dense)                (None, 32)           44064       dropout_16[0][0]                 \n",
      "__________________________________________________________________________________________________\n",
      "dense_43 (Dense)                (None, 32)           1056        dropout_18[0][0]                 \n",
      "__________________________________________________________________________________________________\n",
      "dropout_17 (Dropout)            (None, 32)           0           dense_40[0][0]                   \n",
      "__________________________________________________________________________________________________\n",
      "dropout_19 (Dropout)            (None, 32)           0           dense_43[0][0]                   \n",
      "__________________________________________________________________________________________________\n",
      "dense_41 (Dense)                (None, 32)           1056        dropout_17[0][0]                 \n",
      "__________________________________________________________________________________________________\n",
      "dense_44 (Dense)                (None, 32)           1056        dropout_19[0][0]                 \n",
      "__________________________________________________________________________________________________\n",
      "concatenate_7 (Concatenate)     (None, 64)           0           dense_41[0][0]                   \n",
      "                                                                 dense_44[0][0]                   \n",
      "__________________________________________________________________________________________________\n",
      "dense_45 (Dense)                (None, 32)           2080        concatenate_7[0][0]              \n",
      "__________________________________________________________________________________________________\n",
      "dense_46 (Dense)                (None, 32)           1056        dense_45[0][0]                   \n",
      "__________________________________________________________________________________________________\n",
      "dense_47 (Dense)                (None, 1)            33          dense_46[0][0]                   \n",
      "==================================================================================================\n",
      "Total params: 106,465\n",
      "Trainable params: 106,465\n",
      "Non-trainable params: 0\n",
      "__________________________________________________________________________________________________\n"
     ]
    }
   ],
   "source": [
    "\n",
    "activation='relu'\n",
    "\n",
    "\n",
    "# Data network\n",
    "\n",
    "inputs_data = tf.keras.Input(shape=(N_channels, N_features), )\n",
    "\n",
    "h = tf.keras.layers.Reshape((86, 60 * N_features))(inputs_data)\n",
    "h = tf.keras.layers.Dropout(0.01)(h)\n",
    "ic = tf.keras.layers.Lambda(lambda x: x[:, :78])(h)\n",
    "dc = tf.keras.layers.Lambda(lambda x: x[:, 78:])(h)\n",
    "\n",
    "h_ic = tf.keras.layers.TimeDistributed(tf.keras.layers.Dense(64, activation=activation, input_shape=(60 * N_features,)), input_shape=(78, 60 * N_features))(ic)\n",
    "h_dc = tf.keras.layers.TimeDistributed(tf.keras.layers.Dense(64, activation=activation, input_shape=(60 * N_features,)), input_shape=(8, 60 * N_features))(dc)\n",
    "\n",
    "h_ic = tf.keras.layers.TimeDistributed(tf.keras.layers.Dense(16, activation=activation, input_shape=(64,)), input_shape=(78,64))(h_ic)\n",
    "h_dc = tf.keras.layers.TimeDistributed(tf.keras.layers.Dense(16, activation=activation, input_shape=(64,)), input_shape=(8,64))(h_dc)\n",
    "\n",
    "h = tf.keras.layers.Concatenate(axis=1)([h_ic, h_dc])\n",
    "\n",
    "h = tf.keras.layers.Flatten(input_shape=(86, 16))(h)\n",
    "\n",
    "h = tf.keras.layers.Dropout(0.01)(h)\n",
    "\n",
    "h = tf.keras.layers.Dense(32, activation=activation)(h)\n",
    "h = tf.keras.layers.Dropout(0.01)(h)\n",
    "outputs_data = tf.keras.layers.Dense(32, activation=activation)(h)\n",
    "\n",
    "model_data = tf.keras.Model(inputs=inputs_data, outputs=outputs_data)\n",
    "\n",
    "\n",
    "# Parameters network\n",
    "\n",
    "inputs_params = tf.keras.Input(shape=(N_labels,))\n",
    "\n",
    "y = tf.keras.layers.Dense(32, activation=activation)(inputs_params)\n",
    "y = tf.keras.layers.Dropout(0.01)(y)\n",
    "y = tf.keras.layers.Dense(32, activation=activation)(y)\n",
    "y = tf.keras.layers.Dropout(0.01)(y)\n",
    "outputs_params = tf.keras.layers.Dense(32, activation=activation)(y)\n",
    "\n",
    "model_params = tf.keras.Model(inputs=inputs_params, outputs=outputs_params)\n",
    "\n",
    "\n",
    "combined = tf.keras.layers.Concatenate()([model_data.output, model_params.output])\n",
    "\n",
    "\n",
    "z = tf.keras.layers.Dense(32, activation=\"relu\")(combined)\n",
    "z = tf.keras.layers.Dense(32, activation=\"relu\")(z)\n",
    "outputs = tf.keras.layers.Dense(1, activation='sigmoid')(z)\n",
    "\n",
    "\n",
    "# our model will accept the inputs of the two branches and\n",
    "# then output a single value\n",
    "model = tf.keras.Model(inputs=[model_data.input, model_params.input], outputs=outputs)\n",
    "\n",
    "model.summary()\n",
    "\n",
    "loss_history = []\n",
    "val_loss_history = []"
   ]
  },
  {
   "cell_type": "code",
   "execution_count": 206,
   "metadata": {},
   "outputs": [],
   "source": [
    "#optimizer = tf.keras.optimizers.event_idx(0.001) #, clipnorm=1) # bad\n",
    "#optimizer = tf.keras.optimizers.RMSprop(0.001, )\n",
    "#optimizer = tf.keras.optimizers.Nadam(0.01)\n",
    "optimizer = tf.keras.optimizers.Adam(0.001)\n",
    "\n",
    "model.compile(loss='binary_crossentropy', optimizer=optimizer)"
   ]
  },
  {
   "cell_type": "code",
   "execution_count": 60,
   "metadata": {},
   "outputs": [
    {
     "data": {
      "text/plain": [
       "6298"
      ]
     },
     "execution_count": 60,
     "metadata": {},
     "output_type": "execute_result"
    }
   ],
   "source": [
    "del inputs_train\n",
    "del outputs_train\n",
    "del inputs_test\n",
    "del outputs_test\n",
    "gc.collect()"
   ]
  },
  {
   "cell_type": "code",
   "execution_count": 61,
   "metadata": {},
   "outputs": [],
   "source": [
    "inputs_train = [np.vstack([X_data_train, X_data_train]),  np.vstack([X_params_train, np.random.permutation(X_params_train)])]\n",
    "outputs_train = np.concatenate([np.ones(X_data_train.shape[0]), np.zeros(X_data_train.shape[0])])\n",
    "                \n",
    "inputs_test = [np.vstack([X_data_test, X_data_test]),  np.vstack([X_params_test, np.random.permutation(X_params_test)])]\n",
    "outputs_test = np.concatenate([np.ones(X_data_test.shape[0]), np.zeros(X_data_test.shape[0])])"
   ]
  },
  {
   "cell_type": "code",
   "execution_count": null,
   "metadata": {},
   "outputs": [
    {
     "name": "stdout",
     "output_type": "stream",
     "text": [
      "Train on 273712 samples, validate on 30414 samples\n",
      "151552/273712 [===============>..............] - ETA: 5s - loss: 0.1171"
     ]
    }
   ],
   "source": [
    "for i in range(5):\n",
    "    # re-shuffle\n",
    "    #inputs_train[1] = np.vstack([X_params_train, np.random.permutation(X_params_train)])\n",
    "    #inputs_test[1] = np.vstack([X_params_test, np.random.permutation(X_params_test)])\n",
    "    \n",
    "    bounds = np.quantile(X_params, [0.01, 0.99], axis=0)\n",
    "    delta = np.diff(bounds, axis=0)\n",
    "    \n",
    "    rand_train_params = np.random.uniform(size=X_params_train.size).reshape(X_params_train.shape)\n",
    "    rand_test_params = np.random.uniform(size=X_params_test.size).reshape(X_params_test.shape)\n",
    "    \n",
    "    rand_train_params *= delta\n",
    "    rand_test_params *= delta\n",
    "    \n",
    "    rand_train_params += bounds[0]\n",
    "    rand_test_params += bounds[0]\n",
    "    \n",
    "    # sample from flat\n",
    "    inputs_train[1] = np.vstack([X_params_train, rand_train_params])\n",
    "    inputs_test[1] = np.vstack([X_params_test, rand_test_params])\n",
    "    \n",
    "    gc.collect()\n",
    "\n",
    "    model.fit(inputs_train, outputs_train, batch_size=512, epochs=1, validation_data=(inputs_test, outputs_test))\n",
    "\n",
    "    loss_history.append(model.history.history['loss'])\n",
    "    val_loss_history.append(model.history.history['val_loss'])"
   ]
  },
  {
   "cell_type": "code",
   "execution_count": 215,
   "metadata": {},
   "outputs": [
    {
     "data": {
      "text/plain": [
       "<matplotlib.legend.Legend at 0x7fd36c5d5050>"
      ]
     },
     "execution_count": 215,
     "metadata": {},
     "output_type": "execute_result"
    },
    {
     "data": {
      "image/png": "[encoded data removed]",
      "text/plain": [
       "<Figure size 864x576 with 1 Axes>"
      ]
     },
     "metadata": {
      "needs_background": "light"
     },
     "output_type": "display_data"
    }
   ],
   "source": [
    "fig, ax = plt.subplots(1, 1, figsize=(12,8))\n",
    "\n",
    "ax.plot(np.concatenate(loss_history), label='train')\n",
    "ax.plot(np.concatenate(val_loss_history), label='test')\n",
    "#ax.set_yscale('log')\n",
    "ax.set_xlabel('Epoch')\n",
    "ax.set_ylabel('Loss')\n",
    "ax.legend()"
   ]
  },
  {
   "cell_type": "code",
   "execution_count": 216,
   "metadata": {},
   "outputs": [],
   "source": [
    "event_idx = 678\n",
    "\n",
    "true_x = X_params_test[event_idx, 0]\n",
    "true_y = X_params_test[event_idx, 1]"
   ]
  },
  {
   "cell_type": "code",
   "execution_count": 217,
   "metadata": {},
   "outputs": [],
   "source": [
    "xs = np.linspace(true_x-100, true_x+100, 100)\n",
    "ys = np.repeat(true_y, xs.shape[0])\n",
    "\n",
    "params = np.stack([xs, ys]).T\n",
    "data = np.rollaxis(np.repeat(X_data_test[event_idx], params.shape[0]).reshape((X_data_test[event_idx].shape[0], X_data_test[event_idx].shape[1], params.shape[0])),2)\n",
    "\n",
    "likelihood = model.predict([data, params], batch_size=512)\n"
   ]
  },
  {
   "cell_type": "code",
   "execution_count": 218,
   "metadata": {},
   "outputs": [
    {
     "data": {
      "text/plain": [
       "<matplotlib.lines.Line2D at 0x7fd1446dbb10>"
      ]
     },
     "execution_count": 218,
     "metadata": {},
     "output_type": "execute_result"
    },
    {
     "data": {
      "image/png": "[encoded data removed]",
      "text/plain": [
       "<Figure size 432x288 with 1 Axes>"
      ]
     },
     "metadata": {
      "needs_background": "light"
     },
     "output_type": "display_data"
    }
   ],
   "source": [
    "plt.plot(xs, likelihood)\n",
    "plt.axvline(true_x, c='r')"
   ]
  },
  {
   "cell_type": "code",
   "execution_count": 219,
   "metadata": {},
   "outputs": [],
   "source": [
    "xs = np.linspace(true_x-150, true_x+150, 101)\n",
    "ys = np.linspace(true_y-150, true_y+150, 101)\n",
    "\n",
    "#xs = np.linspace(-250, 250, 101)\n",
    "#ys = np.linspace(-250, 250, 101)\n",
    "\n",
    "xx, yy = np.meshgrid(xs,ys)\n",
    "\n",
    "xx = xx.flatten()\n",
    "yy = yy.flatten()\n",
    "\n",
    "params = np.stack([xx, yy]).T\n",
    "data = np.rollaxis(np.repeat(X_data_test[event_idx], params.shape[0]).reshape((X_data_test[event_idx].shape[0], X_data_test[event_idx].shape[1], params.shape[0])),2)\n",
    "\n",
    "likelihood = model.predict([data, params], batch_size=512)\n",
    "\n",
    "z = likelihood.reshape((xs.shape[0], ys.shape[0]))"
   ]
  },
  {
   "cell_type": "code",
   "execution_count": 220,
   "metadata": {},
   "outputs": [
    {
     "data": {
      "text/plain": [
       "<matplotlib.legend.Legend at 0x7fd14453cbd0>"
      ]
     },
     "execution_count": 220,
     "metadata": {},
     "output_type": "execute_result"
    },
    {
     "data": {
      "image/png": "[encoded data removed]",
      "text/plain": [
       "<Figure size 720x576 with 2 Axes>"
      ]
     },
     "metadata": {
      "needs_background": "light"
     },
     "output_type": "display_data"
    }
   ],
   "source": [
    "fig, ax = plt.subplots(1, 1, figsize=(10,8))\n",
    "\n",
    "im = ax.imshow(z, extent=(xs[0], xs[-1], ys[0], ys[-1]), origin='lower', cmap='Spectral_r', aspect='equal')\n",
    "ax.axvline(true_x, c='r')\n",
    "ax.axhline(true_y, c='r', label='truth')\n",
    "\n",
    "plt.colorbar(im, ax=ax, label='learned likelihood', )\n",
    "\n",
    "plt.plot(xx[np.argmax(z)],  yy[np.argmax(z)], marker='*', color='w', ms=20, label='ML')\n",
    "\n",
    "ax.set_xlabel('x position (m)')\n",
    "ax.set_ylabel('y position (m)')\n",
    "\n",
    "plt.legend()"
   ]
  },
  {
   "cell_type": "code",
   "execution_count": null,
   "metadata": {},
   "outputs": [],
   "source": []
  },
  {
   "cell_type": "code",
   "execution_count": null,
   "metadata": {},
   "outputs": [],
   "source": []
  }
 ],
 "metadata": {
  "kernelspec": {
   "display_name": "Python 3",
   "language": "python",
   "name": "python3"
  },
  "language_info": {
   "codemirror_mode": {
    "name": "ipython",
    "version": 3
   },
   "file_extension": ".py",
   "mimetype": "text/x-python",
   "name": "python",
   "nbconvert_exporter": "python",
   "pygments_lexer": "ipython3",
   "version": "3.7.4"
  }
 },
 "nbformat": 4,
 "nbformat_minor": 4
}

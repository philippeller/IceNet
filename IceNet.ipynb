{
 "cells": [
  {
   "cell_type": "code",
   "execution_count": 46,
   "metadata": {},
   "outputs": [],
   "source": [
    "from __future__ import division, print_function\n",
    "import numpy as np\n",
    "import matplotlib.pyplot as plt\n",
    "import tensorflow as tf\n",
    "from dataloader import get_data\n",
    "from sklearn.model_selection import train_test_split"
   ]
  },
  {
   "cell_type": "code",
   "execution_count": 3,
   "metadata": {},
   "outputs": [
    {
     "data": {
      "text/plain": [
       "True"
      ]
     },
     "execution_count": 3,
     "metadata": {},
     "output_type": "execute_result"
    }
   ],
   "source": [
    "tf.test.is_gpu_available()"
   ]
  },
  {
   "cell_type": "code",
   "execution_count": 4,
   "metadata": {},
   "outputs": [
    {
     "name": "stdout",
     "output_type": "stream",
     "text": [
      "max pulses =  74\n"
     ]
    }
   ],
   "source": [
    "X, y = get_data('../test_data/oscNext_genie_level3_v01.03_pass2.140000.000001.hdf5')"
   ]
  },
  {
   "cell_type": "code",
   "execution_count": 48,
   "metadata": {},
   "outputs": [],
   "source": [
    "N_events, N_channels, _, N_features = X.shape\n",
    "_, N_labels = y.shape"
   ]
  },
  {
   "cell_type": "code",
   "execution_count": 49,
   "metadata": {},
   "outputs": [],
   "source": [
    "X_train, X_test, y_train, y_test = train_test_split(X, y, test_size=0.1, random_state=42)"
   ]
  },
  {
   "cell_type": "code",
   "execution_count": 50,
   "metadata": {},
   "outputs": [
    {
     "name": "stdout",
     "output_type": "stream",
     "text": [
      "Model: \"sequential_2\"\n",
      "_________________________________________________________________\n",
      "Layer (type)                 Output Shape              Param #   \n",
      "=================================================================\n",
      "time_distributed_8 (TimeDist (None, 5160, 16)          1216      \n",
      "_________________________________________________________________\n",
      "time_distributed_9 (TimeDist (None, 5160, 8)           136       \n",
      "_________________________________________________________________\n",
      "reshape_2 (Reshape)          (None, 86, 480)           0         \n",
      "_________________________________________________________________\n",
      "time_distributed_10 (TimeDis (None, 86, 32)            15392     \n",
      "_________________________________________________________________\n",
      "time_distributed_11 (TimeDis (None, 86, 32)            1056      \n",
      "_________________________________________________________________\n",
      "flatten_2 (Flatten)          (None, 2752)              0         \n",
      "_________________________________________________________________\n",
      "dense_15 (Dense)             (None, 32)                88096     \n",
      "_________________________________________________________________\n",
      "dense_16 (Dense)             (None, 32)                1056      \n",
      "_________________________________________________________________\n",
      "dense_17 (Dense)             (None, 2)                 66        \n",
      "=================================================================\n",
      "Total params: 107,018\n",
      "Trainable params: 107,018\n",
      "Non-trainable params: 0\n",
      "_________________________________________________________________\n"
     ]
    }
   ],
   "source": [
    "model = tf.keras.Sequential()\n",
    "\n",
    "model.add(tf.keras.Input(shape=(N_channels, None, N_features))) #, ragged=True))\n",
    "model.add(tf.keras.layers.TimeDistributed(tf.keras.layers.LSTM(16, input_shape=(None, N_features)), input_shape=(N_channels, None, N_features)))\n",
    "model.add(tf.keras.layers.TimeDistributed(tf.keras.layers.Dense(8), input_shape=(N_channels, 16)))\n",
    "model.add(tf.keras.layers.Reshape((86, 60 * 8)))\n",
    "model.add(tf.keras.layers.TimeDistributed(tf.keras.layers.Dense(32, input_shape=(60*8,)), input_shape=(86,60*8)))\n",
    "model.add(tf.keras.layers.TimeDistributed(tf.keras.layers.Dense(32, input_shape=(100,)), input_shape=(86,100)))\n",
    "model.add(tf.keras.layers.Flatten(input_shape=(86, 32)))\n",
    "model.add(tf.keras.layers.Dense(32))\n",
    "model.add(tf.keras.layers.Dense(32))\n",
    "model.add(tf.keras.layers.Dense(N_labels))\n",
    "\n",
    "model.summary()"
   ]
  },
  {
   "cell_type": "code",
   "execution_count": 51,
   "metadata": {},
   "outputs": [],
   "source": [
    "def angular_dist_loss(y_true, y_pred):\n",
    "    return tf.reduce_mean(tf.math.square(tf.math.acos(tf.math.cos(y_pred[0]) * tf.math.cos(y_true[0]) + tf.math.sin(y_pred[0]) * tf.math.sin(y_true[0]) * tf.math.cos(y_pred[1] - y_true[1]))), axis=-1)"
   ]
  },
  {
   "cell_type": "code",
   "execution_count": 52,
   "metadata": {},
   "outputs": [],
   "source": [
    "model.compile(loss=angular_dist_loss, optimizer=\"adam\", )"
   ]
  },
  {
   "cell_type": "code",
   "execution_count": 54,
   "metadata": {},
   "outputs": [
    {
     "name": "stdout",
     "output_type": "stream",
     "text": [
      "Train on 11901 samples, validate on 1323 samples\n",
      "11901/11901 [==============================] - 86s 7ms/sample - loss: 2.0242 - val_loss: 2.1432\n"
     ]
    },
    {
     "data": {
      "text/plain": [
       "<tensorflow.python.keras.callbacks.History at 0x7fc0b03c3f90>"
      ]
     },
     "execution_count": 54,
     "metadata": {},
     "output_type": "execute_result"
    }
   ],
   "source": [
    "model.fit(X_train, y_train, batch_size=32, epochs=1, validation_data=(X_test, y_test), )"
   ]
  },
  {
   "cell_type": "code",
   "execution_count": 33,
   "metadata": {},
   "outputs": [],
   "source": [
    "y_pred = model.predict(X)"
   ]
  },
  {
   "cell_type": "code",
   "execution_count": 40,
   "metadata": {},
   "outputs": [
    {
     "data": {
      "text/plain": [
       "<tf.Tensor: id=6940, shape=(), dtype=float32, numpy=1.8536657>"
      ]
     },
     "execution_count": 40,
     "metadata": {},
     "output_type": "execute_result"
    }
   ],
   "source": [
    "angular_dist_loss(y, y_pred)"
   ]
  },
  {
   "cell_type": "code",
   "execution_count": 45,
   "metadata": {},
   "outputs": [
    {
     "data": {
      "text/plain": [
       "<tf.Tensor: id=6996, shape=(), dtype=float32, numpy=3.1560388>"
      ]
     },
     "execution_count": 45,
     "metadata": {},
     "output_type": "execute_result"
    }
   ],
   "source": [
    "angular_dist_loss(y[::-1], y) * 2"
   ]
  },
  {
   "cell_type": "code",
   "execution_count": null,
   "metadata": {},
   "outputs": [],
   "source": []
  }
 ],
 "metadata": {
  "kernelspec": {
   "display_name": "Python 3",
   "language": "python",
   "name": "python3"
  },
  "language_info": {
   "codemirror_mode": {
    "name": "ipython",
    "version": 3
   },
   "file_extension": ".py",
   "mimetype": "text/x-python",
   "name": "python",
   "nbconvert_exporter": "python",
   "pygments_lexer": "ipython3",
   "version": "3.7.4"
  }
 },
 "nbformat": 4,
 "nbformat_minor": 4
}

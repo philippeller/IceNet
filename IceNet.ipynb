{
 "cells": [
  {
   "cell_type": "code",
   "execution_count": 1,
   "metadata": {},
   "outputs": [],
   "source": [
    "from __future__ import division, print_function\n",
    "import numpy as np\n",
    "import matplotlib.pyplot as plt\n",
    "import tensorflow as tf\n",
    "from dataloader import get_data\n",
    "from sklearn.model_selection import train_test_split"
   ]
  },
  {
   "cell_type": "code",
   "execution_count": 2,
   "metadata": {},
   "outputs": [
    {
     "data": {
      "text/plain": [
       "True"
      ]
     },
     "execution_count": 2,
     "metadata": {},
     "output_type": "execute_result"
    }
   ],
   "source": [
    "tf.test.is_gpu_available()"
   ]
  },
  {
   "cell_type": "code",
   "execution_count": 3,
   "metadata": {},
   "outputs": [],
   "source": [
    "def angular_dist_loss(y_true, y_pred):\n",
    "    return tf.reduce_mean(tf.math.square(tf.math.acos(tf.math.cos(y_pred[0]) * tf.math.cos(y_true[0]) + tf.math.sin(y_pred[0]) * tf.math.sin(y_true[0]) * tf.math.cos(y_pred[1] - y_true[1]))), axis=-1)"
   ]
  },
  {
   "cell_type": "code",
   "execution_count": 5,
   "metadata": {},
   "outputs": [
    {
     "name": "stdout",
     "output_type": "stream",
     "text": [
      "Model: \"model\"\n",
      "__________________________________________________________________________________________________\n",
      "Layer (type)                    Output Shape         Param #     Connected to                     \n",
      "==================================================================================================\n",
      "input_1 (InputLayer)            [(None, 5160, None,  0                                            \n",
      "__________________________________________________________________________________________________\n",
      "time_distributed (TimeDistribut (None, 5160, 2)      32          input_1[0][0]                    \n",
      "__________________________________________________________________________________________________\n",
      "dropout (Dropout)               (None, 5160, 2)      0           time_distributed[0][0]           \n",
      "__________________________________________________________________________________________________\n",
      "reshape (Reshape)               (None, 86, 120)      0           dropout[0][0]                    \n",
      "__________________________________________________________________________________________________\n",
      "lambda (Lambda)                 (None, 78, 120)      0           reshape[0][0]                    \n",
      "__________________________________________________________________________________________________\n",
      "lambda_1 (Lambda)               (None, 8, 120)       0           reshape[0][0]                    \n",
      "__________________________________________________________________________________________________\n",
      "time_distributed_1 (TimeDistrib (None, 78, 16)       1936        lambda[0][0]                     \n",
      "__________________________________________________________________________________________________\n",
      "time_distributed_2 (TimeDistrib (None, 8, 16)        1936        lambda_1[0][0]                   \n",
      "__________________________________________________________________________________________________\n",
      "time_distributed_3 (TimeDistrib (None, 78, 5)        85          time_distributed_1[0][0]         \n",
      "__________________________________________________________________________________________________\n",
      "time_distributed_4 (TimeDistrib (None, 8, 5)         85          time_distributed_2[0][0]         \n",
      "__________________________________________________________________________________________________\n",
      "concatenate (Concatenate)       (None, 86, 5)        0           time_distributed_3[0][0]         \n",
      "                                                                 time_distributed_4[0][0]         \n",
      "__________________________________________________________________________________________________\n",
      "flatten (Flatten)               (None, 430)          0           concatenate[0][0]                \n",
      "__________________________________________________________________________________________________\n",
      "dropout_1 (Dropout)             (None, 430)          0           flatten[0][0]                    \n",
      "__________________________________________________________________________________________________\n",
      "dense_4 (Dense)                 (None, 16)           6896        dropout_1[0][0]                  \n",
      "__________________________________________________________________________________________________\n",
      "dense_5 (Dense)                 (None, 1)            17          dense_4[0][0]                    \n",
      "==================================================================================================\n",
      "Total params: 10,987\n",
      "Trainable params: 10,987\n",
      "Non-trainable params: 0\n",
      "__________________________________________________________________________________________________\n"
     ]
    }
   ],
   "source": [
    "#model = tf.keras.Sequential()\n",
    "\n",
    "# Todo: split up IC and DC strings!\n",
    "\n",
    "\n",
    "# d1=16\n",
    "# d2=16\n",
    "# d3=16\n",
    "# d4=16\n",
    "# d5=16\n",
    "# d6=128\n",
    "\n",
    "d_lstm = 2\n",
    "\n",
    "activation='relu'\n",
    "\n",
    "#model.add(tf.keras.Input(shape=(N_channels, None, N_features)))#, ragged=True))\n",
    "#model.add(tf.keras.layers.TimeDistributed(tf.keras.layers.LSTM(d1, activation=activation, input_shape=(None, N_features)), input_shape=(N_channels, None, N_features)))\n",
    "#model.add(tf.keras.layers.TimeDistributed(tf.keras.layers.Dense(d2, activation=activation), input_shape=(N_channels, d1)))\n",
    "\n",
    "# without LSTM, simple sum over time\n",
    "\n",
    "inputs = tf.keras.Input(shape=(N_channels, None, N_features))\n",
    "\n",
    "h0 = tf.keras.layers.TimeDistributed(tf.keras.layers.LSTM(d_lstm, activation='relu', input_shape=(None, N_features)), input_shape=(N_channels, None, N_features), )(inputs)\n",
    "\n",
    "\n",
    "#h0 = tf.keras.layers.Flatten(input_shape=(N_channels, 1))(inputs)\n",
    "h1 = tf.keras.layers.Dropout(0.005)(h0)\n",
    "\n",
    "h2 = tf.keras.layers.Reshape((86, 60 * d_lstm))(h1)\n",
    "\n",
    "ic = tf.keras.layers.Lambda(lambda x: x[:, :78])(h2)\n",
    "dc = tf.keras.layers.Lambda(lambda x: x[:, 78:])(h2)\n",
    "\n",
    "\n",
    "h_ic = tf.keras.layers.TimeDistributed(tf.keras.layers.Dense(16, activation='relu', input_shape=(60 * d_lstm,)), input_shape=(78,60 * d_lstm))(ic)\n",
    "h_dc = tf.keras.layers.TimeDistributed(tf.keras.layers.Dense(16, activation='relu', input_shape=(60 * d_lstm,)), input_shape=(8,60 * d_lstm))(dc)\n",
    "\n",
    "h_ic = tf.keras.layers.TimeDistributed(tf.keras.layers.Dense(5, activation='relu', input_shape=(16,)), input_shape=(78,16))(h_ic)\n",
    "h_dc = tf.keras.layers.TimeDistributed(tf.keras.layers.Dense(5, activation='relu', input_shape=(16,)), input_shape=(78,16))(h_dc)\n",
    "\n",
    "\n",
    "h3 = tf.keras.layers.Concatenate(axis=1)([h_ic, h_dc])\n",
    "\n",
    "h4 = tf.keras.layers.Flatten(input_shape=(86, 5))(h3)\n",
    "\n",
    "h4 = tf.keras.layers.Dropout(0.001)(h4)\n",
    "\n",
    "h5 = tf.keras.layers.Dense(16, activation='tanh')(h4)\n",
    "\n",
    "outputs = tf.keras.layers.Dense(N_labels, activation='linear')(h5)\n",
    "\n",
    "model = tf.keras.Model(inputs=inputs, outputs=outputs)\n",
    "\n",
    "model.summary()\n",
    "\n",
    "\n",
    "#model.add(tf.keras.layers.TimeDistributed(tf.keras.layers.Dense(d1, activation=activation), input_shape=(N_channels, N_features)))\n",
    "#model.add(tf.keras.layers.TimeDistributed(tf.keras.layers.Dense(d2, activation=activation), input_shape=(N_channels, d1)))\n",
    "#model.add(tf.keras.layers.Reshape((86, 60 * d2)))\n",
    "#model.add(tf.keras.layers.TimeDistributed(tf.keras.layers.Dense(d3, activation=activation, input_shape=(60*d2,)), input_shape=(86,60*d2)))\n",
    "#model.add(tf.keras.layers.TimeDistributed(tf.keras.layers.Dense(d4, activation=activation, input_shape=(d3,)), input_shape=(86,d3)))\n",
    "#model.add(tf.keras.layers.Flatten(input_shape=(86, d4)))\n",
    "#model.add(tf.keras.layers.Dense(d5, activation='activation))\n",
    "#model.add(tf.keras.layers.Dense(d6))\n",
    "\n"
   ]
  },
  {
   "cell_type": "code",
   "execution_count": 6,
   "metadata": {},
   "outputs": [],
   "source": [
    "#optimizer = tf.keras.optimizers.RMSprop(0.05)\n",
    "optimizer = tf.keras.optimizers.Adam(0.03, )\n",
    "#optimizer='adam'\n",
    "\n",
    "#model.compile(loss=angular_dist_loss, optimizer=\"sgd\", )\n",
    "model.compile(loss='mae', optimizer=optimizer)"
   ]
  },
  {
   "cell_type": "code",
   "execution_count": 4,
   "metadata": {},
   "outputs": [
    {
     "name": "stdout",
     "output_type": "stream",
     "text": [
      "max pulses =  242\n"
     ]
    }
   ],
   "source": [
    "X, y = get_data(\n",
    "    '../test_data/oscNext_genie_level3_v01.03_pass2.120000.000040.hdf5',\n",
    "    features = ['charge'],\n",
    "    labels = ['z'],\n",
    "    sparse=False\n",
    "    )\n",
    "\n",
    "N_events, N_channels, _, N_features = X.shape\n",
    "_, N_labels = y.shape\n",
    "\n",
    "#X = np.sum(X, axis=2)\n",
    "\n",
    "X_train, X_test, y_train, y_test = train_test_split(X, y, test_size=0.1, random_state=42)"
   ]
  },
  {
   "cell_type": "code",
   "execution_count": null,
   "metadata": {},
   "outputs": [
    {
     "name": "stdout",
     "output_type": "stream",
     "text": [
      "Train on 12301 samples, validate on 1367 samples\n",
      "Epoch 1/2\n",
      "10112/12301 [=======================>......] - ETA: 15s - loss: 97.9766"
     ]
    }
   ],
   "source": [
    "model.fit(X_train, y_train, batch_size=64, epochs=2, validation_data=(X_test, y_test),)"
   ]
  },
  {
   "cell_type": "code",
   "execution_count": 27,
   "metadata": {},
   "outputs": [],
   "source": [
    "y_pred = model.predict(X_test, batch_size=64)"
   ]
  },
  {
   "cell_type": "code",
   "execution_count": 28,
   "metadata": {},
   "outputs": [],
   "source": [
    "err = y_pred - y_test"
   ]
  },
  {
   "cell_type": "code",
   "execution_count": 29,
   "metadata": {},
   "outputs": [
    {
     "data": {
      "text/plain": [
       "array([114.38161], dtype=float32)"
      ]
     },
     "execution_count": 29,
     "metadata": {},
     "output_type": "execute_result"
    }
   ],
   "source": [
    "np.sqrt(np.average(np.square(err), axis=0))"
   ]
  },
  {
   "cell_type": "code",
   "execution_count": 30,
   "metadata": {},
   "outputs": [
    {
     "data": {
      "image/png": "[encoded data removed]",
      "text/plain": [
       "<Figure size 432x288 with 1 Axes>"
      ]
     },
     "metadata": {
      "needs_background": "light"
     },
     "output_type": "display_data"
    }
   ],
   "source": [
    "plt.hist(err, bins=np.linspace(-100,100,25));"
   ]
  },
  {
   "cell_type": "code",
   "execution_count": 31,
   "metadata": {},
   "outputs": [
    {
     "data": {
      "text/plain": [
       "array([-98.28393555,  -6.86242676,  88.77275085])"
      ]
     },
     "execution_count": 31,
     "metadata": {},
     "output_type": "execute_result"
    }
   ],
   "source": [
    "np.quantile(err, [0.25, 0.5, 0.75])"
   ]
  },
  {
   "cell_type": "code",
   "execution_count": 789,
   "metadata": {},
   "outputs": [
    {
     "data": {
      "text/plain": [
       "<tf.Tensor: id=665976, shape=(), dtype=float32, numpy=2.3851235>"
      ]
     },
     "execution_count": 789,
     "metadata": {},
     "output_type": "execute_result"
    }
   ],
   "source": [
    "angular_dist_loss(y, y_pred)"
   ]
  },
  {
   "cell_type": "code",
   "execution_count": 790,
   "metadata": {},
   "outputs": [
    {
     "data": {
      "text/plain": [
       "<tf.Tensor: id=665994, shape=(), dtype=float32, numpy=0.7891493>"
      ]
     },
     "execution_count": 790,
     "metadata": {},
     "output_type": "execute_result"
    }
   ],
   "source": [
    "angular_dist_loss(y_train[::-1], y_train)"
   ]
  },
  {
   "cell_type": "code",
   "execution_count": 13,
   "metadata": {},
   "outputs": [
    {
     "data": {
      "text/plain": [
       "[<matplotlib.lines.Line2D at 0x7f05d05f4a90>]"
      ]
     },
     "execution_count": 13,
     "metadata": {},
     "output_type": "execute_result"
    },
    {
     "data": {
      "image/png": "[encoded data removed]",
      "text/plain": [
       "<Figure size 432x288 with 1 Axes>"
      ]
     },
     "metadata": {
      "needs_background": "light"
     },
     "output_type": "display_data"
    }
   ],
   "source": [
    "plt.plot(model.history.history['loss'])\n",
    "plt.plot(model.history.history['val_loss'])"
   ]
  },
  {
   "cell_type": "code",
   "execution_count": null,
   "metadata": {},
   "outputs": [],
   "source": []
  }
 ],
 "metadata": {
  "kernelspec": {
   "display_name": "Python 3",
   "language": "python",
   "name": "python3"
  },
  "language_info": {
   "codemirror_mode": {
    "name": "ipython",
    "version": 3
   },
   "file_extension": ".py",
   "mimetype": "text/x-python",
   "name": "python",
   "nbconvert_exporter": "python",
   "pygments_lexer": "ipython3",
   "version": "3.7.4"
  }
 },
 "nbformat": 4,
 "nbformat_minor": 4
}

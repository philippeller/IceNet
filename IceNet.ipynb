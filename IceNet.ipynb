{
 "cells": [
  {
   "cell_type": "code",
   "execution_count": 1,
   "metadata": {},
   "outputs": [],
   "source": [
    "import os\n",
    "os.environ[\"CUDA_VISIBLE_DEVICES\"]=\"1\""
   ]
  },
  {
   "cell_type": "code",
   "execution_count": 2,
   "metadata": {},
   "outputs": [],
   "source": [
    "from __future__ import division, print_function\n",
    "import numpy as np\n",
    "import matplotlib.pyplot as plt\n",
    "import tensorflow as tf\n",
    "\n",
    "%load_ext autoreload\n",
    "%autoreload 2\n",
    "\n",
    "from dataloader import get_data, get_data_3d\n",
    "from sklearn.model_selection import train_test_split\n",
    "\n",
    "#import eli5\n",
    "#from eli5.sklearn import PermutationImportance"
   ]
  },
  {
   "cell_type": "markdown",
   "metadata": {},
   "source": [
    "# ToDo list\n",
    "* backpropagate to find what features are important\n",
    "* think about feature vector\n",
    "* maybe angle as 2d matrix - one hot encoding\n",
    "* classification (cscd, trck, muon, noise?)\n",
    "* speed up file reader / parallelize\n",
    "* sparse / ragged array w/ tf v 2.1"
   ]
  },
  {
   "cell_type": "code",
   "execution_count": 3,
   "metadata": {},
   "outputs": [
    {
     "data": {
      "text/plain": [
       "True"
      ]
     },
     "execution_count": 3,
     "metadata": {},
     "output_type": "execute_result"
    }
   ],
   "source": [
    "tf.test.is_gpu_available()"
   ]
  },
  {
   "cell_type": "code",
   "execution_count": 4,
   "metadata": {},
   "outputs": [],
   "source": [
    "import h5py\n"
   ]
  },
  {
   "cell_type": "code",
   "execution_count": 5,
   "metadata": {},
   "outputs": [],
   "source": [
    "h = h5py.File('../test_data/oscNext_genie_level3_v01.03_pass2.120000.000000.hdf5', 'r')"
   ]
  },
  {
   "cell_type": "code",
   "execution_count": 6,
   "metadata": {},
   "outputs": [],
   "source": [
    "t = np.asanyarray(h['MCInIcePrimary'])[['Event', 'x']]"
   ]
  },
  {
   "cell_type": "code",
   "execution_count": 7,
   "metadata": {},
   "outputs": [
    {
     "data": {
      "text/plain": [
       "array([  64.8602006 ,   36.34829112,   36.69151319, ...,   93.83251081,\n",
       "        -52.64937461, -159.68315717])"
      ]
     },
     "execution_count": 7,
     "metadata": {},
     "output_type": "execute_result"
    }
   ],
   "source": [
    "t['x']"
   ]
  },
  {
   "cell_type": "code",
   "execution_count": 8,
   "metadata": {},
   "outputs": [],
   "source": [
    "def angular_dist(zen_true, az_true, zen_pred, az_pred):\n",
    "    dd = tf.math.cos(zen_pred) * tf.math.cos(zen_true) + tf.math.sin(zen_pred) * tf.math.sin(zen_true) * tf.math.cos(az_pred - az_true)\n",
    "    dd = tf.clip_by_value(dd, -1., 1.)\n",
    "    return tf.math.acos(dd)"
   ]
  },
  {
   "cell_type": "code",
   "execution_count": 9,
   "metadata": {},
   "outputs": [
    {
     "data": {
      "image/png": "[encoded data removed]",
      "text/plain": [
       "<Figure size 1080x1080 with 2 Axes>"
      ]
     },
     "metadata": {
      "needs_background": "light"
     },
     "output_type": "display_data"
    }
   ],
   "source": [
    "zenith = np.linspace(-2*np.pi, 3*np.pi, 100)\n",
    "azimuth = np.linspace(-2*np.pi, 3*np.pi, 100)\n",
    "\n",
    "zenzen, azaz = np.meshgrid(zenith, azimuth)\n",
    "\n",
    "true = [0, 1]\n",
    "\n",
    "loss = angular_dist(np.array(true[0], dtype=np.float64), np.array(true[1], dtype=np.float64), zenzen.T, azaz.T)\n",
    "\n",
    "fig, ax = plt.subplots(1, 1, figsize=(15,15))\n",
    "im = ax.imshow(loss, extent=(azimuth[0], azimuth[-1], zenith[0], zenith[-1]), origin='lower')\n",
    "ax.axhline(true[0], color='r')\n",
    "ax.axvline(true[1], color='r')\n",
    "\n",
    "ax.set_xlabel('azimuth')\n",
    "ax.set_ylabel('zenith')\n",
    "\n",
    "cbar = fig.colorbar(im, )\n",
    "cbar.set_label('loss')"
   ]
  },
  {
   "cell_type": "code",
   "execution_count": 10,
   "metadata": {},
   "outputs": [
    {
     "data": {
      "image/png": "[encoded data removed]",
      "text/plain": [
       "<Figure size 432x288 with 1 Axes>"
      ]
     },
     "metadata": {
      "needs_background": "light"
     },
     "output_type": "display_data"
    }
   ],
   "source": [
    "plt.plot(np.asarray(loss).T);"
   ]
  },
  {
   "cell_type": "code",
   "execution_count": 11,
   "metadata": {
    "jupyter": {
     "source_hidden": true
    }
   },
   "outputs": [],
   "source": [
    "def my_loss(y_true, y_pred, sample_weight=1.):\n",
    "\n",
    "    # vertex\n",
    "\n",
    "    #if sample_weight is None:\n",
    "    #sample_weight = 1.\n",
    "\n",
    "    dist = tf.math.sqrt(tf.square(y_pred[:,0] - y_true[:,0]) / 25. + tf.square(y_pred[:,1] - y_true[:,1]) / 25. + tf.square(y_pred[:,2] - y_true[:,2]) / 15.) / 3.\n",
    "    # Huber\n",
    "    delta = 1.\n",
    "    mask = dist < delta\n",
    "    p1 = 0.5 * tf.square(dist[mask])\n",
    "    p2 = delta * (dist[~mask] - 0.5*delta)\n",
    "\n",
    "    vertex_loss =  tf.reduce_mean(tf.concat([p1, p2], axis=0)  )# * sample_weight)\n",
    "\n",
    "    ad = angular_dist(y_true[:,3], y_true[:,4], y_pred[:,3], y_pred[:, 4])\n",
    "\n",
    "    #angular_loss = tf.sqrt(tf.reduce_mean(tf.square(ad))) * 2.\n",
    "\n",
    "    angular_loss = tf.reduce_mean(tf.abs(ad) )#* sample_weight)\n",
    "\n",
    "    #angular_loss = tf.reduce_mean(tf.math.square(tf.math.acos(tf.math.cos(y_pred[:,3]) * tf.math.cos(y_true[:,3]) + tf.math.sin(y_pred[:,3]) * tf.math.sin(y_true[:,3]) * tf.math.cos(y_pred[:,4] - y_true[:,4]))), axis=0)\n",
    "\n",
    "    energy_loss = tf.sqrt(tf.reduce_mean(tf.math.square(y_pred[:,5] - y_true[:,5]) ))#* sample_weight)) / 50.\n",
    "\n",
    "    return energy_loss #+ angular_loss + vertex_loss   #vertex_loss + angular_loss + energy_loss"
   ]
  },
  {
   "cell_type": "code",
   "execution_count": 12,
   "metadata": {},
   "outputs": [],
   "source": [
    "def huber(x, delta):\n",
    "    '''calculate huber loss'''\n",
    "    mask = x < delta\n",
    "    p1 = 0.5 * tf.square(x[mask])\n",
    "    p2 = delta * (x[~mask] - 0.5*delta)\n",
    "    return tf.concat([p1, p2], axis=0)"
   ]
  },
  {
   "cell_type": "code",
   "execution_count": 13,
   "metadata": {},
   "outputs": [],
   "source": [
    "def e_loss(pred, true):\n",
    "    #penalty = tf.dtypes.cast(pred < 0., dtype=pred.dtype) * 20.\n",
    "    diff = tf.abs(pred - true) #/ 10\n",
    "    return diff #+ penalty"
   ]
  },
  {
   "cell_type": "code",
   "execution_count": 14,
   "metadata": {},
   "outputs": [],
   "source": [
    "def v_loss(x_pred, y_pred, z_pred, x_true, y_true, z_true):\n",
    "    dist = tf.math.sqrt(tf.square((x_pred - x_true)/25.)  + tf.square((y_pred - y_true)/25.)  + tf.square((z_pred - z_true))/15.)\n",
    "    return huber(dist, 1.)"
   ]
  },
  {
   "cell_type": "code",
   "execution_count": 15,
   "metadata": {},
   "outputs": [],
   "source": [
    "def t_loss(time_pred, time_true):\n",
    "    return huber(tf.abs(time_pred - time_true), 1.)"
   ]
  },
  {
   "cell_type": "code",
   "execution_count": 71,
   "metadata": {},
   "outputs": [],
   "source": [
    "def a_loss(zen_true, az_true, zen_pred, az_pred):\n",
    "    \n",
    "    #dist = angular_dist(zen_true, az_true, zen_pred, az_pred)\n",
    "    \n",
    "    # penalty term for wrong branch\n",
    "    \n",
    "    az_dist = tf.abs((az_true - az_pred))\n",
    "    zen_dist = tf.abs((zen_true - zen_pred))\n",
    "\n",
    "    return tf.square(tf.square(zen_dist) + tf.square(az_dist))\n",
    "    \n",
    "    az_mask = tf.dtypes.cast((az_dist > 2 * np.pi), dtype=dist.dtype)\n",
    "    az_penalty = az_mask * (az_dist)\n",
    "                             \n",
    "    zen_mask = tf.dtypes.cast((zen_dist > np.pi), dtype=dist.dtype)\n",
    "    zen_penalty = zen_mask * (zen_dist)\n",
    "                     \n",
    "    dist_mask = (1. - az_mask) * (1. - zen_mask)\n",
    "    \n",
    "    \n",
    "    #az_b = tf.abs(((az_true - az_pred) + np.pi) // (2 * np.pi)) == 0.\n",
    "    #zen_b =  tf.abs(zen_true - zen_pred) // (0.5 * np.pi) == 0.\n",
    "    \n",
    "    return dist * dist_mask + (1 - dist_mask) * (az_penalty + zen_penalty)\n",
    "    \n",
    "    \n",
    "    #dd = taylor_sin(zen_pred) * tf.math.sin(zen_true) + taylor_cos(zen_pred) * tf.math.cos(zen_true) * tf.math.cos(az_pred - az_true)\n",
    "\n",
    "    #return dd\n",
    "    \n",
    "    # if angular distance > pi / 2 -> extend loss at pi/2 linearly in az and zen\n",
    "    \n",
    "    az_dist = tf.abs((az_true - az_pred) * tf.abs(tf.math.cos(zen_true)))\n",
    "    #az_dist = tf.maximum(az_dist, np.pi) - np.pi\n",
    "    \n",
    "    \n",
    "    zen_dist = tf.abs(zen_true - zen_pred) * (1 + tf.abs(tf.math.sin(zen_true))) * 0.5\n",
    "    #zen_dist = tf.maximum(zen_dist, 0.5 * np.pi) - 0.5 * np.pi\n",
    "    \n",
    "    lin_term = tf.sqrt(tf.square(az_dist) + tf.square(zen_dist)) #- 0.5 * np.pi\n",
    "    \n",
    "    return lin_term\n",
    "    \n",
    "    #mask = tf.dtypes.cast((dist > 0.5 * np.pi) | (lin_term > 0.25 * np.pi) , dtype=dist.dtype)\n",
    "    \n",
    "    #dist = dist * ( 1. - mask) + mask * lin_term\n",
    "    \n",
    "    #masked_dist = tf.boolean_mask(dist, mask)\n",
    "    \n",
    "    #masked_dist = masked_dist + tf.boolean_mask(lin_term, mask)\n",
    "    \n",
    "    return dist\n",
    "\n",
    "    "
   ]
  },
  {
   "cell_type": "code",
   "execution_count": 25,
   "metadata": {},
   "outputs": [],
   "source": [
    "x_idx = labels.index('x')\n",
    "y_idx = labels.index('y')\n",
    "z_idx = labels.index('z')\n",
    "time_idx = labels.index('time')\n",
    "azimuth_idx = labels.index('azimuth')\n",
    "zenith_idx = labels.index('zenith')\n",
    "energy_idx = labels.index('energy')\n",
    "\n",
    "\n",
    "\n",
    "def my_loss(y_true, y_pred, sample_weight=1.):\n",
    "\n",
    "    vertex_loss = v_loss(y_pred[:,x_idx], y_pred[:,y_idx], y_pred[:,z_idx], y_true[:,x_idx], y_true[:,y_idx], y_true[:,z_idx]) \n",
    "\n",
    "    time_loss = t_loss(y_pred[:,time_idx], y_true[:,time_idx])\n",
    "    \n",
    "    angular_loss = a_loss(y_true[:,zenith_idx], y_true[:,azimuth_idx], y_pred[:,zenith_idx], y_pred[:, azimuth_idx])\n",
    "        \n",
    "    energy_loss = e_loss(y_pred[:,energy_idx], y_true[:,energy_idx])\n",
    "\n",
    "    \n",
    "    #return angular_loss * sample_weight\n",
    "    return (energy_loss + angular_loss + vertex_loss + time_loss) * sample_weight"
   ]
  },
  {
   "cell_type": "code",
   "execution_count": 56,
   "metadata": {},
   "outputs": [
    {
     "name": "stderr",
     "output_type": "stream",
     "text": [
      "100%|██████████| 2/2 [00:00<00:00, 405.66it/s]"
     ]
    },
    {
     "name": "stdout",
     "output_type": "stream",
     "text": [
      "max pulses =  146\n"
     ]
    },
    {
     "name": "stderr",
     "output_type": "stream",
     "text": [
      "\n"
     ]
    }
   ],
   "source": [
    "X, y = get_data(\n",
    "    '../test_data/oscNext_genie_level3_v01.03_pass2.120000.000120.hdf5',\n",
    "    features = ['charge'],\n",
    "    labels = ['z'],\n",
    "    sparse=True,\n",
    "    ragged=False,\n",
    "    N_events=2,\n",
    "    )\n",
    "\n",
    "N_events, N_channels, max_pulses, N_features = X.shape\n",
    "_, N_labels = y.shape"
   ]
  },
  {
   "cell_type": "code",
   "execution_count": 11,
   "metadata": {},
   "outputs": [],
   "source": []
  },
  {
   "cell_type": "code",
   "execution_count": 9,
   "metadata": {},
   "outputs": [
    {
     "name": "stdout",
     "output_type": "stream",
     "text": [
      "oscNext_genie_level3_v01.03_pass2.120000.000000.hdf5\n",
      "oscNext_genie_level3_v01.03_pass2.120000.000020.hdf5\n",
      "oscNext_genie_level3_v01.03_pass2.120000.000030.hdf5\n",
      "oscNext_genie_level3_v01.03_pass2.120000.000040.hdf5\n",
      "oscNext_genie_level3_v01.03_pass2.120000.000050.hdf5\n",
      "oscNext_genie_level3_v01.03_pass2.120000.000060.hdf5\n",
      "oscNext_genie_level3_v01.03_pass2.120000.000070.hdf5\n",
      "oscNext_genie_level3_v01.03_pass2.120000.000080.hdf5\n",
      "oscNext_genie_level3_v01.03_pass2.120000.000090.hdf5\n",
      "oscNext_genie_level3_v01.03_pass2.120000.000110.hdf5\n",
      "oscNext_genie_level3_v01.03_pass2.120000.000120.hdf5\n",
      "oscNext_genie_level3_v01.03_pass2.120000.000130.hdf5\n",
      "oscNext_genie_level3_v01.03_pass2.120000.000140.hdf5\n",
      "oscNext_genie_level3_v01.03_pass2.120000.000150.hdf5\n",
      "oscNext_genie_level3_v01.03_pass2.120000.000160.hdf5\n",
      "oscNext_genie_level3_v01.03_pass2.120000.000170.hdf5\n",
      "oscNext_genie_level3_v01.03_pass2.120000.000190.hdf5\n",
      "oscNext_genie_level3_v01.03_pass2.120000.000200.hdf5\n",
      "oscNext_genie_level3_v01.03_pass2.120000.000210.hdf5\n",
      "oscNext_genie_level3_v01.03_pass2.120000.000220.hdf5\n",
      "oscNext_genie_level3_v01.03_pass2.120000.000230.hdf5\n",
      "oscNext_genie_level3_v01.03_pass2.120000.000240.hdf5\n",
      "oscNext_genie_level3_v01.03_pass2.120000.000250.hdf5\n",
      "oscNext_genie_level3_v01.03_pass2.120000.000260.hdf5\n",
      "oscNext_genie_level3_v01.03_pass2.120000.000270.hdf5\n",
      "oscNext_genie_level3_v01.03_pass2.120000.000280.hdf5\n",
      "oscNext_genie_level3_v01.03_pass2.120000.000300.hdf5\n",
      "oscNext_genie_level3_v01.03_pass2.120000.000310.hdf5\n",
      "oscNext_genie_level3_v01.03_pass2.120000.000320.hdf5\n",
      "oscNext_genie_level3_v01.03_pass2.120000.000330.hdf5\n",
      "oscNext_genie_level3_v01.03_pass2.120000.000340.hdf5\n",
      "oscNext_genie_level3_v01.03_pass2.120000.000350.hdf5\n",
      "oscNext_genie_level3_v01.03_pass2.120000.000360.hdf5\n",
      "oscNext_genie_level3_v01.03_pass2.120000.000370.hdf5\n",
      "oscNext_genie_level3_v01.03_pass2.120000.000380.hdf5\n",
      "oscNext_genie_level3_v01.03_pass2.120000.000390.hdf5\n",
      "oscNext_genie_level3_v01.03_pass2.120000.000400.hdf5\n",
      "oscNext_genie_level3_v01.03_pass2.120000.000410.hdf5\n",
      "oscNext_genie_level3_v01.03_pass2.120000.000420.hdf5\n",
      "oscNext_genie_level3_v01.03_pass2.120000.000430.hdf5\n",
      "oscNext_genie_level3_v01.03_pass2.120000.000440.hdf5\n",
      "oscNext_genie_level3_v01.03_pass2.120000.000450.hdf5\n",
      "oscNext_genie_level3_v01.03_pass2.120000.000460.hdf5\n",
      "oscNext_genie_level3_v01.03_pass2.120000.000470.hdf5\n",
      "oscNext_genie_level3_v01.03_pass2.120000.000480.hdf5\n",
      "oscNext_genie_level3_v01.03_pass2.120000.000500.hdf5\n",
      "oscNext_genie_level3_v01.03_pass2.120000.000510.hdf5\n",
      "oscNext_genie_level3_v01.03_pass2.120000.000520.hdf5\n",
      "oscNext_genie_level3_v01.03_pass2.120000.000530.hdf5\n",
      "oscNext_genie_level3_v01.03_pass2.120000.000540.hdf5\n",
      "oscNext_genie_level3_v01.03_pass2.120000.000550.hdf5\n",
      "oscNext_genie_level3_v01.03_pass2.120000.000560.hdf5\n",
      "oscNext_genie_level3_v01.03_pass2.120000.000570.hdf5\n",
      "oscNext_genie_level3_v01.03_pass2.120000.000580.hdf5\n",
      "oscNext_genie_level3_v01.03_pass2.120000.000590.hdf5\n",
      "oscNext_genie_level3_v01.03_pass2.120000.000600.hdf5\n",
      "oscNext_genie_level3_v01.03_pass2.120000.000610.hdf5\n",
      "oscNext_genie_level3_v01.03_pass2.120000.000620.hdf5\n",
      "oscNext_genie_level3_v01.03_pass2.120000.000630.hdf5\n",
      "oscNext_genie_level3_v01.03_pass2.120000.000640.hdf5\n",
      "oscNext_genie_level3_v01.03_pass2.140000.000001.hdf5\n",
      "oscNext_genie_level5_v01.03_pass2.140001.001234\n",
      "oscNext_genie_level5_v01.03_pass2.140001.001234.i3.zst\n",
      "oscNext_genie_level5_v01.03_pass2.140001.001234_reco_ext_opt.i3.zst\n",
      "oscNext_genie_level5_v01.03_pass2.140001.001234_reco.i3.zst\n",
      "oscNext_genie_level5_v01.03_pass2.140001.001234_reco_test.i3.zst\n",
      "oscNext_genie_level5_v01.03_pass2.140001.001234_reco_xxx.i3.zst\n",
      "oscNext_genie_level5_v01.03_pass2.140001.001234__retro_crs_prefit.i3.zst\n",
      "Untitled.ipynb\n",
      "X.npy\n",
      "y.npy\n"
     ]
    }
   ],
   "source": [
    "!ls ../test_data/"
   ]
  },
  {
   "cell_type": "code",
   "execution_count": 45,
   "metadata": {},
   "outputs": [
    {
     "name": "stdout",
     "output_type": "stream",
     "text": [
      "Skipping file ../test_data/oscNext_genie_level3_v01.03_pass2.140000.000000.hdf5\n"
     ]
    },
    {
     "name": "stderr",
     "output_type": "stream",
     "text": [
      "100%|██████████| 9167/9167 [00:23<00:00, 383.51it/s]\n",
      "100%|██████████| 9200/9200 [00:24<00:00, 371.86it/s]\n",
      "100%|██████████| 9221/9221 [00:24<00:00, 381.16it/s]\n",
      "100%|██████████| 9213/9213 [00:24<00:00, 378.53it/s]\n",
      "100%|██████████| 9079/9079 [00:28<00:00, 315.55it/s]\n",
      "100%|██████████| 9136/9136 [00:36<00:00, 248.51it/s]\n",
      "100%|██████████| 9198/9198 [00:26<00:00, 344.46it/s]\n",
      "100%|██████████| 9219/9219 [00:26<00:00, 348.05it/s]\n",
      "100%|██████████| 9082/9082 [00:26<00:00, 344.16it/s]\n"
     ]
    }
   ],
   "source": [
    "labels = ['x', 'y', 'z', 'time', 'zenith', 'azimuth', 'energy']\n",
    "reco_labels = labels[:-1]\n",
    "\n",
    "Xs = []\n",
    "ys = []\n",
    "rs = []\n",
    "\n",
    "\n",
    "for i in range(10):\n",
    "    #fname = '../test_data/oscNext_genie_level3_v01.03_pass2.120000.000%s0.hdf5'%('%s'%i).zfill(2)\n",
    "    fname = '../test_data/oscNext_genie_level3_v01.03_pass2.140000.000%s00.hdf5'%i\n",
    "    try:\n",
    "        X, y, r = get_data_3d(\n",
    "            fname,\n",
    "            labels = labels,\n",
    "            reco_labels = reco_labels,\n",
    "            N_events=None,\n",
    "            min_pulses=10,\n",
    "            )\n",
    "        Xs.append(X)\n",
    "        ys.append(y)\n",
    "        rs.append(r)\n",
    "    except OSError:\n",
    "        print('Skipping file %s'%fname)\n",
    "        #raise Exception\n",
    "\n",
    "X = np.concatenate(Xs)\n",
    "y = np.concatenate(ys)\n",
    "r = np.concatenate(rs)\n",
    "    \n",
    "r = np.nan_to_num(r)\n",
    "    \n",
    "w = np.sum(X[:,:,0], axis=1)\n",
    "\n",
    "N_events, N_channels, N_features = X.shape\n",
    "_, N_labels = y.shape\n",
    "\n"
   ]
  },
  {
   "cell_type": "code",
   "execution_count": null,
   "metadata": {},
   "outputs": [],
   "source": [
    "#np.save('../test_data/X.npy', X)\n",
    "#np.save('../test_data/y.npy', y)"
   ]
  },
  {
   "cell_type": "code",
   "execution_count": 46,
   "metadata": {},
   "outputs": [],
   "source": [
    "X_train, X_test, y_train, y_test, w_train, w_test, r_train, r_test = train_test_split(X, y, w, r, test_size=0.1, random_state=42)"
   ]
  },
  {
   "cell_type": "code",
   "execution_count": 47,
   "metadata": {},
   "outputs": [],
   "source": [
    "energy_idx = labels.index('energy')\n",
    "\n",
    "y_train[:, energy_idx] = np.log(y_train[:, energy_idx])\n",
    "y_test[:, energy_idx] = np.log(y_test[:, energy_idx])"
   ]
  },
  {
   "cell_type": "code",
   "execution_count": 22,
   "metadata": {},
   "outputs": [
    {
     "data": {
      "text/plain": [
       "(33449, 7)"
      ]
     },
     "execution_count": 22,
     "metadata": {},
     "output_type": "execute_result"
    }
   ],
   "source": [
    "y_train.shape"
   ]
  },
  {
   "cell_type": "code",
   "execution_count": 48,
   "metadata": {},
   "outputs": [
    {
     "data": {
      "text/plain": [
       "(8252, 5160, 7)"
      ]
     },
     "execution_count": 48,
     "metadata": {},
     "output_type": "execute_result"
    }
   ],
   "source": [
    "X_test.shape"
   ]
  },
  {
   "cell_type": "code",
   "execution_count": 79,
   "metadata": {},
   "outputs": [
    {
     "name": "stdout",
     "output_type": "stream",
     "text": [
      "Model: \"model_3\"\n",
      "__________________________________________________________________________________________________\n",
      "Layer (type)                    Output Shape         Param #     Connected to                     \n",
      "==================================================================================================\n",
      "input_4 (InputLayer)            [(None, 5160, 7)]    0                                            \n",
      "__________________________________________________________________________________________________\n",
      "reshape_3 (Reshape)             (None, 86, 420)      0           input_4[0][0]                    \n",
      "__________________________________________________________________________________________________\n",
      "dropout_9 (Dropout)             (None, 86, 420)      0           reshape_3[0][0]                  \n",
      "__________________________________________________________________________________________________\n",
      "lambda_6 (Lambda)               (None, 78, 420)      0           dropout_9[0][0]                  \n",
      "__________________________________________________________________________________________________\n",
      "lambda_7 (Lambda)               (None, 8, 420)       0           dropout_9[0][0]                  \n",
      "__________________________________________________________________________________________________\n",
      "time_distributed_18 (TimeDistri (None, 78, 64)       26944       lambda_6[0][0]                   \n",
      "__________________________________________________________________________________________________\n",
      "time_distributed_19 (TimeDistri (None, 8, 64)        26944       lambda_7[0][0]                   \n",
      "__________________________________________________________________________________________________\n",
      "time_distributed_20 (TimeDistri (None, 78, 32)       2080        time_distributed_18[0][0]        \n",
      "__________________________________________________________________________________________________\n",
      "time_distributed_21 (TimeDistri (None, 8, 32)        2080        time_distributed_19[0][0]        \n",
      "__________________________________________________________________________________________________\n",
      "time_distributed_22 (TimeDistri (None, 78, 16)       528         time_distributed_20[0][0]        \n",
      "__________________________________________________________________________________________________\n",
      "time_distributed_23 (TimeDistri (None, 8, 16)        528         time_distributed_21[0][0]        \n",
      "__________________________________________________________________________________________________\n",
      "concatenate_3 (Concatenate)     (None, 86, 16)       0           time_distributed_22[0][0]        \n",
      "                                                                 time_distributed_23[0][0]        \n",
      "__________________________________________________________________________________________________\n",
      "flatten_3 (Flatten)             (None, 1376)         0           concatenate_3[0][0]              \n",
      "__________________________________________________________________________________________________\n",
      "dropout_10 (Dropout)            (None, 1376)         0           flatten_3[0][0]                  \n",
      "__________________________________________________________________________________________________\n",
      "dense_33 (Dense)                (None, 32)           44064       dropout_10[0][0]                 \n",
      "__________________________________________________________________________________________________\n",
      "dropout_11 (Dropout)            (None, 32)           0           dense_33[0][0]                   \n",
      "__________________________________________________________________________________________________\n",
      "dense_34 (Dense)                (None, 32)           1056        dropout_11[0][0]                 \n",
      "__________________________________________________________________________________________________\n",
      "dense_35 (Dense)                (None, 7)            231         dense_34[0][0]                   \n",
      "==================================================================================================\n",
      "Total params: 104,455\n",
      "Trainable params: 104,455\n",
      "Non-trainable params: 0\n",
      "__________________________________________________________________________________________________\n"
     ]
    }
   ],
   "source": [
    "\n",
    "#d_lstm = 1\n",
    "\n",
    "#activation=tf.nn.leaky_relu\n",
    "activation='relu'\n",
    "\n",
    "max_pulses=None\n",
    "\n",
    "# with LSTM\n",
    "#inputs = tf.keras.Input(shape=(N_channels, max_pulses, N_features))#, sparse=True)\n",
    "#h0 = tf.keras.layers.TimeDistributed(tf.keras.layers.LSTM(d_lstm, activation='relu', input_shape=(max_pulses, N_features)), input_shape=(N_channels, max_pulses, N_features), )(inputs, )\n",
    "\n",
    "# without LSTM, simple sum over time\n",
    "inputs = tf.keras.Input(shape=(N_channels, N_features), )\n",
    "\n",
    "h0 = inputs\n",
    "\n",
    "h1 = tf.keras.layers.Reshape((86, 60 * N_features))(h0)\n",
    "\n",
    "h2 = tf.keras.layers.Dropout(0.01)(h1)\n",
    "\n",
    "\n",
    "ic = tf.keras.layers.Lambda(lambda x: x[:, :78])(h2)\n",
    "dc = tf.keras.layers.Lambda(lambda x: x[:, 78:])(h2)\n",
    "\n",
    "\n",
    "h_ic = tf.keras.layers.TimeDistributed(tf.keras.layers.Dense(64, activation=activation, input_shape=(60 * N_features,)), input_shape=(78,60 * N_features))(ic)\n",
    "h_dc = tf.keras.layers.TimeDistributed(tf.keras.layers.Dense(64, activation=activation, input_shape=(60 * N_features,)), input_shape=(8,60 * N_features))(dc)\n",
    "\n",
    "h_ic = tf.keras.layers.TimeDistributed(tf.keras.layers.Dense(32, activation=activation, input_shape=(64,)), input_shape=(78,64))(h_ic)\n",
    "h_dc = tf.keras.layers.TimeDistributed(tf.keras.layers.Dense(32, activation=activation, input_shape=(64,)), input_shape=(8,64))(h_dc)\n",
    "\n",
    "h_ic = tf.keras.layers.TimeDistributed(tf.keras.layers.Dense(16, activation=activation, input_shape=(32,)), input_shape=(78,32))(h_ic)\n",
    "h_dc = tf.keras.layers.TimeDistributed(tf.keras.layers.Dense(16, activation=activation, input_shape=(32,)), input_shape=(8,32))(h_dc)\n",
    "\n",
    "\n",
    "h3 = tf.keras.layers.Concatenate(axis=1)([h_ic, h_dc])\n",
    "\n",
    "h4 = tf.keras.layers.Flatten(input_shape=(86, 16))(h3)\n",
    "\n",
    "h4 = tf.keras.layers.Dropout(0.01)(h4)\n",
    "\n",
    "h5 = tf.keras.layers.Dense(32, activation=activation)(h4)\n",
    "h5 = tf.keras.layers.Dropout(0.01)(h5)\n",
    "h5 = tf.keras.layers.Dense(32, activation=activation)(h5)\n",
    "\n",
    "outputs = tf.keras.layers.Dense(N_labels, activation='linear')(h5)\n",
    "\n",
    "model = tf.keras.Model(inputs=inputs, outputs=outputs)\n",
    "\n",
    "model.summary()\n",
    "\n",
    "loss_history = []\n",
    "val_loss_history = []"
   ]
  },
  {
   "cell_type": "code",
   "execution_count": 80,
   "metadata": {},
   "outputs": [],
   "source": [
    "#optimizer = tf.keras.optimizers.SGD(0.001) #, clipnorm=1) # bad\n",
    "#optimizer = tf.keras.optimizers.RMSprop(0.001, )\n",
    "#optimizer = tf.keras.optimizers.Nadam(0.001)\n",
    "optimizer = tf.keras.optimizers.Adam(0.001)\n",
    "\n",
    "#model.compile(loss=angular_dist_loss, optimizer=\"sgd\", )\n",
    "model.compile(loss=my_loss, optimizer=optimizer)"
   ]
  },
  {
   "cell_type": "code",
   "execution_count": 81,
   "metadata": {},
   "outputs": [],
   "source": [
    "#sample_weights_train = np.sqrt(w_train)\n",
    "#sample_weights_test = np.sqrt(w_test)\n",
    "\n",
    "sample_weights_train = np.ones_like(w_train)\n",
    "sample_weights_test = np.ones_like(w_test)"
   ]
  },
  {
   "cell_type": "code",
   "execution_count": null,
   "metadata": {},
   "outputs": [
    {
     "name": "stdout",
     "output_type": "stream",
     "text": [
      "Train on 74263 samples, validate on 8252 samples\n",
      "Epoch 1/40\n",
      "74263/74263 [==============================] - 6s 87us/sample - loss: 192.7512 - val_loss: 116.2816\n",
      "Epoch 2/40\n",
      "74263/74263 [==============================] - 4s 58us/sample - loss: 115.9081 - val_loss: 113.7779\n",
      "Epoch 3/40\n",
      "74263/74263 [==============================] - 4s 60us/sample - loss: 111.3463 - val_loss: 103.5106\n",
      "Epoch 4/40\n",
      "74263/74263 [==============================] - 4s 57us/sample - loss: 75.2258 - val_loss: 53.5459\n",
      "Epoch 5/40\n",
      "74263/74263 [==============================] - 4s 61us/sample - loss: 52.6439 - val_loss: 50.1502\n",
      "Epoch 6/40\n",
      "74263/74263 [==============================] - 4s 58us/sample - loss: 48.2856 - val_loss: 45.6233\n",
      "Epoch 7/40\n",
      "74263/74263 [==============================] - 4s 58us/sample - loss: 44.6122 - val_loss: 43.5694\n",
      "Epoch 8/40\n",
      "74263/74263 [==============================] - 4s 57us/sample - loss: 42.9500 - val_loss: 41.9944\n",
      "Epoch 9/40\n",
      "74263/74263 [==============================] - 5s 62us/sample - loss: 41.7865 - val_loss: 41.3933\n",
      "Epoch 10/40\n",
      "74263/74263 [==============================] - 4s 57us/sample - loss: 40.9909 - val_loss: 41.5449\n",
      "Epoch 11/40\n",
      "12288/74263 [===>..........................] - ETA: 2s - loss: 40.8644"
     ]
    }
   ],
   "source": [
    "model.fit(X_train, y_train, sample_weight=sample_weights_train, batch_size=512, epochs=40, validation_data=(X_test, y_test, sample_weights_test), )\n",
    "#model.fit(X_train, y_train, batch_size=512, epochs=30, validation_data=(X_test, y_test))\n",
    "\n",
    "loss_history.append(model.history.history['loss'])\n",
    "val_loss_history.append(model.history.history['val_loss'])"
   ]
  },
  {
   "cell_type": "code",
   "execution_count": 77,
   "metadata": {},
   "outputs": [],
   "source": [
    "#X_importance_test = np.copy(X_test)\n",
    "#X_importance_test[:,:,1] = 0."
   ]
  },
  {
   "cell_type": "code",
   "execution_count": 78,
   "metadata": {},
   "outputs": [
    {
     "name": "stdout",
     "output_type": "stream",
     "text": [
      "x : width =  49.768632888793945  median =  -3.1956143379211426\n",
      "y : width =  48.01773977279663  median =  4.096933364868164\n",
      "z : width =  40.058372497558594  median =  8.85546875\n",
      "time : width =  0.2652648910880089  median =  0.021296292543411255\n",
      "zenith : width =  0.8211899995803833  median =  -0.10407165437936783\n",
      "azimuth : width =  2.4248709976673126  median =  -0.04737669229507446\n",
      "energy : width =  0.8539904952049255  median =  -0.18943381309509277\n"
     ]
    },
    {
     "data": {
      "image/png": "[encoded data removed]",
      "text/plain": [
       "<Figure size 1728x864 with 24 Axes>"
      ]
     },
     "metadata": {
      "needs_background": "light"
     },
     "output_type": "display_data"
    }
   ],
   "source": [
    "#y_pred_test = model.predict(X_importance_test, batch_size=512)\n",
    "y_pred_test = model.predict(X_test, batch_size=512)\n",
    "y_pred_train = model.predict(X_train, batch_size=512)\n",
    "    \n",
    "err_test = y_pred_test - y_test\n",
    "err_train = y_pred_train - y_train\n",
    "\n",
    "#plot_weights_train = np.ones_like(w_train)\n",
    "#plot_weights_test = np.ones_like(w_test)\n",
    "\n",
    "plot_weights_train = sample_weights_train\n",
    "plot_weights_test = sample_weights_test\n",
    "\n",
    "\n",
    "if 'azimuth' in labels and 'zenith' in labels:\n",
    "    N_subplots = N_labels + 1\n",
    "else:\n",
    "    N_subplots = N_labels\n",
    "\n",
    "fig, ax = plt.subplots(nrows=3, ncols=N_subplots, figsize=(24,12))\n",
    "    \n",
    "qs = [0.01, 0.99]\n",
    "    \n",
    "for i in range(N_labels):\n",
    "    \n",
    "    reco = False\n",
    "    if labels[i] in reco_labels:\n",
    "        reco = True\n",
    "        r_idx = reco_labels.index(labels[i])\n",
    "        err_reco_test = r_test[:, r_idx] - y_test[:, i]\n",
    "        err_reco_train = r_train[:, r_idx] - y_train[:, i]\n",
    "    \n",
    "    \n",
    "    lo, up = np.quantile(np.concatenate([err_train[:,i], err_test[:,i]]), qs)\n",
    "    bins = np.linspace(lo, up, 50)\n",
    "    \n",
    "    ax[0, i].hist(err_train[:,i], bins=bins, alpha=0.5, density=True, weights=plot_weights_train)\n",
    "    ax[0, i].hist(err_test[:,i], bins=bins, alpha=0.5, density=True, weights=plot_weights_test)\n",
    "    \n",
    "    if reco:\n",
    "        ax[0, i].hist(np.concatenate([err_reco_train, err_reco_test]), bins=bins, histtype='step', lw=2, color='k', alpha=0.3, density=True, weights=np.concatenate([plot_weights_train, plot_weights_test]))\n",
    "    \n",
    "    ax[0, i].get_yaxis().set_visible(False)\n",
    "\n",
    "    lo, up = np.quantile(np.concatenate([y_pred_train[:,i], y_train[:,i]]), qs)\n",
    "    bins = np.linspace(lo, up, 50)\n",
    "    ax[1, i].hist(y_train[:,i], bins=bins, histtype='step', lw=2, density=True, weights=plot_weights_train)\n",
    "    ax[1, i].hist(y_pred_train[:,i], bins=bins, alpha=0.5, density=True, weights=plot_weights_train) \n",
    "    \n",
    "    if reco:\n",
    "        ax[1, i].hist(r_train[:, r_idx], bins=bins, histtype='step', lw=2, color='k', alpha=0.3, density=True, weights=plot_weights_train) \n",
    "    \n",
    "    ax[1, i].get_yaxis().set_visible(False)\n",
    "\n",
    "    lo, up = np.quantile(np.concatenate([y_pred_test[:,i], y_test[:,i]]), qs)\n",
    "    bins = np.linspace(lo, up, 50)\n",
    "    ax[2, i].hist(y_test[:,i], bins=bins, histtype='step', lw=2, density=True, weights=plot_weights_test)\n",
    "    ax[2, i].hist(y_pred_test[:,i], bins=bins, alpha=0.5, density=True, weights=plot_weights_test)  \n",
    "    \n",
    "    if reco:\n",
    "        ax[2, i].hist(r_test[:, r_idx], bins=bins, histtype='step', lw=2, color='k', alpha=0.3, density=True, weights=plot_weights_test) \n",
    "    \n",
    "    ax[2, i].get_yaxis().set_visible(False)\n",
    "    ax[2, i].set_xlabel(labels[i])\n",
    "    \n",
    "    q25, q50, q75 = np.quantile(err_test[:,i], [0.25, 0.5, 0.75])\n",
    "    print(labels[i], ': width = ', q75 - q25, ' median = ',q50)\n",
    "    \n",
    "    \n",
    "    \n",
    "if N_subplots > N_labels:\n",
    "    \n",
    "    az_idx = labels.index('azimuth')\n",
    "    zen_idx = labels.index('zenith')\n",
    "    \n",
    "    ad_error_train = angular_dist(y_train[:, zen_idx], y_train[:, az_idx], y_pred_train[:, zen_idx], y_pred_train[:, az_idx])\n",
    "    ad_error_test = angular_dist(y_test[:, zen_idx], y_test[:, az_idx], y_pred_test[:, zen_idx], y_pred_test[:, az_idx])\n",
    "    \n",
    "    lo, up = np.quantile(np.concatenate([ad_error_train, ad_error_test]), qs)\n",
    "    bins = np.linspace(lo, up, 50)\n",
    "    \n",
    "    ax[0, -1].hist(ad_error_train, bins=bins, alpha=0.5,  density=True, weights=plot_weights_train)\n",
    "    ax[0, -1].hist(ad_error_test, bins=bins, alpha=0.5, density=True, weights=plot_weights_test)\n",
    "    \n",
    "    if 'zenith' in reco_labels and 'azimuth' in reco_labels:\n",
    "        r_az_idx = reco_labels.index('azimuth')\n",
    "        r_zen_idx = reco_labels.index('zenith')\n",
    "        ad_error_train = angular_dist(y_train[:, zen_idx], y_train[:, az_idx], r_train[:, r_zen_idx], y_pred_train[:, az_idx])\n",
    "        ad_error_test = angular_dist(y_test[:, zen_idx], y_test[:, az_idx], r_test[:, r_zen_idx], y_pred_test[:, az_idx])\n",
    "        ax[0, -1].hist(np.concatenate([ad_error_test, ad_error_train]), bins=bins, histtype='step', lw=2, color='k', alpha=0.3, density=True, weights=np.concatenate([plot_weights_test, plot_weights_train]))\n",
    "        \n",
    "    \n",
    "    ax[0, -1].get_yaxis().set_visible(False)   \n",
    "    ax[1, -1].get_yaxis().set_visible(False)\n",
    "    ax[2, -1].get_yaxis().set_visible(False)\n",
    "    \n",
    "    ax[2, -1].set_xlabel('Angular Error')"
   ]
  },
  {
   "cell_type": "code",
   "execution_count": 72,
   "metadata": {},
   "outputs": [
    {
     "data": {
      "image/png": "[encoded data removed]",
      "text/plain": [
       "<Figure size 864x864 with 4 Axes>"
      ]
     },
     "metadata": {
      "needs_background": "light"
     },
     "output_type": "display_data"
    }
   ],
   "source": [
    "fig, ax = plt.subplots(2,2, figsize=(12,12))\n",
    "\n",
    "n_bins = 100\n",
    "cmap = 'magma_r'\n",
    "\n",
    "x_bins = np.linspace(-400,400, n_bins)\n",
    "y_bins = np.linspace(-400,400, n_bins)\n",
    "z_bins = np.linspace(-600,-100, n_bins)\n",
    "\n",
    "\n",
    "ax[0,0].hist2d(y_pred_test[:,0], y_pred_test[:,1], bins=(x_bins, y_bins), cmap=cmap);\n",
    "ax[0,0].set_xlabel('x')\n",
    "ax[0,0].set_ylabel('y')\n",
    "ax[0,0].set_title('Predicted')\n",
    "ax[0,1].hist2d(y_test[:,0], y_test[:,1], bins=(x_bins, y_bins), cmap=cmap);\n",
    "ax[0,1].set_xlabel('x')\n",
    "ax[0,1].set_ylabel('y')\n",
    "ax[0,1].set_title('Truth')\n",
    "\n",
    "ax[1,0].hist2d(y_pred_test[:,0], y_pred_test[:,2], bins=(x_bins, z_bins), cmap=cmap);\n",
    "ax[1,0].set_xlabel('x')\n",
    "ax[1,0].set_ylabel('z')\n",
    "ax[1,1].hist2d(y_test[:,0], y_test[:,2], bins=(x_bins, z_bins), cmap=cmap);\n",
    "ax[1,1].set_xlabel('x')\n",
    "ax[1,1].set_ylabel('z')\n",
    "\n",
    "plt.savefig('vertex.png', dpi=300)"
   ]
  },
  {
   "cell_type": "code",
   "execution_count": 73,
   "metadata": {},
   "outputs": [
    {
     "data": {
      "text/plain": [
       "<matplotlib.legend.Legend at 0x7fdef00de950>"
      ]
     },
     "execution_count": 73,
     "metadata": {},
     "output_type": "execute_result"
    },
    {
     "data": {
      "image/png": "[encoded data removed]",
      "text/plain": [
       "<Figure size 864x576 with 1 Axes>"
      ]
     },
     "metadata": {
      "needs_background": "light"
     },
     "output_type": "display_data"
    }
   ],
   "source": [
    "fig, ax = plt.subplots(1, 1, figsize=(12,8))\n",
    "\n",
    "ax.plot(np.concatenate(loss_history), label='train')\n",
    "ax.plot(np.concatenate(val_loss_history), label='test')\n",
    "ax.set_yscale('log')\n",
    "ax.set_xlabel('Epoch')\n",
    "ax.set_ylabel('Loss')\n",
    "ax.legend()"
   ]
  },
  {
   "cell_type": "code",
   "execution_count": 1065,
   "metadata": {},
   "outputs": [
    {
     "data": {
      "text/plain": [
       "(array([  467,  2007,  2014, ..., 89492, 89494, 89497]),)"
      ]
     },
     "execution_count": 1065,
     "metadata": {},
     "output_type": "execute_result"
    }
   ],
   "source": [
    "np.where(np.sum(X[:,:,1], axis = (1,)) > 40)"
   ]
  },
  {
   "cell_type": "code",
   "execution_count": 865,
   "metadata": {},
   "outputs": [
    {
     "data": {
      "text/plain": [
       "(array([5139, 5140]),)"
      ]
     },
     "execution_count": 865,
     "metadata": {},
     "output_type": "execute_result"
    }
   ],
   "source": [
    "np.where(np.sum(X[467], axis=1) > 20)"
   ]
  },
  {
   "cell_type": "code",
   "execution_count": 1066,
   "metadata": {},
   "outputs": [],
   "source": [
    "test = np.arange(5160)"
   ]
  },
  {
   "cell_type": "code",
   "execution_count": 1068,
   "metadata": {},
   "outputs": [
    {
     "data": {
      "text/plain": [
       "<tf.Tensor: id=1344558, shape=(86, 60), dtype=int64, numpy=\n",
       "array([[   0,    1,    2, ...,   57,   58,   59],\n",
       "       [  60,   61,   62, ...,  117,  118,  119],\n",
       "       [ 120,  121,  122, ...,  177,  178,  179],\n",
       "       ...,\n",
       "       [4980, 4981, 4982, ..., 5037, 5038, 5039],\n",
       "       [5040, 5041, 5042, ..., 5097, 5098, 5099],\n",
       "       [5100, 5101, 5102, ..., 5157, 5158, 5159]])>"
      ]
     },
     "execution_count": 1068,
     "metadata": {},
     "output_type": "execute_result"
    }
   ],
   "source": [
    "tf.reshape(test, (86,60))"
   ]
  },
  {
   "cell_type": "code",
   "execution_count": 867,
   "metadata": {},
   "outputs": [
    {
     "data": {
      "text/plain": [
       "array([[ 0.000e+00,  0.000e+00,  0.000e+00,  0.000e+00,  0.000e+00],\n",
       "       [ 5.250e-01,  1.000e+00,  1.780e-01,  1.780e-01,  1.780e-01],\n",
       "       [ 0.000e+00,  0.000e+00,  0.000e+00,  0.000e+00,  0.000e+00],\n",
       "       [ 0.000e+00,  0.000e+00,  0.000e+00,  0.000e+00,  0.000e+00],\n",
       "       [ 1.275e+00,  1.000e+00,  5.500e-02,  5.500e-02,  5.500e-02],\n",
       "       [ 1.275e+00,  1.000e+00,  1.800e-02,  1.800e-02,  1.800e-02],\n",
       "       [ 1.275e+00,  1.000e+00,  1.160e-01,  1.160e-01,  1.160e-01],\n",
       "       [ 4.900e+00,  2.000e+00, -4.100e-02, -3.700e-02, -3.300e-02],\n",
       "       [ 9.950e+00,  4.000e+00, -8.700e-02, -7.250e-02, -1.300e-02],\n",
       "       [ 3.390e+01,  4.000e+00, -1.130e-01, -1.035e-01, -6.500e-02],\n",
       "       [ 4.868e+02,  2.800e+01, -1.390e-01, -5.000e-03,  2.854e+00],\n",
       "       [ 0.000e+00,  0.000e+00,  0.000e+00,  0.000e+00,  0.000e+00],\n",
       "       [ 0.000e+00,  0.000e+00,  0.000e+00,  0.000e+00,  0.000e+00],\n",
       "       [ 0.000e+00,  0.000e+00,  0.000e+00,  0.000e+00,  0.000e+00],\n",
       "       [ 0.000e+00,  0.000e+00,  0.000e+00,  0.000e+00,  0.000e+00]],\n",
       "      dtype=float32)"
      ]
     },
     "execution_count": 867,
     "metadata": {},
     "output_type": "execute_result"
    }
   ],
   "source": [
    "X[467, 5130:5145]"
   ]
  },
  {
   "cell_type": "code",
   "execution_count": 950,
   "metadata": {},
   "outputs": [
    {
     "data": {
      "text/plain": [
       "104.88"
      ]
     },
     "execution_count": 950,
     "metadata": {},
     "output_type": "execute_result"
    }
   ],
   "source": [
    "np.percentile([0,100,102,102,105], 99)"
   ]
  },
  {
   "cell_type": "code",
   "execution_count": 678,
   "metadata": {},
   "outputs": [
    {
     "data": {
      "text/plain": [
       "array([[ 0.18823561,  2.9725177 , -3.9740937 ,  1.4606837 ,  4.8276844 ,\n",
       "        -1.2033705 ]], dtype=float32)"
      ]
     },
     "execution_count": 678,
     "metadata": {},
     "output_type": "execute_result"
    }
   ],
   "source": [
    "model.predict(X[[2098]])"
   ]
  },
  {
   "cell_type": "code",
   "execution_count": 788,
   "metadata": {},
   "outputs": [
    {
     "data": {
      "text/plain": [
       "array([ 5.5249645e+01, -5.0096516e+01, -5.1649866e+02,  2.3528700e+00,\n",
       "        3.7410338e+00,  1.2494776e-10], dtype=float32)"
      ]
     },
     "execution_count": 788,
     "metadata": {},
     "output_type": "execute_result"
    }
   ],
   "source": [
    "y_pred_test[300]"
   ]
  },
  {
   "cell_type": "code",
   "execution_count": 957,
   "metadata": {},
   "outputs": [
    {
     "data": {
      "image/png": "[encoded data removed]",
      "text/plain": [
       "<Figure size 432x288 with 1 Axes>"
      ]
     },
     "metadata": {
      "needs_background": "light"
     },
     "output_type": "display_data"
    }
   ],
   "source": [
    "plt.hist(np.exp(y_pred_train[:,5]), bins=np.linspace(-100, 200, 100));\n",
    "plt.hist(np.exp(y_train[:,5]), bins=np.linspace(-100, 200, 100), alpha=0.5);"
   ]
  },
  {
   "cell_type": "code",
   "execution_count": null,
   "metadata": {},
   "outputs": [],
   "source": []
  }
 ],
 "metadata": {
  "kernelspec": {
   "display_name": "Python 3",
   "language": "python",
   "name": "python3"
  },
  "language_info": {
   "codemirror_mode": {
    "name": "ipython",
    "version": 3
   },
   "file_extension": ".py",
   "mimetype": "text/x-python",
   "name": "python",
   "nbconvert_exporter": "python",
   "pygments_lexer": "ipython3",
   "version": "3.7.4"
  }
 },
 "nbformat": 4,
 "nbformat_minor": 4
}

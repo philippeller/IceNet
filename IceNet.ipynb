{
 "cells": [
  {
   "cell_type": "code",
   "execution_count": 4,
   "metadata": {},
   "outputs": [],
   "source": [
    "import os\n",
    "#os.environ[\"CUDA_VISIBLE_DEVICES\"]=\"1\"\n",
    "os.environ[\"HDF5_USE_FILE_LOCKING\"] = \"FALSE\""
   ]
  },
  {
   "cell_type": "code",
   "execution_count": 5,
   "metadata": {},
   "outputs": [],
   "source": [
    "from __future__ import division, print_function\n",
    "import numpy as np\n",
    "import matplotlib.pyplot as plt\n",
    "import tensorflow as tf\n",
    "\n",
    "%load_ext autoreload\n",
    "%autoreload 2\n",
    "\n",
    "from dataloader import get_data, get_data_3d\n",
    "from sklearn.model_selection import train_test_split\n",
    "\n",
    "#import eli5\n",
    "#from eli5.sklearn import PermutationImportance"
   ]
  },
  {
   "cell_type": "code",
   "execution_count": 6,
   "metadata": {},
   "outputs": [],
   "source": [
    "\n",
    "plt.rcParams['figure.figsize'] = [12., 8.]\n",
    "plt.rcParams['xtick.labelsize'] = 14\n",
    "plt.rcParams['ytick.labelsize'] = 14 \n",
    "plt.rcParams['axes.labelsize'] = 16\n",
    "plt.rcParams['axes.titlesize'] = 16\n",
    "plt.rcParams['legend.fontsize'] = 14"
   ]
  },
  {
   "cell_type": "markdown",
   "metadata": {
    "jupyter": {
     "source_hidden": true
    }
   },
   "source": [
    "# ToDo list\n",
    "* backpropagate to find what features are important\n",
    "* think about feature vector\n",
    "* maybe angle as 2d matrix - one hot encoding\n",
    "* classification (cscd, trck, muon, noise?)\n",
    "* speed up file reader / parallelize\n",
    "* sparse / ragged array w/ tf v 2.1"
   ]
  },
  {
   "cell_type": "code",
   "execution_count": 5,
   "metadata": {},
   "outputs": [
    {
     "data": {
      "text/plain": [
       "True"
      ]
     },
     "execution_count": 5,
     "metadata": {},
     "output_type": "execute_result"
    }
   ],
   "source": [
    "tf.test.is_gpu_available()"
   ]
  },
  {
   "cell_type": "code",
   "execution_count": 1,
   "metadata": {},
   "outputs": [],
   "source": [
    "import h5py\n"
   ]
  },
  {
   "cell_type": "code",
   "execution_count": 2,
   "metadata": {},
   "outputs": [],
   "source": [
    "h = h5py.File('../test_data/oscNext_genie_level3_v01.03_pass2.140000.000800.hdf5', 'r')"
   ]
  },
  {
   "cell_type": "code",
   "execution_count": 5,
   "metadata": {},
   "outputs": [
    {
     "data": {
      "text/plain": [
       "<KeysViewHDF5 ['FilterMask', 'I3EventHeader', 'I3MCTree', 'I3MCWeightDict', 'I3TriggerHierarchy', 'IC2018_LE_L3_Vars', 'IC2018_LE_L3_bools', 'L3_oscNext_bool', 'MCDeepCoreStartingEvent', 'MCInIcePrimary', 'SPEFit2', 'SPEFit2FitParams', 'SPEFit2_DC', 'SPEFit2_DCFitParams', 'SRTTWOfflinePulsesDC', 'SRTTWOfflinePulsesDCHitMultiplicity', 'SRTTWOfflinePulsesDCHitStatistics', 'SRTTWOfflinePulsesDCTimeCharacteristics', 'SplitInIcePulses', 'SplitInIcePulsesHitMultiplicity', 'SplitInIcePulsesHitStatistics', 'SplitInIcePulsesTimeCharacteristics', '__I3Index__']>"
      ]
     },
     "execution_count": 5,
     "metadata": {},
     "output_type": "execute_result"
    }
   ],
   "source": [
    "h.keys()"
   ]
  },
  {
   "cell_type": "code",
   "execution_count": 3,
   "metadata": {},
   "outputs": [
    {
     "data": {
      "text/plain": [
       "dtype({'names':['Run','Event','SubEvent','SubEventStream','exists','string','om','pmt','vector_index','time','width','charge'], 'formats':['<u4','<u4','<u4','<i4','u1','<i4','<u4','<u4','<u8','<f8','<f8','<f8'], 'offsets':[0,4,8,12,16,20,24,28,32,40,48,56], 'itemsize':64})"
      ]
     },
     "execution_count": 3,
     "metadata": {},
     "output_type": "execute_result"
    }
   ],
   "source": [
    "h['SRTTWOfflinePulsesDC'][0]\n",
    "h['SRTTWOfflinePulsesDC'].dtype"
   ]
  },
  {
   "cell_type": "code",
   "execution_count": 8,
   "metadata": {},
   "outputs": [
    {
     "data": {
      "text/plain": [
       "dtype({'names':['Run','Event','SubEvent','SubEventStream','exists','x','y','z','time','zenith','azimuth','energy','speed','length','pdg_encoding','type','shape','location','fit_status'], 'formats':['<u4','<u4','<u4','<i4','u1','<f8','<f8','<f8','<f8','<f8','<f8','<f8','<f8','<f8','<i4','<i4','<i4','<i4','<i4'], 'offsets':[0,4,8,12,16,24,32,40,48,56,64,72,80,88,96,100,104,108,112], 'itemsize':128})"
      ]
     },
     "execution_count": 8,
     "metadata": {},
     "output_type": "execute_result"
    }
   ],
   "source": [
    "h['MCInIcePrimary'][0]\n",
    "h['MCInIcePrimary'].dtype"
   ]
  },
  {
   "cell_type": "code",
   "execution_count": 34,
   "metadata": {},
   "outputs": [
    {
     "data": {
      "text/plain": [
       "13197"
      ]
     },
     "execution_count": 34,
     "metadata": {},
     "output_type": "execute_result"
    }
   ],
   "source": [
    "np.sum(np.isnan(length))"
   ]
  },
  {
   "cell_type": "code",
   "execution_count": 35,
   "metadata": {},
   "outputs": [
    {
     "data": {
      "text/plain": [
       "(13197,)"
      ]
     },
     "execution_count": 35,
     "metadata": {},
     "output_type": "execute_result"
    }
   ],
   "source": [
    "length.shape"
   ]
  },
  {
   "cell_type": "code",
   "execution_count": 19,
   "metadata": {},
   "outputs": [
    {
     "data": {
      "text/plain": [
       "dtype({'names':['Run','Event','SubEvent','SubEventStream','exists','x','y','z','time','zenith','azimuth','energy','speed','length','pdg_encoding','type','shape','location','fit_status'], 'formats':['<u4','<u4','<u4','<i4','u1','<f8','<f8','<f8','<f8','<f8','<f8','<f8','<f8','<f8','<i4','<i4','<i4','<i4','<i4'], 'offsets':[0,4,8,12,16,24,32,40,48,56,64,72,80,88,96,100,104,108,112], 'itemsize':128})"
      ]
     },
     "execution_count": 19,
     "metadata": {},
     "output_type": "execute_result"
    }
   ],
   "source": [
    "h['MCInIcePrimary'].d"
   ]
  },
  {
   "cell_type": "code",
   "execution_count": 14,
   "metadata": {},
   "outputs": [],
   "source": [
    "geo = np.load(\"geo_array.npy\")"
   ]
  },
  {
   "cell_type": "code",
   "execution_count": 16,
   "metadata": {},
   "outputs": [
    {
     "data": {
      "text/plain": [
       "(86, 60, 3)"
      ]
     },
     "execution_count": 16,
     "metadata": {},
     "output_type": "execute_result"
    }
   ],
   "source": [
    "geo.shape"
   ]
  },
  {
   "cell_type": "code",
   "execution_count": 7,
   "metadata": {},
   "outputs": [],
   "source": [
    "t = np.asanyarray(h['MCInIcePrimary'])[['Event', 'x']]"
   ]
  },
  {
   "cell_type": "code",
   "execution_count": 11,
   "metadata": {},
   "outputs": [
    {
     "data": {
      "text/plain": [
       "array([  64.8602006 ,   36.34829112,   36.69151319, ...,   93.83251081,\n",
       "        -52.64937461, -159.68315717])"
      ]
     },
     "execution_count": 11,
     "metadata": {},
     "output_type": "execute_result"
    }
   ],
   "source": [
    "t['x']"
   ]
  },
  {
   "cell_type": "code",
   "execution_count": 12,
   "metadata": {},
   "outputs": [],
   "source": [
    "def angular_dist(zen_true, az_true, zen_pred, az_pred):\n",
    "    dd = tf.math.cos(zen_pred) * tf.math.cos(zen_true) + tf.math.sin(zen_pred) * tf.math.sin(zen_true) * tf.math.cos(az_pred - az_true)\n",
    "    dd = tf.clip_by_value(dd, -1., 1.)\n",
    "    return tf.math.acos(dd)"
   ]
  },
  {
   "cell_type": "code",
   "execution_count": 13,
   "metadata": {},
   "outputs": [
    {
     "data": {
      "image/png": "[encoded data removed]",
      "text/plain": [
       "<Figure size 1080x1080 with 2 Axes>"
      ]
     },
     "metadata": {
      "needs_background": "light"
     },
     "output_type": "display_data"
    }
   ],
   "source": [
    "zenith = np.linspace(-2*np.pi, 3*np.pi, 100)\n",
    "azimuth = np.linspace(-2*np.pi, 3*np.pi, 100)\n",
    "\n",
    "zenzen, azaz = np.meshgrid(zenith, azimuth)\n",
    "\n",
    "true = [0, 1]\n",
    "\n",
    "loss = angular_dist(np.array(true[0], dtype=np.float64), np.array(true[1], dtype=np.float64), zenzen.T, azaz.T)\n",
    "\n",
    "fig, ax = plt.subplots(1, 1, figsize=(15,15))\n",
    "im = ax.imshow(loss, extent=(azimuth[0], azimuth[-1], zenith[0], zenith[-1]), origin='lower')\n",
    "ax.axhline(true[0], color='r')\n",
    "ax.axvline(true[1], color='r')\n",
    "\n",
    "ax.set_xlabel('azimuth')\n",
    "ax.set_ylabel('zenith')\n",
    "\n",
    "cbar = fig.colorbar(im, )\n",
    "cbar.set_label('loss')"
   ]
  },
  {
   "cell_type": "code",
   "execution_count": 14,
   "metadata": {},
   "outputs": [
    {
     "data": {
      "image/png": "[encoded data removed]",
      "text/plain": [
       "<Figure size 432x288 with 1 Axes>"
      ]
     },
     "metadata": {
      "needs_background": "light"
     },
     "output_type": "display_data"
    }
   ],
   "source": [
    "plt.plot(np.asarray(loss).T);"
   ]
  },
  {
   "cell_type": "code",
   "execution_count": 15,
   "metadata": {
    "jupyter": {
     "source_hidden": true
    }
   },
   "outputs": [],
   "source": [
    "def my_loss(y_true, y_pred, sample_weight=1.):\n",
    "\n",
    "    # vertex\n",
    "\n",
    "    #if sample_weight is None:\n",
    "    #sample_weight = 1.\n",
    "\n",
    "    dist = tf.math.sqrt(tf.square(y_pred[:,0] - y_true[:,0]) / 25. + tf.square(y_pred[:,1] - y_true[:,1]) / 25. + tf.square(y_pred[:,2] - y_true[:,2]) / 15.) / 3.\n",
    "    # Huber\n",
    "    delta = 1.\n",
    "    mask = dist < delta\n",
    "    p1 = 0.5 * tf.square(dist[mask])\n",
    "    p2 = delta * (dist[~mask] - 0.5*delta)\n",
    "\n",
    "    vertex_loss =  tf.reduce_mean(tf.concat([p1, p2], axis=0)  )# * sample_weight)\n",
    "\n",
    "    ad = angular_dist(y_true[:,3], y_true[:,4], y_pred[:,3], y_pred[:, 4])\n",
    "\n",
    "    #angular_loss = tf.sqrt(tf.reduce_mean(tf.square(ad))) * 2.\n",
    "\n",
    "    angular_loss = tf.reduce_mean(tf.abs(ad) )#* sample_weight)\n",
    "\n",
    "    #angular_loss = tf.reduce_mean(tf.math.square(tf.math.acos(tf.math.cos(y_pred[:,3]) * tf.math.cos(y_true[:,3]) + tf.math.sin(y_pred[:,3]) * tf.math.sin(y_true[:,3]) * tf.math.cos(y_pred[:,4] - y_true[:,4]))), axis=0)\n",
    "\n",
    "    energy_loss = tf.sqrt(tf.reduce_mean(tf.math.square(y_pred[:,5] - y_true[:,5]) ))#* sample_weight)) / 50.\n",
    "\n",
    "    return energy_loss #+ angular_loss + vertex_loss   #vertex_loss + angular_loss + energy_loss"
   ]
  },
  {
   "cell_type": "code",
   "execution_count": 16,
   "metadata": {},
   "outputs": [],
   "source": [
    "def huber(x, delta):\n",
    "    '''calculate huber loss'''\n",
    "    mask = x < delta\n",
    "    p1 = 0.5 * tf.square(x[mask])\n",
    "    p2 = delta * (x[~mask] - 0.5*delta)\n",
    "    return tf.concat([p1, p2], axis=0)"
   ]
  },
  {
   "cell_type": "code",
   "execution_count": 17,
   "metadata": {},
   "outputs": [],
   "source": [
    "def e_loss(pred, true):\n",
    "    #penalty = tf.dtypes.cast(pred < 0., dtype=pred.dtype) * 20.\n",
    "    diff = tf.abs(pred - true) #/ 10\n",
    "    return diff #+ penalty"
   ]
  },
  {
   "cell_type": "code",
   "execution_count": 18,
   "metadata": {},
   "outputs": [],
   "source": [
    "def v_loss(x_pred, y_pred, z_pred, x_true, y_true, z_true):\n",
    "    dist = tf.math.sqrt(tf.square((x_pred - x_true)/25.)  + tf.square((y_pred - y_true)/25.)  + tf.square((z_pred - z_true))/15.)\n",
    "    return huber(dist, 1.)"
   ]
  },
  {
   "cell_type": "code",
   "execution_count": 19,
   "metadata": {},
   "outputs": [],
   "source": [
    "def t_loss(time_pred, time_true):\n",
    "    return huber(tf.abs(time_pred - time_true), 1.)"
   ]
  },
  {
   "cell_type": "code",
   "execution_count": 20,
   "metadata": {},
   "outputs": [],
   "source": [
    "#def d_loss(dir_x_pred, dir_y_pred, dir_z_pred, dir_x_true, dir_y_true, dir_z_true):\n",
    "#    norm = tf.sqrt(tf.square(dir_x_pred) + tf.square(dir_y_pred) + tf.square(dir_z_pred))\n"
   ]
  },
  {
   "cell_type": "code",
   "execution_count": 21,
   "metadata": {},
   "outputs": [],
   "source": [
    "def a_loss(zen_true, az_true, zen_pred, az_pred):\n",
    "    \n",
    "    dist = angular_dist(zen_true, az_true, zen_pred, az_pred)\n",
    "    \n",
    "    return dist \n",
    "\n",
    "    # penalty term for wrong branch\n",
    "    \n",
    "    az_dist = tf.abs((az_true - az_pred))\n",
    "    zen_dist = tf.abs((zen_true - zen_pred))\n",
    "\n",
    "    return tf.square(zen_dist) + tf.square(az_dist)\n",
    "    return tf.square(tf.square(zen_dist) + tf.square(az_dist))\n",
    "    \n",
    "    az_mask = tf.dtypes.cast((az_dist > 2 * np.pi), dtype=dist.dtype)\n",
    "    az_penalty = az_mask * (az_dist)\n",
    "                             \n",
    "    zen_mask = tf.dtypes.cast((zen_dist > np.pi), dtype=dist.dtype)\n",
    "    zen_penalty = zen_mask * (zen_dist)\n",
    "                     \n",
    "    dist_mask = (1. - az_mask) * (1. - zen_mask)\n",
    "    \n",
    "    \n",
    "    #az_b = tf.abs(((az_true - az_pred) + np.pi) // (2 * np.pi)) == 0.\n",
    "    #zen_b =  tf.abs(zen_true - zen_pred) // (0.5 * np.pi) == 0.\n",
    "    \n",
    "    return dist * dist_mask + (1 - dist_mask) * (az_penalty + zen_penalty)\n",
    "    \n",
    "    \n",
    "    #dd = taylor_sin(zen_pred) * tf.math.sin(zen_true) + taylor_cos(zen_pred) * tf.math.cos(zen_true) * tf.math.cos(az_pred - az_true)\n",
    "\n",
    "    #return dd\n",
    "    \n",
    "    # if angular distance > pi / 2 -> extend loss at pi/2 linearly in az and zen\n",
    "    \n",
    "    az_dist = tf.abs((az_true - az_pred) * tf.abs(tf.math.cos(zen_true)))\n",
    "    #az_dist = tf.maximum(az_dist, np.pi) - np.pi\n",
    "    \n",
    "    \n",
    "    zen_dist = tf.abs(zen_true - zen_pred) * (1 + tf.abs(tf.math.sin(zen_true))) * 0.5\n",
    "    #zen_dist = tf.maximum(zen_dist, 0.5 * np.pi) - 0.5 * np.pi\n",
    "    \n",
    "    lin_term = tf.sqrt(tf.square(az_dist) + tf.square(zen_dist)) #- 0.5 * np.pi\n",
    "    \n",
    "    return lin_term\n",
    "    \n",
    "    #mask = tf.dtypes.cast((dist > 0.5 * np.pi) | (lin_term > 0.25 * np.pi) , dtype=dist.dtype)\n",
    "    \n",
    "    #dist = dist * ( 1. - mask) + mask * lin_term\n",
    "    \n",
    "    #masked_dist = tf.boolean_mask(dist, mask)\n",
    "    \n",
    "    #masked_dist = masked_dist + tf.boolean_mask(lin_term, mask)\n",
    "    \n",
    "    return dist\n",
    "\n",
    "    "
   ]
  },
  {
   "cell_type": "code",
   "execution_count": 144,
   "metadata": {},
   "outputs": [],
   "source": [
    "x_idx = labels.index('x')\n",
    "y_idx = labels.index('y')\n",
    "z_idx = labels.index('z')\n",
    "time_idx = labels.index('time')\n",
    "azimuth_idx = labels.index('azimuth')\n",
    "zenith_idx = labels.index('zenith')\n",
    "energy_idx = labels.index('energy')\n",
    "dir_x_idx = labels.index('dir_x')\n",
    "dir_y_idx = labels.index('dir_y')\n",
    "dir_z_idx = labels.index('dir_z')\n",
    "\n",
    "\n",
    "\n",
    "def my_loss(y_true, y_pred, sample_weight=1.):\n",
    "    \n",
    "    \n",
    "    \n",
    "    return tf.losses.mean_squared_error(y_pred[:,dir_x_idx:dir_z_idx+1], y_true[:,dir_x_idx:dir_z_idx+1])\n",
    "    \n",
    "\n",
    "    vertex_loss = v_loss(y_pred[:,x_idx], y_pred[:,y_idx], y_pred[:,z_idx], y_true[:,x_idx], y_true[:,y_idx], y_true[:,z_idx]) \n",
    "\n",
    "    time_loss = t_loss(y_pred[:,time_idx], y_true[:,time_idx])\n",
    "    \n",
    "    angular_loss = a_loss(y_true[:,zenith_idx], y_true[:,azimuth_idx], y_pred[:,zenith_idx], y_pred[:, azimuth_idx])\n",
    "    \n",
    "    #angular_loss = d_loss(y_pred[:,dir_x_idx], y_pred[:,dir_y_idx], y_pred[:,dir_z_idx], y_true[:,dir_x_idx], y_true[:,dir_y_idx], y_true[:,dir_z_idx])\n",
    "        \n",
    "    energy_loss = e_loss(y_pred[:,energy_idx], y_true[:,energy_idx])\n",
    "\n",
    "    \n",
    "    #return (vertex_loss + time_loss) * sample_weight\n",
    "    #return (energy_loss + angular_loss + vertex_loss + time_loss) * sample_weight\n",
    "    return angular_loss * sample_weight"
   ]
  },
  {
   "cell_type": "code",
   "execution_count": 26,
   "metadata": {},
   "outputs": [],
   "source": [
    "# X, y = get_data(\n",
    "#     '../test_data/oscNext_genie_level3_v01.03_pass2.120000.000120.hdf5',\n",
    "#     features = ['charge'],\n",
    "#     labels = ['z'],\n",
    "#     sparse=True,\n",
    "#     ragged=False,\n",
    "#     N_events=2,\n",
    "#     )\n",
    "\n",
    "# N_events, N_channels, max_pulses, N_features = X.shape\n",
    "# _, N_labels = y.shape"
   ]
  },
  {
   "cell_type": "code",
   "execution_count": 167,
   "metadata": {},
   "outputs": [
    {
     "name": "stderr",
     "output_type": "stream",
     "text": [
      "100%|██████████| 3031/3031 [00:04<00:00, 656.82it/s]\n"
     ]
    },
    {
     "name": "stdout",
     "output_type": "stream",
     "text": [
      "Skipping file ../test_data/oscNext_genie_level3_v01.03_pass2.120000.000010.hdf5\n"
     ]
    },
    {
     "name": "stderr",
     "output_type": "stream",
     "text": [
      "100%|██████████| 9282/9282 [00:25<00:00, 361.93it/s]\n",
      "100%|██████████| 9404/9404 [00:25<00:00, 366.59it/s]\n",
      "100%|██████████| 9258/9258 [00:25<00:00, 357.69it/s]\n",
      "100%|██████████| 9326/9326 [00:25<00:00, 371.83it/s]\n",
      "100%|██████████| 9326/9326 [00:25<00:00, 363.34it/s]\n",
      "100%|██████████| 9344/9344 [00:25<00:00, 362.73it/s]\n",
      "100%|██████████| 9172/9172 [00:24<00:00, 376.20it/s]\n",
      "100%|██████████| 9368/9368 [00:25<00:00, 372.70it/s]\n"
     ]
    },
    {
     "name": "stdout",
     "output_type": "stream",
     "text": [
      "Skipping file ../test_data/oscNext_genie_level3_v01.03_pass2.120000.000100.hdf5\n"
     ]
    },
    {
     "name": "stderr",
     "output_type": "stream",
     "text": [
      "100%|██████████| 9273/9273 [00:25<00:00, 370.47it/s]\n",
      "100%|██████████| 9331/9331 [00:25<00:00, 371.17it/s]\n",
      "100%|██████████| 9211/9211 [00:24<00:00, 370.88it/s]\n",
      "100%|██████████| 9351/9351 [00:24<00:00, 377.49it/s]\n",
      "100%|██████████| 9451/9451 [00:25<00:00, 369.38it/s]\n",
      "100%|██████████| 9289/9289 [00:24<00:00, 372.86it/s]\n",
      "100%|██████████| 9233/9233 [00:25<00:00, 362.31it/s]\n"
     ]
    },
    {
     "name": "stdout",
     "output_type": "stream",
     "text": [
      "Skipping file ../test_data/oscNext_genie_level3_v01.03_pass2.120000.000180.hdf5\n"
     ]
    },
    {
     "name": "stderr",
     "output_type": "stream",
     "text": [
      "100%|██████████| 9413/9413 [00:24<00:00, 384.04it/s]\n",
      "100%|██████████| 9395/9395 [00:26<00:00, 361.33it/s]\n",
      "100%|██████████| 9245/9245 [00:24<00:00, 380.03it/s]\n",
      "100%|██████████| 9321/9321 [00:25<00:00, 368.90it/s]\n",
      "100%|██████████| 9220/9220 [00:24<00:00, 369.40it/s]\n",
      "100%|██████████| 9253/9253 [00:25<00:00, 368.65it/s]\n",
      "100%|██████████| 9225/9225 [00:25<00:00, 366.77it/s]\n",
      "100%|██████████| 9118/9118 [00:24<00:00, 371.12it/s]\n",
      "100%|██████████| 9272/9272 [00:26<00:00, 354.42it/s]\n",
      "100%|██████████| 9250/9250 [00:26<00:00, 351.16it/s]\n"
     ]
    },
    {
     "name": "stdout",
     "output_type": "stream",
     "text": [
      "Skipping file ../test_data/oscNext_genie_level3_v01.03_pass2.120000.000290.hdf5\n"
     ]
    },
    {
     "name": "stderr",
     "output_type": "stream",
     "text": [
      "100%|██████████| 9381/9381 [00:25<00:00, 372.99it/s]\n",
      "100%|██████████| 9352/9352 [00:25<00:00, 366.66it/s]\n",
      "100%|██████████| 9153/9153 [00:25<00:00, 362.01it/s]\n",
      "100%|██████████| 9287/9287 [00:25<00:00, 368.67it/s]\n",
      "100%|██████████| 9213/9213 [00:24<00:00, 378.59it/s]\n",
      "100%|██████████| 9232/9232 [00:25<00:00, 362.71it/s]\n",
      "100%|██████████| 9396/9396 [00:25<00:00, 366.91it/s]\n",
      "100%|██████████| 9276/9276 [00:25<00:00, 359.99it/s]\n",
      "100%|██████████| 9336/9336 [00:25<00:00, 369.68it/s]\n",
      "100%|██████████| 9325/9325 [00:25<00:00, 368.62it/s]\n",
      "100%|██████████| 9277/9277 [00:24<00:00, 371.22it/s]\n",
      "100%|██████████| 9238/9238 [00:25<00:00, 359.62it/s]\n",
      "100%|██████████| 9497/9497 [00:25<00:00, 366.96it/s]\n",
      "100%|██████████| 9385/9385 [00:25<00:00, 366.09it/s]\n",
      "100%|██████████| 9548/9548 [00:25<00:00, 369.12it/s]\n",
      "100%|██████████| 9225/9225 [00:25<00:00, 361.15it/s]\n",
      "100%|██████████| 9246/9246 [00:25<00:00, 360.62it/s]\n",
      "100%|██████████| 9238/9238 [00:24<00:00, 373.12it/s]\n",
      "100%|██████████| 9347/9347 [00:25<00:00, 367.88it/s]\n"
     ]
    },
    {
     "name": "stdout",
     "output_type": "stream",
     "text": [
      "Skipping file ../test_data/oscNext_genie_level3_v01.03_pass2.120000.000490.hdf5\n"
     ]
    }
   ],
   "source": [
    "labels = ['x', 'y', 'z', 'time', 'zenith', 'azimuth', 'dir_x', 'dir_y', 'dir_z', 'energy']\n",
    "reco_labels = labels[:-1]\n",
    "\n",
    "Xs = []\n",
    "ys = []\n",
    "rs = []\n",
    "\n",
    "\n",
    "for i in range(50):\n",
    "    fname = '../test_data/oscNext_genie_level3_v01.03_pass2.120000.000%s0.hdf5'%('%s'%i).zfill(2)\n",
    "    #fname = '../test_data/oscNext_genie_level3_v01.03_pass2.140000.000%s00.hdf5'%i\n",
    "    try:\n",
    "        X, y, r = get_data_3d(\n",
    "            fname,\n",
    "            labels = labels,\n",
    "            reco_labels = reco_labels,\n",
    "            N_events=None,\n",
    "            min_pulses=10,\n",
    "            )\n",
    "        Xs.append(X)\n",
    "        ys.append(y)\n",
    "        rs.append(r)\n",
    "    except OSError:\n",
    "        print('Skipping file %s'%fname)\n",
    "        #raise Exception\n",
    "\n",
    "X = np.concatenate(Xs)\n",
    "y = np.concatenate(ys)\n",
    "r = np.concatenate(rs)\n",
    "    \n",
    "r = np.nan_to_num(r)\n",
    "    \n",
    "w = np.sum(X[:,:,0], axis=1)\n",
    "\n",
    "N_events, N_channels, N_features = X.shape\n",
    "_, N_labels = y.shape\n",
    "\n"
   ]
  },
  {
   "cell_type": "code",
   "execution_count": 168,
   "metadata": {},
   "outputs": [],
   "source": [
    "#np.save('../test_data/X.npy', X)\n",
    "#np.save('../test_data/y.npy', y)"
   ]
  },
  {
   "cell_type": "code",
   "execution_count": 172,
   "metadata": {},
   "outputs": [
    {
     "data": {
      "text/plain": [
       "59571126720"
      ]
     },
     "execution_count": 172,
     "metadata": {},
     "output_type": "execute_result"
    }
   ],
   "source": [
    "X.nbytes"
   ]
  },
  {
   "cell_type": "code",
   "execution_count": 169,
   "metadata": {},
   "outputs": [
    {
     "ename": "MemoryError",
     "evalue": "Unable to allocate array with shape (371082, 5160, 7) and data type float32",
     "output_type": "error",
     "traceback": [
      "\u001b[0;31m---------------------------------------------------------------------------\u001b[0m",
      "\u001b[0;31mMemoryError\u001b[0m                               Traceback (most recent call last)",
      "\u001b[0;32m<ipython-input-169-6282e7303fa7>\u001b[0m in \u001b[0;36m<module>\u001b[0;34m\u001b[0m\n\u001b[0;32m----> 1\u001b[0;31m \u001b[0mX_train\u001b[0m\u001b[0;34m,\u001b[0m \u001b[0mX_test\u001b[0m\u001b[0;34m,\u001b[0m \u001b[0my_train\u001b[0m\u001b[0;34m,\u001b[0m \u001b[0my_test\u001b[0m\u001b[0;34m,\u001b[0m \u001b[0mw_train\u001b[0m\u001b[0;34m,\u001b[0m \u001b[0mw_test\u001b[0m\u001b[0;34m,\u001b[0m \u001b[0mr_train\u001b[0m\u001b[0;34m,\u001b[0m \u001b[0mr_test\u001b[0m \u001b[0;34m=\u001b[0m \u001b[0mtrain_test_split\u001b[0m\u001b[0;34m(\u001b[0m\u001b[0mX\u001b[0m\u001b[0;34m,\u001b[0m \u001b[0my\u001b[0m\u001b[0;34m,\u001b[0m \u001b[0mw\u001b[0m\u001b[0;34m,\u001b[0m \u001b[0mr\u001b[0m\u001b[0;34m,\u001b[0m \u001b[0mtest_size\u001b[0m\u001b[0;34m=\u001b[0m\u001b[0;36m0.1\u001b[0m\u001b[0;34m,\u001b[0m \u001b[0mrandom_state\u001b[0m\u001b[0;34m=\u001b[0m\u001b[0;36m42\u001b[0m\u001b[0;34m)\u001b[0m\u001b[0;34m\u001b[0m\u001b[0;34m\u001b[0m\u001b[0m\n\u001b[0m",
      "\u001b[0;32m/opt/anaconda3/lib/python3.7/site-packages/sklearn/model_selection/_split.py\u001b[0m in \u001b[0;36mtrain_test_split\u001b[0;34m(*arrays, **options)\u001b[0m\n\u001b[1;32m   2122\u001b[0m \u001b[0;34m\u001b[0m\u001b[0m\n\u001b[1;32m   2123\u001b[0m     return list(chain.from_iterable((safe_indexing(a, train),\n\u001b[0;32m-> 2124\u001b[0;31m                                      safe_indexing(a, test)) for a in arrays))\n\u001b[0m\u001b[1;32m   2125\u001b[0m \u001b[0;34m\u001b[0m\u001b[0m\n\u001b[1;32m   2126\u001b[0m \u001b[0;34m\u001b[0m\u001b[0m\n",
      "\u001b[0;32m/opt/anaconda3/lib/python3.7/site-packages/sklearn/model_selection/_split.py\u001b[0m in \u001b[0;36m<genexpr>\u001b[0;34m(.0)\u001b[0m\n\u001b[1;32m   2122\u001b[0m \u001b[0;34m\u001b[0m\u001b[0m\n\u001b[1;32m   2123\u001b[0m     return list(chain.from_iterable((safe_indexing(a, train),\n\u001b[0;32m-> 2124\u001b[0;31m                                      safe_indexing(a, test)) for a in arrays))\n\u001b[0m\u001b[1;32m   2125\u001b[0m \u001b[0;34m\u001b[0m\u001b[0m\n\u001b[1;32m   2126\u001b[0m \u001b[0;34m\u001b[0m\u001b[0m\n",
      "\u001b[0;32m/opt/anaconda3/lib/python3.7/site-packages/sklearn/utils/__init__.py\u001b[0m in \u001b[0;36msafe_indexing\u001b[0;34m(X, indices)\u001b[0m\n\u001b[1;32m    217\u001b[0m                                    indices.dtype.kind == 'i'):\n\u001b[1;32m    218\u001b[0m             \u001b[0;31m# This is often substantially faster than X[indices]\u001b[0m\u001b[0;34m\u001b[0m\u001b[0;34m\u001b[0m\u001b[0;34m\u001b[0m\u001b[0m\n\u001b[0;32m--> 219\u001b[0;31m             \u001b[0;32mreturn\u001b[0m \u001b[0mX\u001b[0m\u001b[0;34m.\u001b[0m\u001b[0mtake\u001b[0m\u001b[0;34m(\u001b[0m\u001b[0mindices\u001b[0m\u001b[0;34m,\u001b[0m \u001b[0maxis\u001b[0m\u001b[0;34m=\u001b[0m\u001b[0;36m0\u001b[0m\u001b[0;34m)\u001b[0m\u001b[0;34m\u001b[0m\u001b[0;34m\u001b[0m\u001b[0m\n\u001b[0m\u001b[1;32m    220\u001b[0m         \u001b[0;32melse\u001b[0m\u001b[0;34m:\u001b[0m\u001b[0;34m\u001b[0m\u001b[0;34m\u001b[0m\u001b[0m\n\u001b[1;32m    221\u001b[0m             \u001b[0;32mreturn\u001b[0m \u001b[0mX\u001b[0m\u001b[0;34m[\u001b[0m\u001b[0mindices\u001b[0m\u001b[0;34m]\u001b[0m\u001b[0;34m\u001b[0m\u001b[0;34m\u001b[0m\u001b[0m\n",
      "\u001b[0;31mMemoryError\u001b[0m: Unable to allocate array with shape (371082, 5160, 7) and data type float32"
     ]
    }
   ],
   "source": [
    "X_train, X_test, y_train, y_test, w_train, w_test, r_train, r_test = train_test_split(X, y, w, r, test_size=0.1, random_state=42)"
   ]
  },
  {
   "cell_type": "code",
   "execution_count": 103,
   "metadata": {},
   "outputs": [],
   "source": [
    "energy_idx = labels.index('energy')\n",
    "\n",
    "y_train[:, energy_idx] = np.log(y_train[:, energy_idx])\n",
    "y_test[:, energy_idx] = np.log(y_test[:, energy_idx])\n",
    "\n",
    "#r_train[:, energy_idx] = np.log(r_train[:, energy_idx])\n",
    "#r_test[:, energy_idx] = np.log(r_test[:, energy_idx])\n"
   ]
  },
  {
   "cell_type": "code",
   "execution_count": 52,
   "metadata": {},
   "outputs": [
    {
     "data": {
      "text/plain": [
       "<tf.Tensor: id=37492, shape=(), dtype=float32, numpy=3.1415927>"
      ]
     },
     "execution_count": 52,
     "metadata": {},
     "output_type": "execute_result"
    }
   ],
   "source": [
    "tf.acos(-1.)"
   ]
  },
  {
   "cell_type": "code",
   "execution_count": 155,
   "metadata": {},
   "outputs": [],
   "source": [
    "class trafo(tf.keras.layers.Layer):\n",
    "    def __init__(self, num_outputs):\n",
    "        super(trafo, self).__init__()\n",
    "        self.num_outputs = num_outputs\n",
    "\n",
    "    def call(self, input):\n",
    "    \n",
    "        norm = tf.sqrt(tf.square(input[:, dir_x_idx]) + tf.square(input[:, dir_y_idx]) + tf.square(input[:, dir_z_idx]))\n",
    "        \n",
    "        mask = tf.dtypes.cast((norm < 1e-7), dtype=norm.dtype)\n",
    "        # where norm == 0, set dir_x = 1\n",
    "        dir_x = input[:, dir_x_idx] + mask\n",
    "        \n",
    "        norm = tf.sqrt(tf.square(dir_x) + tf.square(input[:, dir_y_idx]) + tf.square(input[:, dir_z_idx]))\n",
    "\n",
    "\n",
    "        dir_x = tf.clip_by_value(dir_x / norm, -1., 1.)\n",
    "        dir_y = tf.clip_by_value(input[:, dir_y_idx] / norm, -1., 1.)\n",
    "        dir_z = tf.clip_by_value(input[:, dir_z_idx] / norm, -1., 1.)\n",
    "\n",
    "        zen = tf.acos(dir_z)\n",
    "        az = tf.atan2(dir_y, dir_x) % (2 * np.pi)\n",
    "\n",
    "        out =  tf.concat([input[:,:4], zen[:, tf.newaxis], az[:, tf.newaxis], dir_x[:, tf.newaxis], dir_y[:, tf.newaxis], dir_z[:, tf.newaxis], input[:, 9][:, tf.newaxis]], axis=1)\n",
    "        \n",
    "        #print(out)\n",
    "\n",
    "        return out"
   ]
  },
  {
   "cell_type": "code",
   "execution_count": 156,
   "metadata": {},
   "outputs": [
    {
     "name": "stdout",
     "output_type": "stream",
     "text": [
      "Model: \"model_14\"\n",
      "__________________________________________________________________________________________________\n",
      "Layer (type)                    Output Shape         Param #     Connected to                     \n",
      "==================================================================================================\n",
      "input_17 (InputLayer)           [(None, 5160, 7)]    0                                            \n",
      "__________________________________________________________________________________________________\n",
      "reshape_16 (Reshape)            (None, 86, 420)      0           input_17[0][0]                   \n",
      "__________________________________________________________________________________________________\n",
      "dropout_48 (Dropout)            (None, 86, 420)      0           reshape_16[0][0]                 \n",
      "__________________________________________________________________________________________________\n",
      "lambda_32 (Lambda)              (None, 78, 420)      0           dropout_48[0][0]                 \n",
      "__________________________________________________________________________________________________\n",
      "lambda_33 (Lambda)              (None, 8, 420)       0           dropout_48[0][0]                 \n",
      "__________________________________________________________________________________________________\n",
      "time_distributed_64 (TimeDistri (None, 78, 64)       26944       lambda_32[0][0]                  \n",
      "__________________________________________________________________________________________________\n",
      "time_distributed_65 (TimeDistri (None, 8, 64)        26944       lambda_33[0][0]                  \n",
      "__________________________________________________________________________________________________\n",
      "time_distributed_66 (TimeDistri (None, 78, 16)       1040        time_distributed_64[0][0]        \n",
      "__________________________________________________________________________________________________\n",
      "time_distributed_67 (TimeDistri (None, 8, 16)        1040        time_distributed_65[0][0]        \n",
      "__________________________________________________________________________________________________\n",
      "concatenate_16 (Concatenate)    (None, 86, 16)       0           time_distributed_66[0][0]        \n",
      "                                                                 time_distributed_67[0][0]        \n",
      "__________________________________________________________________________________________________\n",
      "flatten_16 (Flatten)            (None, 1376)         0           concatenate_16[0][0]             \n",
      "__________________________________________________________________________________________________\n",
      "dropout_49 (Dropout)            (None, 1376)         0           flatten_16[0][0]                 \n",
      "__________________________________________________________________________________________________\n",
      "dense_116 (Dense)               (None, 32)           44064       dropout_49[0][0]                 \n",
      "__________________________________________________________________________________________________\n",
      "dropout_50 (Dropout)            (None, 32)           0           dense_116[0][0]                  \n",
      "__________________________________________________________________________________________________\n",
      "dense_117 (Dense)               (None, 32)           1056        dropout_50[0][0]                 \n",
      "__________________________________________________________________________________________________\n",
      "dense_118 (Dense)               (None, 10)           330         dense_117[0][0]                  \n",
      "__________________________________________________________________________________________________\n",
      "trafo_16 (trafo)                (None, 10)           0           dense_118[0][0]                  \n",
      "==================================================================================================\n",
      "Total params: 101,418\n",
      "Trainable params: 101,418\n",
      "Non-trainable params: 0\n",
      "__________________________________________________________________________________________________\n"
     ]
    }
   ],
   "source": [
    "\n",
    "#d_lstm = 1\n",
    "\n",
    "#activation=tf.nn.leaky_relu\n",
    "activation='relu'\n",
    "\n",
    "max_pulses=None\n",
    "\n",
    "# with LSTM\n",
    "#inputs = tf.keras.Input(shape=(N_channels, max_pulses, N_features))#, sparse=True)\n",
    "#h0 = tf.keras.layers.TimeDistributed(tf.keras.layers.LSTM(d_lstm, activation='relu', input_shape=(max_pulses, N_features)), input_shape=(N_channels, max_pulses, N_features), )(inputs, )\n",
    "\n",
    "# without LSTM, simple sum over time\n",
    "inputs = tf.keras.Input(shape=(N_channels, N_features), )\n",
    "\n",
    "\n",
    "h = tf.keras.layers.Reshape((86, 60 * N_features))(inputs)\n",
    "#h1 = tf.keras.layers.Reshape((86, 60, N_features, 1))(h0)\n",
    "\n",
    "h = tf.keras.layers.Dropout(0.01)(h)\n",
    "\n",
    "ic = tf.keras.layers.Lambda(lambda x: x[:, :78])(h)\n",
    "dc = tf.keras.layers.Lambda(lambda x: x[:, 78:])(h)\n",
    "\n",
    "#h_ic = tf.keras.layers.TimeDistributed(tf.keras.layers.Conv2D(2, (8, 1), activation=activation, input_shape=(60, N_features, 1)), input_shape=(78,60, N_features, 1))(ic)\n",
    "#h_dc = tf.keras.layers.TimeDistributed(tf.keras.layers.Conv2D(2, (8, 1), activation=activation, input_shape=(60, N_features, 1)), input_shape=(8,60, N_features, 1))(dc)\n",
    "\n",
    "#h_dc = tf.keras.layers.Reshape((8, 53*7*2))(h_dc)\n",
    "#h_ic = tf.keras.layers.Reshape((78, 53*7*2))(h_ic)\n",
    "\n",
    "h_ic = tf.keras.layers.TimeDistributed(tf.keras.layers.Dense(64, activation=activation, input_shape=(60 * N_features,)), input_shape=(78, 60 * N_features))(ic)\n",
    "h_dc = tf.keras.layers.TimeDistributed(tf.keras.layers.Dense(64, activation=activation, input_shape=(60 * N_features,)), input_shape=(8, 60 * N_features))(dc)\n",
    "\n",
    "#h_ic = tf.keras.layers.TimeDistributed(tf.keras.layers.Dense(32, activation=activation, input_shape=(64,)), input_shape=(78,64))(h_ic)\n",
    "#h_dc = tf.keras.layers.TimeDistributed(tf.keras.layers.Dense(32, activation=activation, input_shape=(64,)), input_shape=(8,64))(h_dc)\n",
    "\n",
    "h_ic = tf.keras.layers.TimeDistributed(tf.keras.layers.Dense(16, activation=activation, input_shape=(64,)), input_shape=(78,64))(h_ic)\n",
    "h_dc = tf.keras.layers.TimeDistributed(tf.keras.layers.Dense(16, activation=activation, input_shape=(64,)), input_shape=(8,64))(h_dc)\n",
    "\n",
    "\n",
    "h = tf.keras.layers.Concatenate(axis=1)([h_ic, h_dc])\n",
    "\n",
    "h = tf.keras.layers.Flatten(input_shape=(86, 16))(h)\n",
    "\n",
    "h = tf.keras.layers.Dropout(0.01)(h)\n",
    "\n",
    "h = tf.keras.layers.Dense(32, activation=activation)(h)\n",
    "h = tf.keras.layers.Dropout(0.01)(h)\n",
    "h = tf.keras.layers.Dense(32, activation=activation)(h)\n",
    "\n",
    "outputs = tf.keras.layers.Dense(N_labels, activation='linear')(h)\n",
    "\n",
    "outputs = trafo(N_labels)(outputs)\n",
    "#converted_outputs = tf.keras.layers.Lambda(lambda x: tf.concat([x[:4], , az, x[6:]))(outputs)\n",
    "\n",
    "model = tf.keras.Model(inputs=inputs, outputs=outputs)\n",
    "\n",
    "model.summary()\n",
    "\n",
    "loss_history = []\n",
    "val_loss_history = []"
   ]
  },
  {
   "cell_type": "code",
   "execution_count": 157,
   "metadata": {},
   "outputs": [],
   "source": [
    "#optimizer = tf.keras.optimizers.SGD(0.001) #, clipnorm=1) # bad\n",
    "#optimizer = tf.keras.optimizers.RMSprop(0.001, )\n",
    "#optimizer = tf.keras.optimizers.Nadam(0.01)\n",
    "optimizer = tf.keras.optimizers.Adam(0.001)\n",
    "\n",
    "#model.compile(loss=angular_dist_loss, optimizer=\"sgd\", )\n",
    "model.compile(loss=my_loss, optimizer=optimizer)"
   ]
  },
  {
   "cell_type": "code",
   "execution_count": 158,
   "metadata": {},
   "outputs": [],
   "source": [
    "#sample_weights_train = np.sqrt(w_train)\n",
    "#sample_weights_test = np.sqrt(w_test)\n",
    "\n",
    "sample_weights_train = np.ones_like(w_train)\n",
    "sample_weights_test = np.ones_like(w_test)"
   ]
  },
  {
   "cell_type": "code",
   "execution_count": 162,
   "metadata": {},
   "outputs": [
    {
     "name": "stdout",
     "output_type": "stream",
     "text": [
      "Train on 69759 samples, validate on 7752 samples\n",
      "Epoch 1/30\n",
      "69759/69759 [==============================] - 4s 55us/sample - loss: 0.3813 - val_loss: 0.5857\n",
      "Epoch 2/30\n",
      "69759/69759 [==============================] - 4s 58us/sample - loss: 0.3782 - val_loss: 0.5835\n",
      "Epoch 3/30\n",
      "69759/69759 [==============================] - 4s 58us/sample - loss: 0.3782 - val_loss: 0.5828\n",
      "Epoch 4/30\n",
      "69759/69759 [==============================] - 4s 54us/sample - loss: 0.3737 - val_loss: 0.5826\n",
      "Epoch 5/30\n",
      "69759/69759 [==============================] - 4s 57us/sample - loss: 0.3708 - val_loss: 0.5879\n",
      "Epoch 6/30\n",
      "69759/69759 [==============================] - 4s 55us/sample - loss: 0.3676 - val_loss: 0.5868\n",
      "Epoch 7/30\n",
      "69759/69759 [==============================] - 4s 55us/sample - loss: 0.3656 - val_loss: 0.5865\n",
      "Epoch 8/30\n",
      "69759/69759 [==============================] - 4s 57us/sample - loss: 0.3664 - val_loss: 0.5847\n",
      "Epoch 9/30\n",
      "69759/69759 [==============================] - 4s 58us/sample - loss: 0.3621 - val_loss: 0.5847\n",
      "Epoch 10/30\n",
      "69759/69759 [==============================] - 5s 77us/sample - loss: 0.3600 - val_loss: 0.5849\n",
      "Epoch 11/30\n",
      "69759/69759 [==============================] - 4s 62us/sample - loss: 0.3594 - val_loss: 0.5866\n",
      "Epoch 12/30\n",
      "69759/69759 [==============================] - 4s 56us/sample - loss: 0.3584 - val_loss: 0.5843\n",
      "Epoch 13/30\n",
      "69759/69759 [==============================] - 4s 60us/sample - loss: 0.3566 - val_loss: 0.5833\n",
      "Epoch 14/30\n",
      "69759/69759 [==============================] - 4s 59us/sample - loss: 0.3562 - val_loss: 0.5850\n",
      "Epoch 15/30\n",
      "69759/69759 [==============================] - 4s 59us/sample - loss: 0.3538 - val_loss: 0.5821\n",
      "Epoch 16/30\n",
      "69759/69759 [==============================] - 4s 59us/sample - loss: 0.3513 - val_loss: 0.5866\n",
      "Epoch 17/30\n",
      "69759/69759 [==============================] - 4s 59us/sample - loss: 0.3494 - val_loss: 0.5885\n",
      "Epoch 18/30\n",
      "69759/69759 [==============================] - 4s 60us/sample - loss: 0.3481 - val_loss: 0.5881\n",
      "Epoch 19/30\n",
      "69759/69759 [==============================] - 4s 55us/sample - loss: 0.3495 - val_loss: 0.5870\n",
      "Epoch 20/30\n",
      "69759/69759 [==============================] - 4s 57us/sample - loss: 0.3481 - val_loss: 0.5874\n",
      "Epoch 21/30\n",
      "69759/69759 [==============================] - 4s 58us/sample - loss: 0.3458 - val_loss: 0.5904\n",
      "Epoch 22/30\n",
      "69759/69759 [==============================] - 4s 57us/sample - loss: 0.3442 - val_loss: 0.5878\n",
      "Epoch 23/30\n",
      "69759/69759 [==============================] - 4s 55us/sample - loss: 0.3415 - val_loss: 0.5865\n",
      "Epoch 24/30\n",
      "69759/69759 [==============================] - 4s 57us/sample - loss: 0.3419 - val_loss: 0.5860\n",
      "Epoch 25/30\n",
      "69759/69759 [==============================] - 4s 59us/sample - loss: 0.3387 - val_loss: 0.5877\n",
      "Epoch 26/30\n",
      "69759/69759 [==============================] - 4s 57us/sample - loss: 0.3391 - val_loss: 0.5871\n",
      "Epoch 27/30\n",
      "69759/69759 [==============================] - 4s 58us/sample - loss: 0.3372 - val_loss: 0.5900\n",
      "Epoch 28/30\n",
      "69759/69759 [==============================] - 4s 58us/sample - loss: 0.3363 - val_loss: 0.5893\n",
      "Epoch 29/30\n",
      "69759/69759 [==============================] - 4s 58us/sample - loss: 0.3351 - val_loss: 0.5897\n",
      "Epoch 30/30\n",
      "69759/69759 [==============================] - 4s 59us/sample - loss: 0.3351 - val_loss: 0.5874\n"
     ]
    }
   ],
   "source": [
    "model.fit(X_train, y_train, sample_weight=sample_weights_train, batch_size=512, epochs=30, validation_data=(X_test, y_test, sample_weights_test), )\n",
    "#model.fit(X_train, y_train, batch_size=512, epochs=30, validation_data=(X_test, y_test))\n",
    "\n",
    "loss_history.append(model.history.history['loss'])\n",
    "val_loss_history.append(model.history.history['val_loss'])"
   ]
  },
  {
   "cell_type": "code",
   "execution_count": 163,
   "metadata": {},
   "outputs": [],
   "source": [
    "#X_importance_test = np.copy(X_test)\n",
    "#X_importance_test[:,:,1] = 0."
   ]
  },
  {
   "cell_type": "code",
   "execution_count": 164,
   "metadata": {},
   "outputs": [
    {
     "name": "stdout",
     "output_type": "stream",
     "text": [
      "x : width =  122.169762134552  median =  -41.21144485473633\n",
      "y : width =  121.56642818450928  median =  40.74817657470703\n",
      "z : width =  181.26000213623047  median =  352.77748107910156\n",
      "time : width =  0.39764802902936935  median =  0.4227118492126465\n",
      "zenith : width =  1.2330713868141174  median =  0.13165944814682007\n",
      "azimuth : width =  3.237860381603241  median =  -0.010369539260864258\n",
      "dir_x : width =  1.0611417815089226  median =  0.030320346355438232\n",
      "dir_y : width =  1.0452057793736458  median =  -0.023164838552474976\n",
      "dir_z : width =  1.0382758378982544  median =  -0.10168424248695374\n",
      "energy : width =  1.9878774881362915  median =  -3.842118263244629\n"
     ]
    },
    {
     "data": {
      "image/png": "[encoded data removed]",
      "text/plain": [
       "<Figure size 1728x864 with 33 Axes>"
      ]
     },
     "metadata": {
      "needs_background": "light"
     },
     "output_type": "display_data"
    }
   ],
   "source": [
    "#y_pred_test = model.predict(X_importance_test, batch_size=512)\n",
    "y_pred_test = model.predict(X_test, batch_size=512)\n",
    "y_pred_train = model.predict(X_train, batch_size=512)\n",
    "    \n",
    "err_test = y_pred_test - y_test\n",
    "err_train = y_pred_train - y_train\n",
    "\n",
    "#plot_weights_train = np.ones_like(w_train)\n",
    "#plot_weights_test = np.ones_like(w_test)\n",
    "\n",
    "plot_weights_train = sample_weights_train\n",
    "plot_weights_test = sample_weights_test\n",
    "\n",
    "\n",
    "if 'azimuth' in labels and 'zenith' in labels:\n",
    "    N_subplots = N_labels + 1\n",
    "else:\n",
    "    N_subplots = N_labels\n",
    "\n",
    "fig, ax = plt.subplots(nrows=3, ncols=N_subplots, figsize=(24,12))\n",
    "    \n",
    "qs = [0.01, 0.99]\n",
    "    \n",
    "for i in range(N_labels):\n",
    "    \n",
    "    reco = False\n",
    "    if labels[i] in reco_labels:\n",
    "        reco = True\n",
    "        r_idx = reco_labels.index(labels[i])\n",
    "        err_reco_test = r_test[:, r_idx] - y_test[:, i]\n",
    "        err_reco_train = r_train[:, r_idx] - y_train[:, i]\n",
    "    \n",
    "    \n",
    "    lo, up = np.quantile(np.concatenate([err_train[:,i], err_test[:,i]]), qs)\n",
    "    bins = np.linspace(lo, up, 50)\n",
    "    \n",
    "    ax[0, i].hist(err_train[:,i], bins=bins, alpha=0.5, density=True, weights=plot_weights_train)\n",
    "    ax[0, i].hist(err_test[:,i], bins=bins, alpha=0.5, density=True, weights=plot_weights_test)\n",
    "    \n",
    "    if reco:\n",
    "        ax[0, i].hist(np.concatenate([err_reco_train, err_reco_test]), bins=bins, histtype='step', lw=2, color='k', alpha=0.3, density=True, weights=np.concatenate([plot_weights_train, plot_weights_test]))\n",
    "    \n",
    "    ax[0, i].get_yaxis().set_visible(False)\n",
    "\n",
    "    lo, up = np.quantile(np.concatenate([y_pred_train[:,i], y_train[:,i]]), qs)\n",
    "    bins = np.linspace(lo, up, 50)\n",
    "    ax[1, i].hist(y_train[:,i], bins=bins, histtype='step', lw=2, density=True, weights=plot_weights_train)\n",
    "    ax[1, i].hist(y_pred_train[:,i], bins=bins, alpha=0.5, density=True, weights=plot_weights_train) \n",
    "    \n",
    "    if reco:\n",
    "        ax[1, i].hist(r_train[:, r_idx], bins=bins, histtype='step', lw=2, color='k', alpha=0.3, density=True, weights=plot_weights_train) \n",
    "    \n",
    "    ax[1, i].get_yaxis().set_visible(False)\n",
    "\n",
    "    lo, up = np.quantile(np.concatenate([y_pred_test[:,i], y_test[:,i]]), qs)\n",
    "    bins = np.linspace(lo, up, 50)\n",
    "    ax[2, i].hist(y_test[:,i], bins=bins, histtype='step', lw=2, density=True, weights=plot_weights_test)\n",
    "    ax[2, i].hist(y_pred_test[:,i], bins=bins, alpha=0.5, density=True, weights=plot_weights_test)  \n",
    "    \n",
    "    if reco:\n",
    "        ax[2, i].hist(r_test[:, r_idx], bins=bins, histtype='step', lw=2, color='k', alpha=0.3, density=True, weights=plot_weights_test) \n",
    "    \n",
    "    ax[2, i].get_yaxis().set_visible(False)\n",
    "    ax[2, i].set_xlabel(labels[i])\n",
    "    \n",
    "    q25, q50, q75 = np.quantile(err_test[:,i], [0.25, 0.5, 0.75])\n",
    "    print(labels[i], ': width = ', q75 - q25, ' median = ',q50)\n",
    "    \n",
    "    \n",
    "    \n",
    "if N_subplots > N_labels:\n",
    "    \n",
    "    az_idx = labels.index('azimuth')\n",
    "    zen_idx = labels.index('zenith')\n",
    "    \n",
    "    ad_error_train = angular_dist(y_train[:, zen_idx], y_train[:, az_idx], y_pred_train[:, zen_idx], y_pred_train[:, az_idx])\n",
    "    ad_error_test = angular_dist(y_test[:, zen_idx], y_test[:, az_idx], y_pred_test[:, zen_idx], y_pred_test[:, az_idx])\n",
    "    \n",
    "    lo, up = np.quantile(np.concatenate([ad_error_train, ad_error_test]), qs)\n",
    "    bins = np.linspace(lo, up, 50)\n",
    "    \n",
    "    ax[0, -1].hist(ad_error_train, bins=bins, alpha=0.5,  density=True, weights=plot_weights_train)\n",
    "    ax[0, -1].hist(ad_error_test, bins=bins, alpha=0.5, density=True, weights=plot_weights_test)\n",
    "    \n",
    "    if 'zenith' in reco_labels and 'azimuth' in reco_labels:\n",
    "        r_az_idx = reco_labels.index('azimuth')\n",
    "        r_zen_idx = reco_labels.index('zenith')\n",
    "        ad_error_train = angular_dist(y_train[:, zen_idx], y_train[:, az_idx], r_train[:, r_zen_idx], y_pred_train[:, az_idx])\n",
    "        ad_error_test = angular_dist(y_test[:, zen_idx], y_test[:, az_idx], r_test[:, r_zen_idx], y_pred_test[:, az_idx])\n",
    "        ax[0, -1].hist(np.concatenate([ad_error_test, ad_error_train]), bins=bins, histtype='step', lw=2, color='k', alpha=0.3, density=True, weights=np.concatenate([plot_weights_test, plot_weights_train]))\n",
    "        \n",
    "    \n",
    "    ax[0, -1].get_yaxis().set_visible(False)   \n",
    "    ax[1, -1].get_yaxis().set_visible(False)\n",
    "    ax[2, -1].get_yaxis().set_visible(False)\n",
    "    \n",
    "    ax[2, -1].set_xlabel('Angular Error')"
   ]
  },
  {
   "cell_type": "code",
   "execution_count": 92,
   "metadata": {},
   "outputs": [
    {
     "data": {
      "text/plain": [
       "array([[-0.0943554 ,  0.05362131, -0.11990575, ...,  0.38360125,\n",
       "         0.8272139 , -0.4105696 ],\n",
       "       [ 0.07694309,  0.01364379, -0.07111135, ..., -0.522455  ,\n",
       "        -0.61727387, -0.5882293 ],\n",
       "       [ 0.00520602,  0.11865813, -0.19266742, ..., -0.0287397 ,\n",
       "         0.9993642 , -0.02110333],\n",
       "       ...,\n",
       "       [ 0.01646459,  0.16814646,  0.07013237, ...,  0.8073916 ,\n",
       "         0.18576872, -0.5600078 ],\n",
       "       [ 0.03925158,  0.05239795, -0.00752792, ..., -0.00650389,\n",
       "         0.7832132 , -0.6217193 ],\n",
       "       [ 0.10761467,  0.08950366, -0.0296243 , ...,  0.8168276 ,\n",
       "        -0.33098337, -0.4724855 ]], dtype=float32)"
      ]
     },
     "execution_count": 92,
     "metadata": {},
     "output_type": "execute_result"
    }
   ],
   "source": [
    "y_pred_test"
   ]
  },
  {
   "cell_type": "code",
   "execution_count": 177,
   "metadata": {},
   "outputs": [
    {
     "data": {
      "image/png": "[encoded data removed]",
      "text/plain": [
       "<Figure size 864x864 with 4 Axes>"
      ]
     },
     "metadata": {
      "needs_background": "light"
     },
     "output_type": "display_data"
    }
   ],
   "source": [
    "fig, ax = plt.subplots(2,2, figsize=(12,12))\n",
    "\n",
    "n_bins = 100\n",
    "cmap = 'magma_r'\n",
    "\n",
    "x_bins = np.linspace(-400,400, n_bins)\n",
    "y_bins = np.linspace(-400,400, n_bins)\n",
    "z_bins = np.linspace(-600,-100, n_bins)\n",
    "\n",
    "\n",
    "ax[0,0].hist2d(y_pred_test[:,0], y_pred_test[:,1], bins=(x_bins, y_bins), cmap=cmap);\n",
    "ax[0,0].set_xlabel('x')\n",
    "ax[0,0].set_ylabel('y')\n",
    "ax[0,0].set_title('Predicted')\n",
    "ax[0,1].hist2d(y_test[:,0], y_test[:,1], bins=(x_bins, y_bins), cmap=cmap);\n",
    "ax[0,1].set_xlabel('x')\n",
    "ax[0,1].set_ylabel('y')\n",
    "ax[0,1].set_title('Truth')\n",
    "\n",
    "ax[1,0].hist2d(y_pred_test[:,0], y_pred_test[:,2], bins=(x_bins, z_bins), cmap=cmap);\n",
    "ax[1,0].set_xlabel('x')\n",
    "ax[1,0].set_ylabel('z')\n",
    "ax[1,1].hist2d(y_test[:,0], y_test[:,2], bins=(x_bins, z_bins), cmap=cmap);\n",
    "ax[1,1].set_xlabel('x')\n",
    "ax[1,1].set_ylabel('z')\n",
    "\n",
    "plt.savefig('vertex.png', dpi=300)"
   ]
  },
  {
   "cell_type": "code",
   "execution_count": 166,
   "metadata": {},
   "outputs": [
    {
     "data": {
      "text/plain": [
       "<matplotlib.legend.Legend at 0x7fa3e05b5f10>"
      ]
     },
     "execution_count": 166,
     "metadata": {},
     "output_type": "execute_result"
    },
    {
     "data": {
      "image/png": "[encoded data removed]",
      "text/plain": [
       "<Figure size 864x576 with 1 Axes>"
      ]
     },
     "metadata": {
      "needs_background": "light"
     },
     "output_type": "display_data"
    }
   ],
   "source": [
    "fig, ax = plt.subplots(1, 1, figsize=(12,8))\n",
    "\n",
    "ax.plot(np.concatenate(loss_history), label='train')\n",
    "ax.plot(np.concatenate(val_loss_history), label='test')\n",
    "#ax.set_yscale('log')\n",
    "ax.set_xlabel('Epoch')\n",
    "ax.set_ylabel('Loss')\n",
    "ax.legend()"
   ]
  },
  {
   "cell_type": "code",
   "execution_count": 130,
   "metadata": {},
   "outputs": [
    {
     "data": {
      "text/plain": [
       "(array([   24,    49,    50, ..., 82512, 82513, 82514]),)"
      ]
     },
     "execution_count": 130,
     "metadata": {},
     "output_type": "execute_result"
    }
   ],
   "source": [
    "np.where(np.sum(X[:,:,1], axis = (1,)) > 40)"
   ]
  },
  {
   "cell_type": "code",
   "execution_count": 131,
   "metadata": {},
   "outputs": [
    {
     "data": {
      "text/plain": [
       "(array([], dtype=int64),)"
      ]
     },
     "execution_count": 131,
     "metadata": {},
     "output_type": "execute_result"
    }
   ],
   "source": [
    "np.where(np.sum(X[467], axis=1) > 20)"
   ]
  },
  {
   "cell_type": "code",
   "execution_count": 132,
   "metadata": {},
   "outputs": [],
   "source": [
    "test = np.arange(5160)"
   ]
  },
  {
   "cell_type": "code",
   "execution_count": 1068,
   "metadata": {},
   "outputs": [
    {
     "data": {
      "text/plain": [
       "<tf.Tensor: id=1344558, shape=(86, 60), dtype=int64, numpy=\n",
       "array([[   0,    1,    2, ...,   57,   58,   59],\n",
       "       [  60,   61,   62, ...,  117,  118,  119],\n",
       "       [ 120,  121,  122, ...,  177,  178,  179],\n",
       "       ...,\n",
       "       [4980, 4981, 4982, ..., 5037, 5038, 5039],\n",
       "       [5040, 5041, 5042, ..., 5097, 5098, 5099],\n",
       "       [5100, 5101, 5102, ..., 5157, 5158, 5159]])>"
      ]
     },
     "execution_count": 1068,
     "metadata": {},
     "output_type": "execute_result"
    }
   ],
   "source": [
    "tf.reshape(test, (86,60))"
   ]
  },
  {
   "cell_type": "code",
   "execution_count": 867,
   "metadata": {},
   "outputs": [
    {
     "data": {
      "text/plain": [
       "array([[ 0.000e+00,  0.000e+00,  0.000e+00,  0.000e+00,  0.000e+00],\n",
       "       [ 5.250e-01,  1.000e+00,  1.780e-01,  1.780e-01,  1.780e-01],\n",
       "       [ 0.000e+00,  0.000e+00,  0.000e+00,  0.000e+00,  0.000e+00],\n",
       "       [ 0.000e+00,  0.000e+00,  0.000e+00,  0.000e+00,  0.000e+00],\n",
       "       [ 1.275e+00,  1.000e+00,  5.500e-02,  5.500e-02,  5.500e-02],\n",
       "       [ 1.275e+00,  1.000e+00,  1.800e-02,  1.800e-02,  1.800e-02],\n",
       "       [ 1.275e+00,  1.000e+00,  1.160e-01,  1.160e-01,  1.160e-01],\n",
       "       [ 4.900e+00,  2.000e+00, -4.100e-02, -3.700e-02, -3.300e-02],\n",
       "       [ 9.950e+00,  4.000e+00, -8.700e-02, -7.250e-02, -1.300e-02],\n",
       "       [ 3.390e+01,  4.000e+00, -1.130e-01, -1.035e-01, -6.500e-02],\n",
       "       [ 4.868e+02,  2.800e+01, -1.390e-01, -5.000e-03,  2.854e+00],\n",
       "       [ 0.000e+00,  0.000e+00,  0.000e+00,  0.000e+00,  0.000e+00],\n",
       "       [ 0.000e+00,  0.000e+00,  0.000e+00,  0.000e+00,  0.000e+00],\n",
       "       [ 0.000e+00,  0.000e+00,  0.000e+00,  0.000e+00,  0.000e+00],\n",
       "       [ 0.000e+00,  0.000e+00,  0.000e+00,  0.000e+00,  0.000e+00]],\n",
       "      dtype=float32)"
      ]
     },
     "execution_count": 867,
     "metadata": {},
     "output_type": "execute_result"
    }
   ],
   "source": [
    "X[467, 5130:5145]"
   ]
  },
  {
   "cell_type": "code",
   "execution_count": 950,
   "metadata": {},
   "outputs": [
    {
     "data": {
      "text/plain": [
       "104.88"
      ]
     },
     "execution_count": 950,
     "metadata": {},
     "output_type": "execute_result"
    }
   ],
   "source": [
    "np.percentile([0,100,102,102,105], 99)"
   ]
  },
  {
   "cell_type": "code",
   "execution_count": 678,
   "metadata": {},
   "outputs": [
    {
     "data": {
      "text/plain": [
       "array([[ 0.18823561,  2.9725177 , -3.9740937 ,  1.4606837 ,  4.8276844 ,\n",
       "        -1.2033705 ]], dtype=float32)"
      ]
     },
     "execution_count": 678,
     "metadata": {},
     "output_type": "execute_result"
    }
   ],
   "source": [
    "model.predict(X[[2098]])"
   ]
  },
  {
   "cell_type": "code",
   "execution_count": 788,
   "metadata": {},
   "outputs": [
    {
     "data": {
      "text/plain": [
       "array([ 5.5249645e+01, -5.0096516e+01, -5.1649866e+02,  2.3528700e+00,\n",
       "        3.7410338e+00,  1.2494776e-10], dtype=float32)"
      ]
     },
     "execution_count": 788,
     "metadata": {},
     "output_type": "execute_result"
    }
   ],
   "source": [
    "y_pred_test[300]"
   ]
  },
  {
   "cell_type": "code",
   "execution_count": 957,
   "metadata": {},
   "outputs": [
    {
     "data": {
      "image/png": "[encoded data removed]",
      "text/plain": [
       "<Figure size 432x288 with 1 Axes>"
      ]
     },
     "metadata": {
      "needs_background": "light"
     },
     "output_type": "display_data"
    }
   ],
   "source": [
    "plt.hist(np.exp(y_pred_train[:,5]), bins=np.linspace(-100, 200, 100));\n",
    "plt.hist(np.exp(y_train[:,5]), bins=np.linspace(-100, 200, 100), alpha=0.5);"
   ]
  },
  {
   "cell_type": "code",
   "execution_count": 185,
   "metadata": {},
   "outputs": [
    {
     "ename": "ValueError",
     "evalue": "'list' argument must have no negative elements",
     "output_type": "error",
     "traceback": [
      "\u001b[0;31m---------------------------------------------------------------------------\u001b[0m",
      "\u001b[0;31mValueError\u001b[0m                                Traceback (most recent call last)",
      "\u001b[0;32m<ipython-input-185-662d964d1530>\u001b[0m in \u001b[0;36m<module>\u001b[0;34m\u001b[0m\n\u001b[0;32m----> 1\u001b[0;31m \u001b[0mnp\u001b[0m\u001b[0;34m.\u001b[0m\u001b[0mwhere\u001b[0m\u001b[0;34m(\u001b[0m\u001b[0mnp\u001b[0m\u001b[0;34m.\u001b[0m\u001b[0mbincount\u001b[0m\u001b[0;34m(\u001b[0m\u001b[0mnp\u001b[0m\u001b[0;34m.\u001b[0m\u001b[0marange\u001b[0m\u001b[0;34m(\u001b[0m\u001b[0;34m-\u001b[0m\u001b[0;36m3\u001b[0m\u001b[0;34m,\u001b[0m\u001b[0;36m10\u001b[0m\u001b[0;34m)\u001b[0m\u001b[0;34m)\u001b[0m \u001b[0;34m>\u001b[0m \u001b[0;36m0\u001b[0m\u001b[0;34m)\u001b[0m\u001b[0;34m\u001b[0m\u001b[0;34m\u001b[0m\u001b[0m\n\u001b[0m",
      "\u001b[0;32m<__array_function__ internals>\u001b[0m in \u001b[0;36mbincount\u001b[0;34m(*args, **kwargs)\u001b[0m\n",
      "\u001b[0;31mValueError\u001b[0m: 'list' argument must have no negative elements"
     ]
    }
   ],
   "source": [
    "np.where(np.bincount(np.arange(-3,10)) > 0)"
   ]
  },
  {
   "cell_type": "code",
   "execution_count": 189,
   "metadata": {},
   "outputs": [
    {
     "data": {
      "text/plain": [
       "<tf.Tensor: id=340172, shape=(2, 60), dtype=int64, numpy=\n",
       "array([[  0,   1,   2,   3,   4,   5,   6,   7,   8,   9,  10,  11,  12,\n",
       "         13,  14,  15,  16,  17,  18,  19,  20,  21,  22,  23,  24,  25,\n",
       "         26,  27,  28,  29,  30,  31,  32,  33,  34,  35,  36,  37,  38,\n",
       "         39,  40,  41,  42,  43,  44,  45,  46,  47,  48,  49,  50,  51,\n",
       "         52,  53,  54,  55,  56,  57,  58,  59],\n",
       "       [ 60,  61,  62,  63,  64,  65,  66,  67,  68,  69,  70,  71,  72,\n",
       "         73,  74,  75,  76,  77,  78,  79,  80,  81,  82,  83,  84,  85,\n",
       "         86,  87,  88,  89,  90,  91,  92,  93,  94,  95,  96,  97,  98,\n",
       "         99, 100, 101, 102, 103, 104, 105, 106, 107, 108, 109, 110, 111,\n",
       "        112, 113, 114, 115, 116, 117, 118, 119]])>"
      ]
     },
     "execution_count": 189,
     "metadata": {},
     "output_type": "execute_result"
    }
   ],
   "source": [
    "tf.reshape(np.arange(120), (2,60))"
   ]
  },
  {
   "cell_type": "code",
   "execution_count": 215,
   "metadata": {},
   "outputs": [
    {
     "data": {
      "text/plain": [
       "{1, 2, 3}"
      ]
     },
     "execution_count": 215,
     "metadata": {},
     "output_type": "execute_result"
    }
   ],
   "source": [
    "\n",
    "set([1,2,3]).difference(set([5]))"
   ]
  },
  {
   "cell_type": "code",
   "execution_count": null,
   "metadata": {},
   "outputs": [],
   "source": []
  }
 ],
 "metadata": {
  "kernelspec": {
   "display_name": "Python 3",
   "language": "python",
   "name": "python3"
  },
  "language_info": {
   "codemirror_mode": {
    "name": "ipython",
    "version": 3
   },
   "file_extension": ".py",
   "mimetype": "text/x-python",
   "name": "python",
   "nbconvert_exporter": "python",
   "pygments_lexer": "ipython3",
   "version": "3.7.4"
  }
 },
 "nbformat": 4,
 "nbformat_minor": 4
}
